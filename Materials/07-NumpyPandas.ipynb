{
 "cells": [
  {
   "cell_type": "markdown",
   "metadata": {
    "slideshow": {
     "slide_type": "slide"
    }
   },
   "source": [
    "# Numpy & Pandas\n",
    "In this notebook, we'll encounter two packages for scientific computing in Python: NumPy and Pandas.\n",
    "\n",
    "**At the end of this notebook, you'll be able to:**\n",
    "* Install and import packages for Python\n",
    "* Create NumPy arrays\n",
    "* Execute methods & access attributes of arrays\n",
    "* Create & manipulate Pandas dataframes\n"
   ]
  },
  {
   "cell_type": "markdown",
   "metadata": {
    "slideshow": {
     "slide_type": "slide"
    }
   },
   "source": [
    "## Importing packages\n",
    "\n",
    "Before we can use numpy or pandas, we need to import them. We can also nickname the modules when we import them.\n",
    "\n",
    "The convention is to import `numpy` as `np` and `pandas` as `pd`."
   ]
  },
  {
   "cell_type": "code",
   "execution_count": 1,
   "metadata": {
    "slideshow": {
     "slide_type": "fragment"
    }
   },
   "outputs": [
    {
     "name": "stdout",
     "output_type": "stream",
     "text": [
      "Variable   Type      Data/Info\n",
      "------------------------------\n",
      "np         module    <module 'numpy' from '/op<...>kages/numpy/__init__.py'>\n",
      "pd         module    <module 'pandas' from '/o<...>ages/pandas/__init__.py'>\n"
     ]
    }
   ],
   "source": [
    "# Import packages\n",
    "import numpy as np\n",
    "import pandas as pd\n",
    "\n",
    "# Use whos 'magic command' to see available modules\n",
    "%whos"
   ]
  },
  {
   "cell_type": "markdown",
   "metadata": {
    "slideshow": {
     "slide_type": "slide"
    }
   },
   "source": [
    "## Numpy\n",
    "\n",
    "**Numpy** is the fundamental package for scientific computing with Python. It'll allow us to work with bigger datasets more efficiently."
   ]
  },
  {
   "cell_type": "markdown",
   "metadata": {
    "slideshow": {
     "slide_type": "slide"
    }
   },
   "source": [
    "### Creating `numpy` arrays\n",
    "\n",
    "A numpy **array** is a grid of values which are all the same type (they’re homogenous).\n",
    "\n",
    "We can create a numpy array in a few different ways:\n",
    "\n",
    "* from a Python list or tuples\n",
    "* by using functions that are dedicated to generating numpy arrays, such as `arange`, `linspace`, `empty`,`zeroes`, etc.\n",
    "* reading data from files"
   ]
  },
  {
   "cell_type": "code",
   "execution_count": 2,
   "metadata": {
    "slideshow": {
     "slide_type": "slide"
    }
   },
   "outputs": [
    {
     "data": {
      "text/plain": [
       "numpy.ndarray"
      ]
     },
     "execution_count": 2,
     "metadata": {},
     "output_type": "execute_result"
    }
   ],
   "source": [
    "# Create a list\n",
    "lst = [1,2,3,4,5]\n",
    "\n",
    "# Make our list into an array\n",
    "my_vector = np.array(lst)\n",
    "type(my_vector)"
   ]
  },
  {
   "cell_type": "code",
   "execution_count": 19,
   "metadata": {
    "slideshow": {
     "slide_type": "fragment"
    }
   },
   "outputs": [
    {
     "name": "stdout",
     "output_type": "stream",
     "text": [
      "[[1 2 3 4 5]\n",
      " [1 2 3 4 5]]\n"
     ]
    }
   ],
   "source": [
    "# If we give numpy a list of lists, it will create a matrix\n",
    "my_matrix = np.array([lst,lst])\n",
    "print(my_matrix)"
   ]
  },
  {
   "cell_type": "markdown",
   "metadata": {
    "slideshow": {
     "slide_type": "slide"
    }
   },
   "source": [
    "### Accessing attributes of numpy arrays\n",
    "We can test shape and size either by looking at the attribute of the array, or by using the `shape()` and `size()` functions.\n",
    "\n",
    "Other attributes that might be of interest are `ndim` and `dtype`."
   ]
  },
  {
   "cell_type": "code",
   "execution_count": 7,
   "metadata": {
    "slideshow": {
     "slide_type": "fragment"
    }
   },
   "outputs": [
    {
     "name": "stdout",
     "output_type": "stream",
     "text": [
      "1\n",
      "(5,)\n",
      "5\n",
      "2\n",
      "(2, 5)\n",
      "10\n"
     ]
    }
   ],
   "source": [
    "# Check the dimensions of vector\n",
    "print(my_vector.ndim)\n",
    "print(my_vector.shape)\n",
    "print(my_vector.size)\n",
    "\n",
    "# Check the dimensions of matrix\n",
    "print(my_matrix.ndim)\n",
    "print(my_matrix.shape)\n",
    "print(my_matrix.size)"
   ]
  },
  {
   "cell_type": "markdown",
   "metadata": {
    "slideshow": {
     "slide_type": "slide"
    }
   },
   "source": [
    "Array data type is decided upon creation of the array.\n",
    "\n",
    "You can explicitly define the data type by using `dtype= ` when you use `np.array()`. You can set the dtype to be `int, float, complex, bool, object`, etc"
   ]
  },
  {
   "cell_type": "code",
   "execution_count": 16,
   "metadata": {
    "slideshow": {
     "slide_type": "fragment"
    }
   },
   "outputs": [
    {
     "data": {
      "text/plain": [
       "array([[1.+0.j, 2.+0.j, 3.+0.j, 4.+0.j, 5.+0.j],\n",
       "       [1.+0.j, 2.+0.j, 3.+0.j, 4.+0.j, 5.+0.j]])"
      ]
     },
     "execution_count": 16,
     "metadata": {},
     "output_type": "execute_result"
    }
   ],
   "source": [
    "my_matrix.dtype \n",
    "\n",
    "my_complex_array = np.array([lst,lst],dtype='complex')\n",
    "my_complex_array"
   ]
  },
  {
   "cell_type": "markdown",
   "metadata": {
    "slideshow": {
     "slide_type": "slide"
    }
   },
   "source": [
    "<div class=\"alert alert-success\">\n",
    "\n",
    "**Task**: Create an array of booleans called `bool_array` that is 2 rows x 3 columns. Access the `shape` and `ndim` attributes to confirm its size, and the `dtype` attribute to confirm that it is boolean.\n",
    "\n",
    "</div>"
   ]
  },
  {
   "cell_type": "code",
   "execution_count": 11,
   "metadata": {
    "slideshow": {
     "slide_type": "fragment"
    }
   },
   "outputs": [
    {
     "name": "stdout",
     "output_type": "stream",
     "text": [
      "(2, 3)\n",
      "2\n",
      "bool\n"
     ]
    }
   ],
   "source": [
    "a1 = [True, False, False]\n",
    "a2 = [False, True, True]\n",
    "bool_array = np.array([a1, a2], dtype = 'bool')\n",
    "print(bool_array.shape)\n",
    "print(bool_array.ndim)\n",
    "print(bool_array.dtype)"
   ]
  },
  {
   "cell_type": "markdown",
   "metadata": {
    "slideshow": {
     "slide_type": "slide"
    }
   },
   "source": [
    "### Indexing & slicing arrays\n",
    "\n",
    "Indexing and slicing 1D arrays (vectors) is similar to indexing lists.\n",
    "\n",
    "You can index matrices using `[row,column]`. If you omit the column, it will give you the whole row.\n",
    "\n",
    "If you use `:` for either row or column, it will give you all of those values."
   ]
  },
  {
   "cell_type": "code",
   "execution_count": 29,
   "metadata": {
    "slideshow": {
     "slide_type": "fragment"
    }
   },
   "outputs": [
    {
     "name": "stdout",
     "output_type": "stream",
     "text": [
      "[[1 2 8 4 5]\n",
      " [1 2 3 4 5]]\n"
     ]
    },
    {
     "data": {
      "text/plain": [
       "array([1, 2, 3, 4, 5])"
      ]
     },
     "execution_count": 29,
     "metadata": {},
     "output_type": "execute_result"
    }
   ],
   "source": [
    "print(my_matrix)\n",
    "my_matrix[1,:]"
   ]
  },
  {
   "cell_type": "markdown",
   "metadata": {
    "slideshow": {
     "slide_type": "slide"
    }
   },
   "source": [
    "We can also index arrays using booleans or lists. When we use Booleans, we can think of this as *filtering* the array. For example:"
   ]
  },
  {
   "cell_type": "code",
   "execution_count": 30,
   "metadata": {
    "slideshow": {
     "slide_type": "fragment"
    }
   },
   "outputs": [
    {
     "name": "stdout",
     "output_type": "stream",
     "text": [
      "[[1 2 8 4 5]\n",
      " [1 2 3 4 5]]\n",
      "[8 4 5 3 4 5]\n",
      "[2 4]\n"
     ]
    }
   ],
   "source": [
    "# Index with an operator\n",
    "bool_matrix = my_matrix[my_matrix>2]\n",
    "\n",
    "# Index with a list of coordinates\n",
    "list_matrix = my_matrix[[0,1],[1,3]]\n",
    "\n",
    "print(my_matrix)\n",
    "print(bool_matrix)\n",
    "print(list_matrix)"
   ]
  },
  {
   "cell_type": "markdown",
   "metadata": {
    "slideshow": {
     "slide_type": "subslide"
    }
   },
   "source": [
    "<div class=\"alert alert-success\">\n",
    "\n",
    "**Task**: Filter the `bool_array` you created above to create a `true_array` that only contains True values.\n",
    "\n",
    "</div>"
   ]
  },
  {
   "cell_type": "code",
   "execution_count": 15,
   "metadata": {
    "slideshow": {
     "slide_type": "fragment"
    }
   },
   "outputs": [
    {
     "name": "stdout",
     "output_type": "stream",
     "text": [
      "[ True  True  True]\n"
     ]
    }
   ],
   "source": [
    "true_array = bool_array[bool_array == True]\n",
    "print(true_array)"
   ]
  },
  {
   "cell_type": "markdown",
   "metadata": {
    "slideshow": {
     "slide_type": "slide"
    }
   },
   "source": [
    "We can also change values in an array similar to how we would change values in a list."
   ]
  },
  {
   "cell_type": "code",
   "execution_count": 20,
   "metadata": {
    "slideshow": {
     "slide_type": "fragment"
    }
   },
   "outputs": [
    {
     "name": "stdout",
     "output_type": "stream",
     "text": [
      "[[1 2 3 4 5]\n",
      " [1 2 3 4 5]]\n",
      "[[1 2 8 4 5]\n",
      " [1 2 3 4 5]]\n"
     ]
    }
   ],
   "source": [
    "print(my_matrix)\n",
    "my_matrix[0][2] = 8\n",
    "print(my_matrix)"
   ]
  },
  {
   "cell_type": "markdown",
   "metadata": {
    "slideshow": {
     "slide_type": "slide"
    }
   },
   "source": [
    "### Benefits of using arrays\n",
    "In addition to being less clunky & a bit faster than lists of lists, arrays can do a lot of things that lists can't. For example, we can add and multiply them. Alternatively, we can use the `sum` method to sum across a specific axis."
   ]
  },
  {
   "cell_type": "code",
   "execution_count": 21,
   "metadata": {
    "slideshow": {
     "slide_type": "fragment"
    }
   },
   "outputs": [
    {
     "name": "stdout",
     "output_type": "stream",
     "text": [
      "[1, 3, 5, 3, 5, 7]\n",
      "[ 4  8 12]\n"
     ]
    }
   ],
   "source": [
    "sum_list = [1,3,5] + [3,5,7]\n",
    "sum_array = np.array([1,3,5]) + np.array([3,5,7])\n",
    "\n",
    "print(sum_list)\n",
    "print(sum_array)"
   ]
  },
  {
   "cell_type": "code",
   "execution_count": 26,
   "metadata": {
    "slideshow": {
     "slide_type": "slide"
    }
   },
   "outputs": [
    {
     "name": "stdout",
     "output_type": "stream",
     "text": [
      "[[1 3 5 7]\n",
      " [3 5 7 9]]\n",
      "[16 24]\n"
     ]
    }
   ],
   "source": [
    "this_array = np.array([[1,3,5],[3,5,7]])\n",
    "sum_rows = this_array.sum(axis=0)\n",
    "print(this_array)\n",
    "print(sum_rows)"
   ]
  },
  {
   "cell_type": "markdown",
   "metadata": {
    "slideshow": {
     "slide_type": "slide"
    }
   },
   "source": [
    "### Numpy also includes some very useful array generating functions:\n",
    "\n",
    "* `arange`: like `range` but gives you a useful numpy array, instead of an interator, and can use more than just integers)\n",
    "* `linspace` creates an array with given start and end points, and a desired number of points\n",
    "* `logspace` same as linspace, but in log.\n",
    "* `random` can create a random list (there are <a href=\"https://docs.scipy.org/doc/numpy-1.14.0/reference/routines.random.html\">many different ways to use this</a>)\n",
    "* `concatenate` which can concatenate two arrays along an existing axis [<a href=\"https://docs.scipy.org/doc/numpy/reference/generated/numpy.concatenate.html\">documentation</a>]\n",
    "* `hstack` and `vstack` which can horizontally or vertically stack arrays\n",
    "\n",
    "Whenever we call these, we need to use whatever name we imported numpy as (here, `np`)."
   ]
  },
  {
   "cell_type": "code",
   "execution_count": 31,
   "metadata": {
    "slideshow": {
     "slide_type": "fragment"
    }
   },
   "outputs": [
    {
     "data": {
      "text/plain": [
       "array([  0.        ,  16.33333333,  32.66666667,  49.        ,\n",
       "        65.33333333,  81.66666667,  98.        , 114.33333333,\n",
       "       130.66666667, 147.        ])"
      ]
     },
     "execution_count": 31,
     "metadata": {},
     "output_type": "execute_result"
    }
   ],
   "source": [
    "# When using linspace, both end points are included!\n",
    "np.linspace(0,147,10)"
   ]
  },
  {
   "cell_type": "markdown",
   "metadata": {
    "slideshow": {
     "slide_type": "slide"
    }
   },
   "source": [
    "<div class=\"alert alert-success\">\n",
    "\n",
    "**Task**: Create an array called `big_array` that has two rows. The first row should be a list of 10 numbers that are evenly spaced, and range from exactly 1 to 100. The second row should be a list of 10 numbers that begin at 0 and are exactly 10 apart. `big_array` should have a shape (2,10): two rows, and ten columns. Lastly, reassign the last value of each row in the array to be -100. \n",
    "\n",
    "*Hint*: Create your two arrays, and then use the `vstack` method to stack them.\n",
    "\n",
    "</div>"
   ]
  },
  {
   "cell_type": "code",
   "execution_count": 41,
   "metadata": {
    "slideshow": {
     "slide_type": "fragment"
    }
   },
   "outputs": [
    {
     "name": "stdout",
     "output_type": "stream",
     "text": [
      "[[  1.  12.  23.  34.  45.  56.  67.  78.  89. 100.]\n",
      " [  0.  10.  20.  30.  40.  50.  60.  70.  80.  90.]]\n",
      "[[   1.   12.   23.   34.   45.   56.   67.   78.   89. -100.]\n",
      " [   0.   10.   20.   30.   40.   50.   60.   70.   80. -100.]]\n"
     ]
    }
   ],
   "source": [
    "big_array = np.array([np.linspace(1,100,10), np.arange(0,100,10)])\n",
    "print(big_array)\n",
    "big_array.shape\n",
    "big_array[:,-1] = -100\n",
    "print(big_array)\n"
   ]
  },
  {
   "cell_type": "markdown",
   "metadata": {
    "slideshow": {
     "slide_type": "slide"
    }
   },
   "source": [
    "Numpy also has built in methods to save and load dataframes: `np.save()` and `np.load()`. Numpy files have a .npy extension.\n",
    "\n",
    "See full documentation <a href=\"https://docs.scipy.org/doc/numpy/reference/generated/numpy.save.html\">here</a>."
   ]
  },
  {
   "cell_type": "code",
   "execution_count": null,
   "metadata": {
    "slideshow": {
     "slide_type": "fragment"
    }
   },
   "outputs": [],
   "source": [
    "# Save method takes arguments 'filename' and then 'array':\n",
    "np.save('matrix',my_matrix)"
   ]
  },
  {
   "cell_type": "code",
   "execution_count": null,
   "metadata": {
    "slideshow": {
     "slide_type": "fragment"
    }
   },
   "outputs": [],
   "source": [
    "np.load('matrix.npy')"
   ]
  },
  {
   "cell_type": "markdown",
   "metadata": {
    "slideshow": {
     "slide_type": "slide"
    }
   },
   "source": [
    "# Pandas\n",
    "\n",
    "Pandas is a useful module that creates **data frames** (think of these like Excel spreadsheets, but much faster!). \n",
    "\n",
    "We can think of Pandas as \"numpy with labels\".\n"
   ]
  },
  {
   "cell_type": "markdown",
   "metadata": {
    "slideshow": {
     "slide_type": "slide"
    }
   },
   "source": [
    "### Benefits of Pandas\n",
    "* Great for real-world, heterogeneous data\n",
    "* Similar to Excel spreadsheets (but way faster!)\n",
    "* Smartly deals with missing data\n",
    "\n",
    "We can work with the gene expression data from a2 as a Pandas dataframe!\n"
   ]
  },
  {
   "cell_type": "code",
   "execution_count": 45,
   "metadata": {
    "slideshow": {
     "slide_type": "slide"
    }
   },
   "outputs": [
    {
     "data": {
      "text/html": [
       "<div>\n",
       "<style scoped>\n",
       "    .dataframe tbody tr th:only-of-type {\n",
       "        vertical-align: middle;\n",
       "    }\n",
       "\n",
       "    .dataframe tbody tr th {\n",
       "        vertical-align: top;\n",
       "    }\n",
       "\n",
       "    .dataframe thead th {\n",
       "        text-align: right;\n",
       "    }\n",
       "</style>\n",
       "<table border=\"1\" class=\"dataframe\">\n",
       "  <thead>\n",
       "    <tr style=\"text-align: right;\">\n",
       "      <th></th>\n",
       "      <th>CA1 field</th>\n",
       "      <th>CA2 field</th>\n",
       "      <th>CA3 field</th>\n",
       "      <th>CA4 field</th>\n",
       "      <th>Crus I, lateral hemisphere</th>\n",
       "      <th>Crus I, paravermis</th>\n",
       "      <th>Crus II, lateral hemisphere</th>\n",
       "      <th>Crus II, paravermis</th>\n",
       "      <th>Edinger-Westphal nucleus</th>\n",
       "      <th>Heschl's gyrus</th>\n",
       "      <th>...</th>\n",
       "      <th>temporal pole, inferior aspect</th>\n",
       "      <th>temporal pole, medial aspect</th>\n",
       "      <th>temporal pole, superior aspect</th>\n",
       "      <th>transverse gyri</th>\n",
       "      <th>trochlear nucleus</th>\n",
       "      <th>tuberomammillary nucleus</th>\n",
       "      <th>ventral tegmental area</th>\n",
       "      <th>ventromedial hypothalamic nucleus</th>\n",
       "      <th>vestibular nuclei</th>\n",
       "      <th>zona incerta</th>\n",
       "    </tr>\n",
       "    <tr>\n",
       "      <th>gene_symbol</th>\n",
       "      <th></th>\n",
       "      <th></th>\n",
       "      <th></th>\n",
       "      <th></th>\n",
       "      <th></th>\n",
       "      <th></th>\n",
       "      <th></th>\n",
       "      <th></th>\n",
       "      <th></th>\n",
       "      <th></th>\n",
       "      <th></th>\n",
       "      <th></th>\n",
       "      <th></th>\n",
       "      <th></th>\n",
       "      <th></th>\n",
       "      <th></th>\n",
       "      <th></th>\n",
       "      <th></th>\n",
       "      <th></th>\n",
       "      <th></th>\n",
       "      <th></th>\n",
       "    </tr>\n",
       "  </thead>\n",
       "  <tbody>\n",
       "    <tr>\n",
       "      <th>A1BG</th>\n",
       "      <td>0.856487</td>\n",
       "      <td>-1.773695</td>\n",
       "      <td>-0.678679</td>\n",
       "      <td>-0.986914</td>\n",
       "      <td>0.826986</td>\n",
       "      <td>0.948039</td>\n",
       "      <td>0.935427</td>\n",
       "      <td>1.120774</td>\n",
       "      <td>-1.018554</td>\n",
       "      <td>0.170282</td>\n",
       "      <td>...</td>\n",
       "      <td>0.277830</td>\n",
       "      <td>0.514923</td>\n",
       "      <td>0.733368</td>\n",
       "      <td>-0.104286</td>\n",
       "      <td>-0.910245</td>\n",
       "      <td>1.039610</td>\n",
       "      <td>-0.155167</td>\n",
       "      <td>-0.444398</td>\n",
       "      <td>-0.901361</td>\n",
       "      <td>-0.236790</td>\n",
       "    </tr>\n",
       "    <tr>\n",
       "      <th>A1BG-AS1</th>\n",
       "      <td>0.257664</td>\n",
       "      <td>-1.373085</td>\n",
       "      <td>-0.619923</td>\n",
       "      <td>-0.636275</td>\n",
       "      <td>0.362799</td>\n",
       "      <td>0.353296</td>\n",
       "      <td>0.422766</td>\n",
       "      <td>0.346853</td>\n",
       "      <td>-0.812015</td>\n",
       "      <td>0.903358</td>\n",
       "      <td>...</td>\n",
       "      <td>1.074116</td>\n",
       "      <td>0.821031</td>\n",
       "      <td>1.219272</td>\n",
       "      <td>0.901213</td>\n",
       "      <td>-1.522431</td>\n",
       "      <td>0.598719</td>\n",
       "      <td>-1.709745</td>\n",
       "      <td>-0.054156</td>\n",
       "      <td>-1.695843</td>\n",
       "      <td>-1.155961</td>\n",
       "    </tr>\n",
       "    <tr>\n",
       "      <th>A1CF</th>\n",
       "      <td>-0.089614</td>\n",
       "      <td>-0.546903</td>\n",
       "      <td>0.282914</td>\n",
       "      <td>-0.528926</td>\n",
       "      <td>0.507916</td>\n",
       "      <td>0.577696</td>\n",
       "      <td>0.647671</td>\n",
       "      <td>0.306824</td>\n",
       "      <td>0.089958</td>\n",
       "      <td>0.149820</td>\n",
       "      <td>...</td>\n",
       "      <td>-0.030265</td>\n",
       "      <td>-0.187367</td>\n",
       "      <td>-0.428358</td>\n",
       "      <td>-0.465863</td>\n",
       "      <td>-0.136936</td>\n",
       "      <td>1.229487</td>\n",
       "      <td>-0.110680</td>\n",
       "      <td>-0.118175</td>\n",
       "      <td>-0.139776</td>\n",
       "      <td>0.123829</td>\n",
       "    </tr>\n",
       "    <tr>\n",
       "      <th>A2M</th>\n",
       "      <td>0.552415</td>\n",
       "      <td>-0.635485</td>\n",
       "      <td>-0.954995</td>\n",
       "      <td>-0.259745</td>\n",
       "      <td>-1.687391</td>\n",
       "      <td>-1.756847</td>\n",
       "      <td>-1.640242</td>\n",
       "      <td>-1.733110</td>\n",
       "      <td>-0.091695</td>\n",
       "      <td>0.003428</td>\n",
       "      <td>...</td>\n",
       "      <td>-0.058505</td>\n",
       "      <td>0.207109</td>\n",
       "      <td>-0.161808</td>\n",
       "      <td>0.183630</td>\n",
       "      <td>0.948098</td>\n",
       "      <td>-0.977692</td>\n",
       "      <td>0.911896</td>\n",
       "      <td>-0.499357</td>\n",
       "      <td>1.469386</td>\n",
       "      <td>0.557998</td>\n",
       "    </tr>\n",
       "    <tr>\n",
       "      <th>A2ML1</th>\n",
       "      <td>0.758031</td>\n",
       "      <td>1.549857</td>\n",
       "      <td>1.262225</td>\n",
       "      <td>1.338780</td>\n",
       "      <td>-0.289888</td>\n",
       "      <td>-0.407026</td>\n",
       "      <td>-0.358798</td>\n",
       "      <td>-0.589988</td>\n",
       "      <td>0.944684</td>\n",
       "      <td>-0.466327</td>\n",
       "      <td>...</td>\n",
       "      <td>-0.472908</td>\n",
       "      <td>-0.598317</td>\n",
       "      <td>-0.247797</td>\n",
       "      <td>-0.282673</td>\n",
       "      <td>1.396365</td>\n",
       "      <td>0.945043</td>\n",
       "      <td>0.158202</td>\n",
       "      <td>0.572771</td>\n",
       "      <td>0.073088</td>\n",
       "      <td>-0.886780</td>\n",
       "    </tr>\n",
       "  </tbody>\n",
       "</table>\n",
       "<p>5 rows × 232 columns</p>\n",
       "</div>"
      ],
      "text/plain": [
       "             CA1 field  CA2 field  CA3 field  CA4 field  \\\n",
       "gene_symbol                                               \n",
       "A1BG          0.856487  -1.773695  -0.678679  -0.986914   \n",
       "A1BG-AS1      0.257664  -1.373085  -0.619923  -0.636275   \n",
       "A1CF         -0.089614  -0.546903   0.282914  -0.528926   \n",
       "A2M           0.552415  -0.635485  -0.954995  -0.259745   \n",
       "A2ML1         0.758031   1.549857   1.262225   1.338780   \n",
       "\n",
       "             Crus I, lateral hemisphere  Crus I, paravermis  \\\n",
       "gene_symbol                                                   \n",
       "A1BG                           0.826986            0.948039   \n",
       "A1BG-AS1                       0.362799            0.353296   \n",
       "A1CF                           0.507916            0.577696   \n",
       "A2M                           -1.687391           -1.756847   \n",
       "A2ML1                         -0.289888           -0.407026   \n",
       "\n",
       "             Crus II, lateral hemisphere  Crus II, paravermis  \\\n",
       "gene_symbol                                                     \n",
       "A1BG                            0.935427             1.120774   \n",
       "A1BG-AS1                        0.422766             0.346853   \n",
       "A1CF                            0.647671             0.306824   \n",
       "A2M                            -1.640242            -1.733110   \n",
       "A2ML1                          -0.358798            -0.589988   \n",
       "\n",
       "             Edinger-Westphal nucleus  Heschl's gyrus  ...  \\\n",
       "gene_symbol                                            ...   \n",
       "A1BG                        -1.018554        0.170282  ...   \n",
       "A1BG-AS1                    -0.812015        0.903358  ...   \n",
       "A1CF                         0.089958        0.149820  ...   \n",
       "A2M                         -0.091695        0.003428  ...   \n",
       "A2ML1                        0.944684       -0.466327  ...   \n",
       "\n",
       "             temporal pole, inferior aspect  temporal pole, medial aspect  \\\n",
       "gene_symbol                                                                 \n",
       "A1BG                               0.277830                      0.514923   \n",
       "A1BG-AS1                           1.074116                      0.821031   \n",
       "A1CF                              -0.030265                     -0.187367   \n",
       "A2M                               -0.058505                      0.207109   \n",
       "A2ML1                             -0.472908                     -0.598317   \n",
       "\n",
       "             temporal pole, superior aspect  transverse gyri  \\\n",
       "gene_symbol                                                    \n",
       "A1BG                               0.733368        -0.104286   \n",
       "A1BG-AS1                           1.219272         0.901213   \n",
       "A1CF                              -0.428358        -0.465863   \n",
       "A2M                               -0.161808         0.183630   \n",
       "A2ML1                             -0.247797        -0.282673   \n",
       "\n",
       "             trochlear nucleus  tuberomammillary nucleus  \\\n",
       "gene_symbol                                                \n",
       "A1BG                 -0.910245                  1.039610   \n",
       "A1BG-AS1             -1.522431                  0.598719   \n",
       "A1CF                 -0.136936                  1.229487   \n",
       "A2M                   0.948098                 -0.977692   \n",
       "A2ML1                 1.396365                  0.945043   \n",
       "\n",
       "             ventral tegmental area  ventromedial hypothalamic nucleus  \\\n",
       "gene_symbol                                                              \n",
       "A1BG                      -0.155167                          -0.444398   \n",
       "A1BG-AS1                  -1.709745                          -0.054156   \n",
       "A1CF                      -0.110680                          -0.118175   \n",
       "A2M                        0.911896                          -0.499357   \n",
       "A2ML1                      0.158202                           0.572771   \n",
       "\n",
       "             vestibular nuclei  zona incerta  \n",
       "gene_symbol                                   \n",
       "A1BG                 -0.901361     -0.236790  \n",
       "A1BG-AS1             -1.695843     -1.155961  \n",
       "A1CF                 -0.139776      0.123829  \n",
       "A2M                   1.469386      0.557998  \n",
       "A2ML1                 0.073088     -0.886780  \n",
       "\n",
       "[5 rows x 232 columns]"
      ]
     },
     "execution_count": 45,
     "metadata": {},
     "output_type": "execute_result"
    }
   ],
   "source": [
    "# Import necessary packages\n",
    "from csv import reader\n",
    "import pandas as pd\n",
    "\n",
    "# Read in the list of lists as a data frame\n",
    "gene_df = pd.read_csv('brainarea_vs_genes_exp_w_reannotations.tsv',sep='\\t',index_col = 'gene_symbol')\n",
    "gene_df.head() # Show the first five rows"
   ]
  },
  {
   "cell_type": "markdown",
   "metadata": {
    "slideshow": {
     "slide_type": "slide"
    }
   },
   "source": [
    "Indexing in Pandas  works slightly different. Similar to a dictionary, we can index values by their names.\n",
    "\n",
    "* Use `df['index']` for columns, and method `.loc` for rows.\n",
    "* Use `.iloc` to index by #."
   ]
  },
  {
   "cell_type": "code",
   "execution_count": 67,
   "metadata": {
    "slideshow": {
     "slide_type": "fragment"
    }
   },
   "outputs": [
    {
     "name": "stdout",
     "output_type": "stream",
     "text": [
      "cingulum bundle                      1.966820\n",
      "corpus callosum                      2.173866\n",
      "emboliform nucleus                   1.631351\n",
      "fastigial nucleus                    1.891645\n",
      "globose nucleus                      1.919081\n",
      "globus pallidus, external segment    1.889369\n",
      "globus pallidus, internal segment    1.813221\n",
      "lateral habenular nucleus            1.761793\n",
      "lateral parabrachial nucleus         1.811779\n",
      "medial habenular nucleus             1.563363\n",
      "red nucleus                          1.914885\n",
      "reticular nucleus of thalamus        1.629758\n",
      "substantia nigra, pars reticulata    1.950869\n",
      "zona incerta                         1.515921\n",
      "Name: DISC1, dtype: float64\n"
     ]
    }
   ],
   "source": [
    "DISC1_data = gene_df.loc['DISC1']\n",
    "print(DISC1_data[DISC1_data > 1.5])\n",
    "#DISC1_data['CA4 field']"
   ]
  },
  {
   "cell_type": "markdown",
   "metadata": {
    "slideshow": {
     "slide_type": "slide"
    }
   },
   "source": [
    "Pandas has many, many useful methods that you can use on your data, including `describe`, `mean`, and more."
   ]
  },
  {
   "cell_type": "code",
   "execution_count": 47,
   "metadata": {
    "slideshow": {
     "slide_type": "fragment"
    }
   },
   "outputs": [
    {
     "data": {
      "text/plain": [
       "count    232.000000\n",
       "mean      -0.006324\n",
       "std        0.965280\n",
       "min       -1.572527\n",
       "25%       -0.715778\n",
       "50%       -0.132084\n",
       "75%        0.831907\n",
       "max        2.173866\n",
       "Name: DISC1, dtype: float64"
      ]
     },
     "execution_count": 47,
     "metadata": {},
     "output_type": "execute_result"
    }
   ],
   "source": [
    "DISC1_data.describe()"
   ]
  },
  {
   "cell_type": "markdown",
   "metadata": {},
   "source": [
    "## Resources\n",
    "Check out the <a href=\"https://docs.scipy.org/doc/numpy/user/index.html\">NumPy user guide</a> if you ever have a question about a NumPy array!"
   ]
  },
  {
   "cell_type": "markdown",
   "metadata": {},
   "source": [
    "## About this notebook\n",
    "This notebook is largely derived from UCSD COGS18 Materials, created by Tom Donoghue & Shannon Ellis, as well as <a href=\"https://github.com/jrjohansson/scientific-python-lectures/blob/master/Lecture-2-Numpy.ipynb\">JR Johannson's Scientific Python Lecture on Numpy</a>.\n",
    "\n",
    "\n",
    "Want to run this notebook as a slideshow? If you have Python (or Anaconda) follow <a href=\"http://www.blog.pythonlibrary.org/2018/09/25/creating-presentations-with-jupyter-notebook/\">these instructions</a> to setup your computer with the RISE plugin."
   ]
  }
 ],
 "metadata": {
  "celltoolbar": "Slideshow",
  "kernelspec": {
   "display_name": "Python 3",
   "language": "python",
   "name": "python3"
  },
  "language_info": {
   "codemirror_mode": {
    "name": "ipython",
    "version": 3
   },
   "file_extension": ".py",
   "mimetype": "text/x-python",
   "name": "python",
   "nbconvert_exporter": "python",
   "pygments_lexer": "ipython3",
   "version": "3.6.7"
  },
  "rise": {
   "theme": "serif"
  }
 },
 "nbformat": 4,
 "nbformat_minor": 2
}
