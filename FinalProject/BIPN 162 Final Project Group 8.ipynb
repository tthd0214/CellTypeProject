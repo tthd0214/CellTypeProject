{
 "cells": [
  {
   "cell_type": "markdown",
   "metadata": {},
   "source": [
    "# Contributions"
   ]
  },
  {
   "cell_type": "markdown",
   "metadata": {},
   "source": [
    "Dexter (Tat Hei) Tsin:\n",
    "\n",
    "Spencer Young:\n",
    "\n",
    "Yosef:"
   ]
  },
  {
   "cell_type": "markdown",
   "metadata": {},
   "source": [
    "# Abstract"
   ]
  },
  {
   "cell_type": "markdown",
   "metadata": {},
   "source": [
    "We mined gene expression and electrophysiology data for the anterolateral area (AL) and the posteromedial (PM) area of the mice visual cortex from the Allen Brain Observatory and the Allen Cell Types Database and proceeded to plot this data. We found that the PM area expressed genes that play an integral role in the transport of molecules and ions into and out of the cell while the AL area expressed no such genes. We also found that the resting membrane potential of the two regions are very similar with the median resting potential of the AL area being -71 mV and the median resting potential of the PM area being -72 mV, and we observed a similar trend in the positive correlation between the fast trough depth vs. the upstroke-downstroke ratio of the two areas. Finally, we found that both areas of the visual cortex have very similar number of direction selective cells with the AL having 169 and the PM having 171 and both areas of the visual cortex have similar number of cells with a signal response to drifting gratings with the AL having 3517 and the PM having 3220. "
   ]
  },
  {
   "cell_type": "markdown",
   "metadata": {},
   "source": [
    "# Research Question"
   ]
  },
  {
   "cell_type": "markdown",
   "metadata": {},
   "source": [
    "How do differences in gene expression, upstroke downstroke ratio, resting membrane potential, and directional selectivity lead to the genetic differentiation and functional specialization between the anterolateral area (AL) and the posteromedial area (PM) in higher visual areas of the mice?"
   ]
  },
  {
   "cell_type": "markdown",
   "metadata": {},
   "source": [
    "# Background and Prior Work"
   ]
  },
  {
   "cell_type": "markdown",
   "metadata": {},
   "source": [
    "Uncovering the mechanisms behind the flow and processing of visual information is a difficult problem, yet one that is fundamental to understanding the sensory systems as a whole. A necessary step toward the detailed study of the visual hierarchy is a thorough characterization of boundaries and visual field representations.[1] Mouse brains are made up of many millions of cells called neurons that are interconnected to form neuronal circuits.[2] Neurons that express similar genes tend to look and have electrophysiological alike, whereas neurons that express different genes tend to be dissimilar. [2] We want to determine which genes and the resulting functional specialization are expressed in groups of neurons that represent the many cell types found in many parts of the brain, including the visual cortex.[1]\n",
    "\n",
    "Specialized neural circuits process visual information in parallel hierarchical streams, leading to complex visual perception and behavior.[3] Distinct channels of visual information begin in the retina of the eye and synapse through the lateral geniculate nucleus to the primary visual cortex (V1), forming the building blocks for visual perception.[3] In this proposal, we are comparing the differences of the anterolateral area (AL) and the posteromedial (PM) area in higher visual areas of mice's visual cortex. Anderman et al. found that the anterolateral area (AL) of the visual cortex responsible for guiding behavior involving fast-moving stimuli and the posteromedial(PM) area helps guide behavior involving slow-moving objects. [3] These behaviors are critical in understanding higher-order cognition, a complex area of thinking which refers to the mental processes of reasoning, decision making, and creativity, etc. Zariwala, Hatim A., et al. looked at the genetic differences in the visual cortex with cre-transgenic mice.[4] \n",
    "\n",
    "The data sets that we are working with Allen Brain Observatory and Allen Cell Type data. The Allen Brain Observatory is data for how visual stimuli are represented by neural activity in the mouse visual cortex in both single cells and populations. A calcium imaging for different mouse cre lines with calcium reporter was analyzed during exposure to five classical visual stimuli: Drifting Gratings, Static Gratings, Natural Scenes, Natural Movies, Locally Sparse Noise. There are 30 experiments with the drifting gradient for both visual cortex regions that have data for directional selective, differential response to the direction of a visual stimulus. The Allen Brain Observatory provides a dataset to survey information encoding in the visual cortex. The Allen Cell Type data is data from a single neuron from mice and humans from electrophysiological, morphological, and transcriptomic data. For electrophysiology data, the researchers did a whole-cell patch-clamp recording to find upstroke and downstroke for over 2,000 neurons. The transcriptomic data is collected using an RNA sequence of single cells. The gene transcripts are isolated from whole cells or nuclei, amplified, and sequenced, and then aligned to a reference genome. There is data for gene expression for 2,000 genes in both the anterolateral area (AL) and the posteromedial area (PM). \n",
    "\n",
    "\n",
    "## References (include links):\n",
    "(1) Wang, Q., & Burkhalter, A. (2007). Area map of mouse visual cortex. The Journal of Comparative Neurology, 502(3), 339–357. doi:10.1002/cne.21286 https://www.ncbi.nlm.nih.gov/pubmed/17366604\n",
    "\n",
    "(2) de Vries, S.E.J., Lecoq, J.A., Buice, M.A. et al. A large-scale standardized physiological survey reveals functional organization of the mouse visual cortex. Nat Neurosci 23, 138–151 (2020). https://doi.org/10.1038/s41593-019-0550-9\n",
    "\n",
    "(3) Andermann, Mark L et al. “Functional specialization of mouse higher visual cortical areas.” Neuron vol. 72,6 (2011): 1025-39. doi:10.1016/j.neuron.2011.11.013 https://www.ncbi.nlm.nih.gov/pubmed/22196337\n",
    "\n",
    "(4) Zariwala, Hatim A., et al. \"Visual tuning properties of genetically identified layer 2/3 neuronal types in the primary visual cortex of cre-transgenic mice.\" Frontiers in systems neuroscience 4 (2011): 162.https://www.ncbi.nlm.nih.gov/pubmed/21283555\n",
    "\n"
   ]
  },
  {
   "cell_type": "markdown",
   "metadata": {},
   "source": [
    "# Hypothesis\n"
   ]
  },
  {
   "cell_type": "markdown",
   "metadata": {},
   "source": [
    "We hypothesize that the anterolateral area and the posteromedial area will be dissimilar in gene expression because the anterolateral area of the visual cortex should have a gene expression pattern that will allow for it to guide behavior involving fast moving stimuli while the posteromedial area should have a gene expression pattern that will allow for it to guide behavior involving slow moving objects. We also expect the electrophysiological features of the two brain areas to be dissimilar. The resting membrane potential and upstroke-downstroke ratio vs. fast trough depth trend is expected to be different between the two areas because neurons that express different genes tend to have electrophysiological characteristics that are dissimilar. "
   ]
  },
  {
   "cell_type": "markdown",
   "metadata": {},
   "source": [
    "# Code\n",
    "## Set-up\n",
    "*The packages and datasets required in this project is provided below*"
   ]
  },
  {
   "cell_type": "code",
   "execution_count": 20,
   "metadata": {},
   "outputs": [],
   "source": [
    "# Importing required packages for the project\n",
    "import io\n",
    "import json\n",
    "import requests\n",
    "import pprint\n",
    "import numpy as np\n",
    "import pandas as pd\n",
    "import seaborn as sns\n",
    "import matplotlib as mpl\n",
    "import matplotlib.pyplot as plt\n",
    "import allensdk.brain_observatory.stimulus_info as stim_info\n",
    "\n",
    "from sklearn.decomposition import PCA  \n",
    "from pandas.io.json import json_normalize\n",
    "from scipy.spatial.distance import pdist, squareform\n",
    "from allensdk.core.cell_types_cache import CellTypesCache\n",
    "from allensdk.api.queries.cell_types_api import CellTypesApi\n",
    "from allensdk.core.brain_observatory_cache import BrainObservatoryCache\n",
    "from allensdk.brain_observatory.ecephys.ecephys_project_cache import EcephysProjectCache\n",
    "from allensdk.core.mouse_connectivity_cache import MouseConnectivityCache\n",
    "from allensdk.api.queries.rma_api import RmaApi\n",
    "\n",
    "# Set up style and palette for seaborn plot\n",
    "sns.set(style=\"darkgrid\")\n",
    "sns.set_palette(\"bright\")"
   ]
  },
  {
   "cell_type": "markdown",
   "metadata": {},
   "source": [
    "Download required mouse data from Allen Cell Types Database"
   ]
  },
  {
   "cell_type": "code",
   "execution_count": 21,
   "metadata": {},
   "outputs": [],
   "source": [
    "ctc = CellTypesCache(manifest_file='cell_types/manifest.json')\n",
    "mouse_df = pd.DataFrame(ctc.get_cells(species=[CellTypesApi.MOUSE]))"
   ]
  },
  {
   "cell_type": "markdown",
   "metadata": {},
   "source": [
    "### Import CSV including ISH gene expression data from the two structures\n",
    "\n",
    "#### Approach:\n",
    "\n",
    "1. Did query search on Allen ISH data\n",
    "2. Download as .xml format, then convert it into .csv format through online platform\n",
    "3. Uploaded into the folder as \"VISal_VISpm_Converted_No_Threshold.csv\" and \"VISpm_VISal_Converted_No_Threshold.csv\"\n",
    "\n",
    "\n",
    "The query search is provided below:\n",
    "http://api.brain-map.org/api/v2/data/query.xml?criteria=service::mouse_differential[set$eq'mouse'][structures1$eq402][structures2$eq533]\n",
    "\n",
    "http://api.brain-map.org/api/v2/data/query.xml?criteria=service::mouse_differential[set$eq'mouse'][structures1$eq533][structures2$eq402]\n",
    "\n",
    "Visual AnteriorLateral Area : Structure.id = 533\n",
    "\n",
    "Visual PosteriorMedial Area : Structure.id = 402\n",
    "\n",
    "Primary Visual Cortex: Structure.id = 385\n",
    "\n",
    "Visual Areas: Structure.id = 669\n",
    "\n",
    "Basic Cell groups: Structure.id = 8\n"
   ]
  },
  {
   "cell_type": "markdown",
   "metadata": {},
   "source": [
    "#### Package all the api requests that will implement differential search of structures in Allen database."
   ]
  },
  {
   "cell_type": "code",
   "execution_count": 22,
   "metadata": {},
   "outputs": [],
   "source": [
    "PM_AL_API = \"http://api.brain-map.org/api/v2/data/query.json?criteria=service::mouse_differential[set$eq'mouse'][structures1$eq402][structures2$eq533]\"\n",
    "AL_PM_API = \"http://api.brain-map.org/api/v2/data/query.json?criteria=service::mouse_differential[set$eq'mouse'][structures1$eq533][structures2$eq402]\"\n",
    "NL_AL_API = \"http://api.brain-map.org/api/v2/data/query.json?criteria=service::mouse_differential[set$eq'mouse'][structures1$eq533][structures2$eq385]\"\n",
    "NL_PM_API = \"http://api.brain-map.org/api/v2/data/query.json?criteria=service::mouse_differential[set$eq'mouse'][structures1$eq402][structures2$eq385]\""
   ]
  },
  {
   "cell_type": "markdown",
   "metadata": {},
   "source": [
    "#### Request the genetic data from Allen API service, then converting all the json data into pandas dataframe"
   ]
  },
  {
   "cell_type": "code",
   "execution_count": 23,
   "metadata": {},
   "outputs": [],
   "source": [
    "PM_AL = requests.get(PM_AL_API)\n",
    "PM_AL_json = PM_AL.json()\n",
    "PM_AL_json_processed = PM_AL_json['msg']\n",
    "new_columns = list(PM_AL_json_processed[0].keys())\n",
    "VISpm_VISal_pd = pd.DataFrame(columns = new_columns)\n",
    "\n",
    "for dictionaries in PM_AL_json_processed:\n",
    "    gene_list = pd.DataFrame(list(dictionaries.items())).transpose()\n",
    "    gene_list.columns = gene_list.loc[0]\n",
    "    gene_list = pd.DataFrame(gene_list.drop(0))\n",
    "    VISpm_VISal_pd = pd.concat([VISpm_VISal_pd, gene_list])\n",
    "    \n",
    "AL_PM = requests.get(AL_PM_API)\n",
    "AL_PM_json = AL_PM.json()\n",
    "AL_PM_json_processed = AL_PM_json['msg']\n",
    "new_columns = list(AL_PM_json_processed[0].keys())\n",
    "VISal_VISpm_pd = pd.DataFrame(columns = new_columns)\n",
    "\n",
    "for dictionaries in AL_PM_json_processed:\n",
    "    gene_list = pd.DataFrame(list(dictionaries.items())).transpose()\n",
    "    gene_list.columns = gene_list.loc[0]\n",
    "    gene_list = pd.DataFrame(gene_list.drop(0))\n",
    "    VISal_VISpm_pd = pd.concat([VISal_VISpm_pd, gene_list])\n",
    "    \n",
    "NL_AL = requests.get(NL_AL_API)\n",
    "NL_AL_json = NL_AL.json()\n",
    "NL_AL_json_processed = NL_AL_json['msg']\n",
    "new_columns = list(NL_AL_json_processed[0].keys())\n",
    "NL_VISal_pd = pd.DataFrame(columns = new_columns)\n",
    "\n",
    "for dictionaries in NL_AL_json_processed:\n",
    "    gene_list = pd.DataFrame(list(dictionaries.items())).transpose()\n",
    "    gene_list.columns = gene_list.loc[0]\n",
    "    gene_list = pd.DataFrame(gene_list.drop(0))\n",
    "    NL_VISal_pd = pd.concat([NL_VISal_pd, gene_list])\n",
    "    \n",
    "NL_PM = requests.get(NL_PM_API)\n",
    "NL_PM_json = NL_PM.json()\n",
    "NL_PM_json_processed = NL_PM_json['msg']\n",
    "new_columns = list(NL_PM_json_processed[0].keys())\n",
    "NL_VISpm_pd = pd.DataFrame(columns = new_columns)\n",
    "\n",
    "for dictionaries in NL_PM_json_processed:\n",
    "    gene_list = pd.DataFrame(list(dictionaries.items())).transpose()\n",
    "    gene_list.columns = gene_list.loc[0]\n",
    "    gene_list = pd.DataFrame(gene_list.drop(0))\n",
    "    NL_VISpm_pd = pd.concat([NL_VISpm_pd, gene_list])"
   ]
  },
  {
   "cell_type": "markdown",
   "metadata": {},
   "source": [
    "### Accessing Brain Observatory data\n",
    "Download a list of all targeted areas"
   ]
  },
  {
   "cell_type": "code",
   "execution_count": 24,
   "metadata": {},
   "outputs": [],
   "source": [
    "boc = BrainObservatoryCache(manifest_file='/datasets/allen-brain-observatory/visual-coding-2p/manifest.json')\n",
    "targeted_structures = boc.get_all_targeted_structures()"
   ]
  },
  {
   "cell_type": "markdown",
   "metadata": {},
   "source": [
    "### Accessing Neuropixels Data"
   ]
  },
  {
   "cell_type": "code",
   "execution_count": 25,
   "metadata": {},
   "outputs": [
    {
     "name": "stdout",
     "output_type": "stream",
     "text": [
      "Total number of sessions: 58\n"
     ]
    }
   ],
   "source": [
    "# We have all of this data on the datahub! This is where it lives.\n",
    "manifest_path = '/datasets/allen-brain-observatory/visual-coding-neuropixels/ecephys-cache/manifest.json' \n",
    "\n",
    "# Create the EcephysProjectCache object\n",
    "cache = EcephysProjectCache.fixed(manifest=manifest_path)\n",
    "\n",
    "# Get the sessions available in this dataset\n",
    "sessions = cache.get_session_table()\n",
    "print('Total number of sessions: ' + str(len(sessions)))"
   ]
  },
  {
   "cell_type": "markdown",
   "metadata": {},
   "source": [
    "### Accessing Mouse Connectivity Data"
   ]
  },
  {
   "cell_type": "code",
   "execution_count": 26,
   "metadata": {},
   "outputs": [],
   "source": [
    "mcc = MouseConnectivityCache()\n",
    "structure_tree = mcc.get_structure_tree()\n",
    "id_acronym = structure_tree.get_id_acronym_map()"
   ]
  },
  {
   "cell_type": "markdown",
   "metadata": {},
   "source": [
    "## Data Wrangling"
   ]
  },
  {
   "cell_type": "markdown",
   "metadata": {},
   "source": [
    "### Handling Genetic Data\n"
   ]
  },
  {
   "cell_type": "markdown",
   "metadata": {},
   "source": [
    "Extract the gene symbols and related fold change from the pd dataframe"
   ]
  },
  {
   "cell_type": "code",
   "execution_count": 27,
   "metadata": {},
   "outputs": [],
   "source": [
    "VISal_VISpm_pd_fold = VISal_VISpm_pd[['gene-symbol', 'fold-change']]\n",
    "VISal_VISpm_length = VISal_VISpm_pd_fold.shape[0]\n",
    "\n",
    "VISpm_VISal_pd_fold = VISpm_VISal_pd[['gene-symbol', 'fold-change']]\n",
    "VISpm_VISal_pd_length = VISpm_VISal_pd_fold.shape[0]\n",
    "\n",
    "NL_VISal_pd_fold = NL_VISal_pd[['gene-symbol', 'fold-change']]\n",
    "NL_VISal_length = NL_VISal_pd_fold.shape[0]\n",
    "\n",
    "NL_VISpm_pd_fold = NL_VISpm_pd[['gene-symbol', 'fold-change']]\n",
    "NL_VISpm_length = NL_VISpm_pd_fold.shape[0]"
   ]
  },
  {
   "cell_type": "markdown",
   "metadata": {},
   "source": [
    "Change all the fold change data into numeric data for later analysis"
   ]
  },
  {
   "cell_type": "code",
   "execution_count": 28,
   "metadata": {},
   "outputs": [],
   "source": [
    "NL_VISal_pd_fold.loc[:,('fold-change')] = pd.to_numeric(NL_VISal_pd_fold.loc[:,('fold-change')]).copy()\n",
    "NL_VISpm_pd_fold.loc[:,('fold-change')] = pd.to_numeric(NL_VISpm_pd_fold.loc[:,('fold-change')]).copy()\n",
    "VISpm_VISal_pd_fold.loc[:,('fold-change')] = pd.to_numeric(VISpm_VISal_pd_fold.loc[:,('fold-change')]).copy()\n",
    "VISal_VISpm_pd_fold.loc[:,('fold-change')] = pd.to_numeric(VISal_VISpm_pd_fold.loc[:,('fold-change')]).copy()"
   ]
  },
  {
   "cell_type": "markdown",
   "metadata": {},
   "source": [
    "Merge mouse id dataframe with the elctrophysiology features"
   ]
  },
  {
   "cell_type": "code",
   "execution_count": 29,
   "metadata": {},
   "outputs": [],
   "source": [
    "mouse_df = mouse_df.set_index('id')\n",
    "ephys_features = pd.DataFrame(ctc.get_ephys_features()).set_index('specimen_id')\n",
    "mouse_ephys_df = mouse_df.join(ephys_features, how ='inner')\n",
    "ephys_columns = list(ephys_features.columns)"
   ]
  },
  {
   "cell_type": "markdown",
   "metadata": {},
   "source": [
    "### Further selecting data for dimensionality reduction through PCA"
   ]
  },
  {
   "cell_type": "markdown",
   "metadata": {},
   "source": [
    "Selecting Data for analysing Resting Potential data from cell types database"
   ]
  },
  {
   "cell_type": "code",
   "execution_count": 30,
   "metadata": {},
   "outputs": [
    {
     "name": "stdout",
     "output_type": "stream",
     "text": [
      "17\n",
      "89\n"
     ]
    }
   ],
   "source": [
    "visal_ephys_data = mouse_ephys_df.loc[mouse_ephys_df[\"structure_area_abbrev\"] == \"VISal\"].copy()\n",
    "print(visal_ephys_data.shape[0])\n",
    "visal_ephys_vrest = pd.DataFrame(visal_ephys_data.loc[:, 'vrest'].copy())\n",
    "visal_ephys_vrest.columns = ['Vrest']\n",
    "visal_column = np.repeat(\"VISal\", visal_ephys_vrest.shape[0])\n",
    "visal_ephys_vrest['Brain Region'] = visal_column\n",
    "visal_ephys_data['Brain Region'] = visal_column\n",
    "\n",
    "vispm_ephys_data = mouse_ephys_df.loc[mouse_ephys_df[\"structure_area_abbrev\"] == \"VISpm\"].copy()\n",
    "print(vispm_ephys_data.shape[0])\n",
    "vispm_ephys_vrest = pd.DataFrame(vispm_ephys_data.loc[:, 'vrest'].copy())\n",
    "vispm_ephys_vrest.columns = ['Vrest']\n",
    "vispm_column = np.repeat(\"VISpm\", vispm_ephys_vrest.shape[0])\n",
    "vispm_ephys_vrest['Brain Region'] = vispm_column\n",
    "vispm_ephys_data['Brain Region'] = vispm_column\n",
    "\n",
    "vrest = pd.concat([visal_ephys_vrest, vispm_ephys_vrest])\n",
    "vis_alpm_data = pd.concat([visal_ephys_data, vispm_ephys_data])"
   ]
  },
  {
   "cell_type": "markdown",
   "metadata": {},
   "source": [
    "Pre-processing of the ephys-data dataframe before running PCA\n",
    "1. Seperating the dataframe into VISal and VISpm cells\n",
    "2. Dropping columns that are non-numerical\n",
    "3. Dropping columns that have N/A entries"
   ]
  },
  {
   "cell_type": "code",
   "execution_count": 79,
   "metadata": {},
   "outputs": [
    {
     "ename": "KeyError",
     "evalue": "\"['reporter_status' 'cell_soma_location' 'species' 'name'\\n 'structure_layer_name' 'structure_area_id' 'structure_area_abbrev'\\n 'transgenic_line' 'dendrite_type' 'apical' 'reconstruction_type'\\n 'disease_state' 'donor_id' 'structure_hemisphere' 'normalized_depth'] not found in axis\"",
     "output_type": "error",
     "traceback": [
      "\u001b[0;31m---------------------------------------------------------------------------\u001b[0m",
      "\u001b[0;31mKeyError\u001b[0m                                  Traceback (most recent call last)",
      "\u001b[0;32m<ipython-input-79-040c2e040172>\u001b[0m in \u001b[0;36m<module>\u001b[0;34m\u001b[0m\n\u001b[1;32m      4\u001b[0m        \u001b[0;34m'disease_state'\u001b[0m\u001b[0;34m,\u001b[0m \u001b[0;34m'donor_id'\u001b[0m\u001b[0;34m,\u001b[0m \u001b[0;34m'structure_hemisphere'\u001b[0m\u001b[0;34m,\u001b[0m\u001b[0;34m\u001b[0m\u001b[0;34m\u001b[0m\u001b[0m\n\u001b[1;32m      5\u001b[0m        'normalized_depth']\n\u001b[0;32m----> 6\u001b[0;31m \u001b[0mvisal_ephys_data\u001b[0m \u001b[0;34m=\u001b[0m \u001b[0mvisal_ephys_data\u001b[0m\u001b[0;34m.\u001b[0m\u001b[0mdrop\u001b[0m\u001b[0;34m(\u001b[0m\u001b[0mcell_list\u001b[0m\u001b[0;34m,\u001b[0m \u001b[0maxis\u001b[0m \u001b[0;34m=\u001b[0m \u001b[0;36m1\u001b[0m\u001b[0;34m)\u001b[0m\u001b[0;34m\u001b[0m\u001b[0;34m\u001b[0m\u001b[0m\n\u001b[0m\u001b[1;32m      7\u001b[0m \u001b[0mvispm_ephys_data\u001b[0m \u001b[0;34m=\u001b[0m \u001b[0mvispm_ephys_data\u001b[0m\u001b[0;34m.\u001b[0m\u001b[0mdrop\u001b[0m\u001b[0;34m(\u001b[0m\u001b[0mcell_list\u001b[0m\u001b[0;34m,\u001b[0m \u001b[0maxis\u001b[0m \u001b[0;34m=\u001b[0m \u001b[0;36m1\u001b[0m\u001b[0;34m)\u001b[0m\u001b[0;34m\u001b[0m\u001b[0;34m\u001b[0m\u001b[0m\n\u001b[1;32m      8\u001b[0m \u001b[0;34m\u001b[0m\u001b[0m\n",
      "\u001b[0;32m/opt/conda/lib/python3.6/site-packages/pandas/core/frame.py\u001b[0m in \u001b[0;36mdrop\u001b[0;34m(self, labels, axis, index, columns, level, inplace, errors)\u001b[0m\n\u001b[1;32m   4115\u001b[0m             \u001b[0mlevel\u001b[0m\u001b[0;34m=\u001b[0m\u001b[0mlevel\u001b[0m\u001b[0;34m,\u001b[0m\u001b[0;34m\u001b[0m\u001b[0;34m\u001b[0m\u001b[0m\n\u001b[1;32m   4116\u001b[0m             \u001b[0minplace\u001b[0m\u001b[0;34m=\u001b[0m\u001b[0minplace\u001b[0m\u001b[0;34m,\u001b[0m\u001b[0;34m\u001b[0m\u001b[0;34m\u001b[0m\u001b[0m\n\u001b[0;32m-> 4117\u001b[0;31m             \u001b[0merrors\u001b[0m\u001b[0;34m=\u001b[0m\u001b[0merrors\u001b[0m\u001b[0;34m,\u001b[0m\u001b[0;34m\u001b[0m\u001b[0;34m\u001b[0m\u001b[0m\n\u001b[0m\u001b[1;32m   4118\u001b[0m         )\n\u001b[1;32m   4119\u001b[0m \u001b[0;34m\u001b[0m\u001b[0m\n",
      "\u001b[0;32m/opt/conda/lib/python3.6/site-packages/pandas/core/generic.py\u001b[0m in \u001b[0;36mdrop\u001b[0;34m(self, labels, axis, index, columns, level, inplace, errors)\u001b[0m\n\u001b[1;32m   3912\u001b[0m         \u001b[0;32mfor\u001b[0m \u001b[0maxis\u001b[0m\u001b[0;34m,\u001b[0m \u001b[0mlabels\u001b[0m \u001b[0;32min\u001b[0m \u001b[0maxes\u001b[0m\u001b[0;34m.\u001b[0m\u001b[0mitems\u001b[0m\u001b[0;34m(\u001b[0m\u001b[0;34m)\u001b[0m\u001b[0;34m:\u001b[0m\u001b[0;34m\u001b[0m\u001b[0;34m\u001b[0m\u001b[0m\n\u001b[1;32m   3913\u001b[0m             \u001b[0;32mif\u001b[0m \u001b[0mlabels\u001b[0m \u001b[0;32mis\u001b[0m \u001b[0;32mnot\u001b[0m \u001b[0;32mNone\u001b[0m\u001b[0;34m:\u001b[0m\u001b[0;34m\u001b[0m\u001b[0;34m\u001b[0m\u001b[0m\n\u001b[0;32m-> 3914\u001b[0;31m                 \u001b[0mobj\u001b[0m \u001b[0;34m=\u001b[0m \u001b[0mobj\u001b[0m\u001b[0;34m.\u001b[0m\u001b[0m_drop_axis\u001b[0m\u001b[0;34m(\u001b[0m\u001b[0mlabels\u001b[0m\u001b[0;34m,\u001b[0m \u001b[0maxis\u001b[0m\u001b[0;34m,\u001b[0m \u001b[0mlevel\u001b[0m\u001b[0;34m=\u001b[0m\u001b[0mlevel\u001b[0m\u001b[0;34m,\u001b[0m \u001b[0merrors\u001b[0m\u001b[0;34m=\u001b[0m\u001b[0merrors\u001b[0m\u001b[0;34m)\u001b[0m\u001b[0;34m\u001b[0m\u001b[0;34m\u001b[0m\u001b[0m\n\u001b[0m\u001b[1;32m   3915\u001b[0m \u001b[0;34m\u001b[0m\u001b[0m\n\u001b[1;32m   3916\u001b[0m         \u001b[0;32mif\u001b[0m \u001b[0minplace\u001b[0m\u001b[0;34m:\u001b[0m\u001b[0;34m\u001b[0m\u001b[0;34m\u001b[0m\u001b[0m\n",
      "\u001b[0;32m/opt/conda/lib/python3.6/site-packages/pandas/core/generic.py\u001b[0m in \u001b[0;36m_drop_axis\u001b[0;34m(self, labels, axis, level, errors)\u001b[0m\n\u001b[1;32m   3944\u001b[0m                 \u001b[0mnew_axis\u001b[0m \u001b[0;34m=\u001b[0m \u001b[0maxis\u001b[0m\u001b[0;34m.\u001b[0m\u001b[0mdrop\u001b[0m\u001b[0;34m(\u001b[0m\u001b[0mlabels\u001b[0m\u001b[0;34m,\u001b[0m \u001b[0mlevel\u001b[0m\u001b[0;34m=\u001b[0m\u001b[0mlevel\u001b[0m\u001b[0;34m,\u001b[0m \u001b[0merrors\u001b[0m\u001b[0;34m=\u001b[0m\u001b[0merrors\u001b[0m\u001b[0;34m)\u001b[0m\u001b[0;34m\u001b[0m\u001b[0;34m\u001b[0m\u001b[0m\n\u001b[1;32m   3945\u001b[0m             \u001b[0;32melse\u001b[0m\u001b[0;34m:\u001b[0m\u001b[0;34m\u001b[0m\u001b[0;34m\u001b[0m\u001b[0m\n\u001b[0;32m-> 3946\u001b[0;31m                 \u001b[0mnew_axis\u001b[0m \u001b[0;34m=\u001b[0m \u001b[0maxis\u001b[0m\u001b[0;34m.\u001b[0m\u001b[0mdrop\u001b[0m\u001b[0;34m(\u001b[0m\u001b[0mlabels\u001b[0m\u001b[0;34m,\u001b[0m \u001b[0merrors\u001b[0m\u001b[0;34m=\u001b[0m\u001b[0merrors\u001b[0m\u001b[0;34m)\u001b[0m\u001b[0;34m\u001b[0m\u001b[0;34m\u001b[0m\u001b[0m\n\u001b[0m\u001b[1;32m   3947\u001b[0m             \u001b[0mresult\u001b[0m \u001b[0;34m=\u001b[0m \u001b[0mself\u001b[0m\u001b[0;34m.\u001b[0m\u001b[0mreindex\u001b[0m\u001b[0;34m(\u001b[0m\u001b[0;34m**\u001b[0m\u001b[0;34m{\u001b[0m\u001b[0maxis_name\u001b[0m\u001b[0;34m:\u001b[0m \u001b[0mnew_axis\u001b[0m\u001b[0;34m}\u001b[0m\u001b[0;34m)\u001b[0m\u001b[0;34m\u001b[0m\u001b[0;34m\u001b[0m\u001b[0m\n\u001b[1;32m   3948\u001b[0m \u001b[0;34m\u001b[0m\u001b[0m\n",
      "\u001b[0;32m/opt/conda/lib/python3.6/site-packages/pandas/core/indexes/base.py\u001b[0m in \u001b[0;36mdrop\u001b[0;34m(self, labels, errors)\u001b[0m\n\u001b[1;32m   5338\u001b[0m         \u001b[0;32mif\u001b[0m \u001b[0mmask\u001b[0m\u001b[0;34m.\u001b[0m\u001b[0many\u001b[0m\u001b[0;34m(\u001b[0m\u001b[0;34m)\u001b[0m\u001b[0;34m:\u001b[0m\u001b[0;34m\u001b[0m\u001b[0;34m\u001b[0m\u001b[0m\n\u001b[1;32m   5339\u001b[0m             \u001b[0;32mif\u001b[0m \u001b[0merrors\u001b[0m \u001b[0;34m!=\u001b[0m \u001b[0;34m\"ignore\"\u001b[0m\u001b[0;34m:\u001b[0m\u001b[0;34m\u001b[0m\u001b[0;34m\u001b[0m\u001b[0m\n\u001b[0;32m-> 5340\u001b[0;31m                 \u001b[0;32mraise\u001b[0m \u001b[0mKeyError\u001b[0m\u001b[0;34m(\u001b[0m\u001b[0;34m\"{} not found in axis\"\u001b[0m\u001b[0;34m.\u001b[0m\u001b[0mformat\u001b[0m\u001b[0;34m(\u001b[0m\u001b[0mlabels\u001b[0m\u001b[0;34m[\u001b[0m\u001b[0mmask\u001b[0m\u001b[0;34m]\u001b[0m\u001b[0;34m)\u001b[0m\u001b[0;34m)\u001b[0m\u001b[0;34m\u001b[0m\u001b[0;34m\u001b[0m\u001b[0m\n\u001b[0m\u001b[1;32m   5341\u001b[0m             \u001b[0mindexer\u001b[0m \u001b[0;34m=\u001b[0m \u001b[0mindexer\u001b[0m\u001b[0;34m[\u001b[0m\u001b[0;34m~\u001b[0m\u001b[0mmask\u001b[0m\u001b[0;34m]\u001b[0m\u001b[0;34m\u001b[0m\u001b[0;34m\u001b[0m\u001b[0m\n\u001b[1;32m   5342\u001b[0m         \u001b[0;32mreturn\u001b[0m \u001b[0mself\u001b[0m\u001b[0;34m.\u001b[0m\u001b[0mdelete\u001b[0m\u001b[0;34m(\u001b[0m\u001b[0mindexer\u001b[0m\u001b[0;34m)\u001b[0m\u001b[0;34m\u001b[0m\u001b[0;34m\u001b[0m\u001b[0m\n",
      "\u001b[0;31mKeyError\u001b[0m: \"['reporter_status' 'cell_soma_location' 'species' 'name'\\n 'structure_layer_name' 'structure_area_id' 'structure_area_abbrev'\\n 'transgenic_line' 'dendrite_type' 'apical' 'reconstruction_type'\\n 'disease_state' 'donor_id' 'structure_hemisphere' 'normalized_depth'] not found in axis\""
     ]
    }
   ],
   "source": [
    "cell_list = ['reporter_status', 'cell_soma_location', 'species', 'name',\n",
    "       'structure_layer_name', 'structure_area_id', 'structure_area_abbrev',\n",
    "       'transgenic_line', 'dendrite_type', 'apical', 'reconstruction_type',\n",
    "       'disease_state', 'donor_id', 'structure_hemisphere',\n",
    "       'normalized_depth']\n",
    "visal_ephys_data = visal_ephys_data.drop(cell_list, axis = 1)\n",
    "vispm_ephys_data = vispm_ephys_data.drop(cell_list, axis = 1)\n",
    "\n",
    "ephys_list =['adaptation', 'avg_isi', 'electrode_0_pa', 'f_i_curve_slope',\n",
    "       'fast_trough_t_long_square', 'fast_trough_t_ramp',\n",
    "       'fast_trough_t_short_square', 'fast_trough_v_long_square',\n",
    "       'fast_trough_v_ramp', 'fast_trough_v_short_square',\n",
    "       'input_resistance_mohm', 'latency',\n",
    "       'peak_t_long_square', 'peak_t_ramp', 'peak_t_short_square',\n",
    "       'peak_v_long_square', 'peak_v_ramp', 'peak_v_short_square',\n",
    "       'rheobase_sweep_id', 'rheobase_sweep_number', 'ri', 'sag', 'seal_gohm',\n",
    "       'threshold_i_long_square', 'threshold_i_ramp',\n",
    "       'threshold_i_short_square', 'threshold_t_long_square',\n",
    "       'threshold_t_ramp', 'threshold_t_short_square',\n",
    "       'threshold_v_long_square', 'threshold_v_ramp',\n",
    "       'threshold_v_short_square', 'thumbnail_sweep_id',\n",
    "       'trough_t_long_square', 'trough_t_ramp', 'trough_t_short_square',\n",
    "       'trough_v_long_square', 'trough_v_ramp', 'trough_v_short_square',\n",
    "       'upstroke_downstroke_ratio_long_square',\n",
    "       'upstroke_downstroke_ratio_ramp',\n",
    "       'upstroke_downstroke_ratio_short_square', 'vm_for_sag', 'vrest']\n",
    "\n",
    "visal_ephys_data = visal_ephys_data.loc[:, ephys_list]\n",
    "vispm_ephys_data = vispm_ephys_data.loc[:, ephys_list]\n",
    "\n",
    "numerics = ['int16', 'int32', 'int64', 'float16', 'float32', 'float64']\n",
    "newdf = mouse_ephys_df.select_dtypes(include=numerics)\n",
    "newdf = newdf.drop(['structure_area_id', 'donor_id', 'normalized_depth', 'electrode_0_pa'], 1)\n",
    "newdf = newdf.dropna(axis=0).dropna(axis=1)\n",
    "\n",
    "visal_ephys_data = visal_ephys_data.dropna(axis=0).dropna(axis=1)\n",
    "visal_ephys_num = visal_ephys_data.select_dtypes(include=numerics)\n",
    "visal_ephys_name = visal_ephys_num.copy()\n",
    "visal_column = np.repeat(\"VISal\", visal_ephys_name.shape[0])\n",
    "visal_ephys_name['Brain Region'] = visal_column\n",
    "\n",
    "vispm_ephys_data = vispm_ephys_data.dropna(axis=0).dropna(axis=1)\n",
    "vispm_ephys_num = vispm_ephys_data.select_dtypes(include=numerics)\n",
    "vispm_ephys_name = vispm_ephys_num.copy()\n",
    "\n",
    "vispm_column = np.repeat(\"VISpm\", vispm_ephys_name.shape[0])\n",
    "vispm_ephys_name['Brain Region'] = vispm_column\n",
    "\n",
    "visalpm_ephys = pd.concat([visal_ephys_num,vispm_ephys_num])\n",
    "visalpm_ephys_name = pd.concat([visal_ephys_name, vispm_ephys_name])\n",
    "visalpm_ephys = (visalpm_ephys - visalpm_ephys.mean())/visalpm_ephys.std()\n"
   ]
  },
  {
   "cell_type": "markdown",
   "metadata": {},
   "source": [
    "Related Columns list for further dissection in PCA analysis"
   ]
  },
  {
   "cell_type": "code",
   "execution_count": 74,
   "metadata": {},
   "outputs": [],
   "source": [
    "ephys_list_long_square = ['adaptation', 'avg_isi', 'f_i_curve_slope',\n",
    "       'fast_trough_t_long_square', 'fast_trough_v_long_square',\n",
    "       'input_resistance_mohm', 'latency',\n",
    "       'peak_t_long_square',\n",
    "       'threshold_i_long_square', \n",
    "       'threshold_t_long_square',\n",
    "       'threshold_v_long_square',\n",
    "       'trough_t_long_square',\n",
    "       'trough_v_long_square', \n",
    "       'upstroke_downstroke_ratio_long_square',\n",
    "       'vrest']\n",
    "\n",
    "\n",
    "ephys_list_ramp =['adaptation', 'avg_isi', 'f_i_curve_slope',\n",
    "        'fast_trough_t_ramp', 'fast_trough_v_ramp',\n",
    "       'input_resistance_mohm', 'latency',\n",
    "       'peak_t_ramp', 'peak_v_ramp', \n",
    "       'threshold_i_ramp','threshold_t_ramp', 'threshold_v_ramp',\n",
    "       'trough_t_ramp', 'trough_v_ramp',\n",
    "       'upstroke_downstroke_ratio_ramp', \n",
    "       'vrest']"
   ]
  },
  {
   "cell_type": "markdown",
   "metadata": {},
   "source": [
    "### Collecting related visual area data from Allen Brain Observatory"
   ]
  },
  {
   "cell_type": "code",
   "execution_count": 33,
   "metadata": {},
   "outputs": [
    {
     "name": "stdout",
     "output_type": "stream",
     "text": [
      "all targeted structures: ['VISal', 'VISam', 'VISl', 'VISp', 'VISpm', 'VISrl']\n",
      "Num of experiments done in VISal: 41\n",
      "Num of experiments done in VISpm: 87\n",
      "Different Scenes:\n",
      "['drifting_gratings', 'locally_sparse_noise', 'locally_sparse_noise_4deg', 'locally_sparse_noise_8deg', 'natural_movie_one', 'natural_movie_three', 'natural_movie_two', 'natural_scenes', 'spontaneous', 'static_gratings']\n"
     ]
    }
   ],
   "source": [
    "print(\"all targeted structures: \" + str(targeted_structures))\n",
    "\n",
    "visal_data = boc.get_experiment_containers(targeted_structures=['VISal'])\n",
    "visal_id = visal_data[0]['id']\n",
    "print(\"Num of experiments done in VISal: \" + str(len(visal_data)))\n",
    "\n",
    "vispm_data = boc.get_experiment_containers(targeted_structures=['VISpm'])\n",
    "vispm_id = vispm_data[0]['id']\n",
    "print(\"Num of experiments done in VISpm: \" + str(len(vispm_data)))\n",
    "\n",
    "stim = boc.get_all_stimuli()\n",
    "print(\"Different Scenes:\")\n",
    "print(stim)"
   ]
  },
  {
   "cell_type": "code",
   "execution_count": 34,
   "metadata": {},
   "outputs": [
    {
     "name": "stdout",
     "output_type": "stream",
     "text": [
      "Total cells: 63251\n",
      "------------------------\n",
      "VISal cells: 7191\n",
      "Cells in anteriorlateral visual area with sig. response to drifting gratings: 3517\n",
      "Anteriorlateral visual area direction-selective cells: 169\n",
      "------------------------\n",
      "VISpm cells: 7985\n",
      "Cells in posteriorlateral visual area with sig. response to drifting gratings: 3220\n",
      "Posteriorlateral visual area direction-selective cells: 171\n"
     ]
    }
   ],
   "source": [
    "# Download cells for a set of experiments and convert to DataFrame\n",
    "cells = boc.get_cell_specimens()\n",
    "cells = pd.DataFrame.from_records(cells)\n",
    "print(\"Total cells: %d\" % len(cells))\n",
    "\n",
    "print(\"------------------------\")\n",
    "# find direction selective cells in VISal\n",
    "visal_ec_ids = [ ec['id'] for ec in visal_data ]\n",
    "visal_cells = cells[cells['experiment_container_id'].isin(visal_ec_ids)]\n",
    "print(\"VISal cells: %d\" % len(visal_cells))\n",
    "\n",
    "# Response to drifting gratings stimulus\n",
    "sig_al_cells = visal_cells[visal_cells['p_dg'] < 0.05]\n",
    "print(\"Cells in anteriorlateral visual area with sig. response to drifting gratings: %d\" % len(sig_al_cells))\n",
    "\n",
    "# Direction selective cells\n",
    "dsi_al_cells = sig_al_cells[(sig_al_cells['g_dsi_dg'] > 0.9)]\n",
    "print(\"Anteriorlateral visual area direction-selective cells: %d\" % len(dsi_al_cells))\n",
    "\n",
    "print(\"------------------------\")\n",
    "\n",
    "\n",
    "# find direction selective cells in VISpm\n",
    "vispm_ec_ids = [ ec['id'] for ec in vispm_data ]\n",
    "vispm_cells = cells[cells['experiment_container_id'].isin(vispm_ec_ids)]\n",
    "print(\"VISpm cells: %d\" % len(vispm_cells))\n",
    "\n",
    "# Response to drifting gratings stimulus\n",
    "sig_pm_cells = vispm_cells[vispm_cells['p_dg'] < 0.05]\n",
    "print(\"Cells in posteriorlateral visual area with sig. response to drifting gratings: %d\" % len(sig_pm_cells))\n",
    "\n",
    "# Direction selective cells\n",
    "dsi_pm_cells = sig_pm_cells[(sig_pm_cells['g_dsi_dg'] > 0.9)]\n",
    "print(\"Posteriorlateral visual area direction-selective cells: %d\" % len(dsi_pm_cells))\n",
    "\n",
    "dsi_data = {'Properties': ['Direction Selective', 'Total responding', 'Direction Selective', 'Total responding'],\n",
    "            'Count': [len(dsi_al_cells), len(sig_al_cells) , len(dsi_pm_cells), len(sig_pm_cells)],\n",
    "            'Brain Region': ['VISal', 'VISal', 'VISpm', 'VISpm']}\n",
    "al_pm_dsi = pd.DataFrame(dsi_data)\n",
    "al_pm_sig = al_pm_dsi[al_pm_dsi['Properties'] == 'Total responding']\n",
    "al_pm_d = al_pm_dsi[al_pm_dsi['Properties'] == 'Direction Selective']"
   ]
  },
  {
   "cell_type": "code",
   "execution_count": 35,
   "metadata": {},
   "outputs": [
    {
     "name": "stdout",
     "output_type": "stream",
     "text": [
      "total al dsi experiment containers: 30\n",
      "VISal drifting gratings ophys experiments: 30\n"
     ]
    }
   ],
   "source": [
    "# find experiment containers for those cells\n",
    "dsi_al_ids = dsi_al_cells['experiment_container_id'].unique()\n",
    "print(\"total al dsi experiment containers: %d\" % len(dsi_al_ids))\n",
    "\n",
    "# Download the ophys experiments containing the drifting gratings stimulus for VISal experiment containers\n",
    "dsi_al_exps = boc.get_ophys_experiments(experiment_container_ids=dsi_al_ids, stimuli=[stim_info.DRIFTING_GRATINGS])\n",
    "print(\"VISal drifting gratings ophys experiments: %d\" % len(dsi_al_exps))"
   ]
  },
  {
   "cell_type": "code",
   "execution_count": 36,
   "metadata": {},
   "outputs": [],
   "source": [
    "from allensdk.brain_observatory.drifting_gratings import DriftingGratings\n",
    "\n",
    "# example loading drifing grating data\n",
    "#data_set = boc.get_ophys_experiment_data(512326618)\n",
    "#dg = DriftingGratings(data_set)\n",
    "#dg_peak = dg.peak\n",
    "#print(\"done analyzing drifting gratings\")"
   ]
  },
  {
   "cell_type": "code",
   "execution_count": 37,
   "metadata": {},
   "outputs": [
    {
     "name": "stdout",
     "output_type": "stream",
     "text": [
      "Metadata from NWB file:\n",
      "{'age_days': 88,\n",
      " 'cre_line': 'Rorb-IRES2-Cre/wt',\n",
      " 'device': 'Nikon A1R-MP multiphoton microscope',\n",
      " 'device_name': 'CAM2P.1',\n",
      " 'excitation_lambda': '910 nanometers',\n",
      " 'experiment_container_id': 511510794,\n",
      " 'fov': '400x400 microns (512 x 512 pixels)',\n",
      " 'genotype': 'Rorb-IRES2-Cre/wt;Camk2a-tTA/wt;Ai93(TITL-GCaMP6f)/wt',\n",
      " 'imaging_depth_um': 275,\n",
      " 'indicator': 'GCaMP6f',\n",
      " 'ophys_experiment_id': 509904120,\n",
      " 'pipeline_version': '3.0',\n",
      " 'session_start_time': datetime.datetime(2016, 3, 23, 13, 5, 23),\n",
      " 'session_type': 'three_session_A',\n",
      " 'sex': 'male',\n",
      " 'specimen_name': 'Rorb-IRES2-Cre;Camk2a-tTA;Ai93-231120',\n",
      " 'targeted_structure': 'VISal'}\n",
      "stimuli available in this file:\n",
      "['drifting_gratings', 'natural_movie_one', 'natural_movie_three', 'spontaneous']\n"
     ]
    }
   ],
   "source": [
    "# pick a direction-selective cell and find its NWB file\n",
    "dsi_al_cell = dsi_al_cells.iloc[0]\n",
    "\n",
    "\n",
    "# figure out which ophys experiment has the drifting gratings stimulus for that cell\n",
    "cell_exp_1 = boc.get_ophys_experiments(cell_specimen_ids=[dsi_al_cell['cell_specimen_id']],\n",
    "                                     stimuli=[stim_info.DRIFTING_GRATINGS])[0]\n",
    "\n",
    "data_set_1 = boc.get_ophys_experiment_data(cell_exp_1['id'])\n",
    "\n",
    "print(\"Metadata from NWB file:\")\n",
    "pprint.pprint(data_set_1.get_metadata())\n",
    "\n",
    "print(\"stimuli available in this file:\")\n",
    "print(data_set_1.list_stimuli())\n",
    "\n",
    "dsi_al_cell = dsi_al_cells.iloc[0]"
   ]
  },
  {
   "cell_type": "markdown",
   "metadata": {},
   "source": [
    "### Handling Neuropixels data"
   ]
  },
  {
   "cell_type": "code",
   "execution_count": 38,
   "metadata": {},
   "outputs": [
    {
     "name": "stdout",
     "output_type": "stream",
     "text": [
      "VISal Sessions: 44\n",
      "VISpm Sessions: 36\n"
     ]
    }
   ],
   "source": [
    "visal_sessions = pd.DataFrame()\n",
    "\n",
    "for index, row in sessions.iterrows():\n",
    "    regions_list = row['ecephys_structure_acronyms']\n",
    "    for region in regions_list:\n",
    "        #print(region)\n",
    "        if region == 'VISal':\n",
    "            visal_sessions = visal_sessions.append(row)\n",
    "        \n",
    "print('VISal Sessions: ' + str(len(visal_sessions)))\n",
    "\n",
    "vispm_sessions = pd.DataFrame()\n",
    "\n",
    "for index, row in sessions.iterrows():\n",
    "    regions_list = row['ecephys_structure_acronyms']\n",
    "    for region in regions_list:\n",
    "        #print(region)\n",
    "        if region == 'VISpm':\n",
    "            vispm_sessions = vispm_sessions.append(row)\n",
    "            \n",
    "print('VISpm Sessions: ' + str(len(vispm_sessions)))"
   ]
  },
  {
   "cell_type": "markdown",
   "metadata": {},
   "source": [
    "### Determining Cre lines in the existing dataset for VISal and VISpm"
   ]
  },
  {
   "cell_type": "code",
   "execution_count": 39,
   "metadata": {},
   "outputs": [
    {
     "name": "stdout",
     "output_type": "stream",
     "text": [
      "['Sst-IRES-Cre/wt;Ai32(RCL-ChR2(H134R)_EYFP)/wt', 'Pvalb-IRES-Cre/wt;Ai32(RCL-ChR2(H134R)_EYFP)/wt', 'wt/wt', 'Vip-IRES-Cre/wt;Ai32(RCL-ChR2(H134R)_EYFP)/wt']\n"
     ]
    }
   ],
   "source": [
    "Cre_lines_list = []\n",
    "for index, row in visal_sessions.iterrows():\n",
    "    if row['full_genotype'] not in Cre_lines_list:\n",
    "        Cre_lines_list.append(row['full_genotype'])\n",
    "\n",
    "print(Cre_lines_list)"
   ]
  },
  {
   "cell_type": "markdown",
   "metadata": {},
   "source": [
    "### Choosing a specific CRE line for the study: Vip-IRES-Cre/wt;Ai32(RCL-ChR2(H134R)_EYFP)/wt\n",
    "\n",
    "Vip-IRES-Cre mice have Cre recombinase expression directed to Vip-expressing cells by the endogenous promoter/enhancer elements of the vasoactive intestinal polypeptide locus. Cre activity is detected in the neocortex, hippocampus, olfactory bulb, suprachiasmatic nuclei, and other discrete midbrain and brainstem regions. These mice may be useful to study neural GABAergic circuits throughout the mammalian brain. \n",
    "\n",
    "Source: https://www.jax.org/strain/010908"
   ]
  },
  {
   "cell_type": "code",
   "execution_count": 40,
   "metadata": {},
   "outputs": [
    {
     "name": "stdout",
     "output_type": "stream",
     "text": [
      "Vip-IRES-CRE VISal Sessions: 5\n",
      "Vip-IRES-CRE VISpm Sessions: 4\n",
      "wildtype VISal Sessions: 5\n",
      "wildtype VISpm Sessions: 18\n"
     ]
    }
   ],
   "source": [
    "vip_visal_sessions = visal_sessions[visal_sessions['full_genotype'] == \"Vip-IRES-Cre/wt;Ai32(RCL-ChR2(H134R)_EYFP)/wt\"]\n",
    "print('Vip-IRES-CRE VISal Sessions: ' + str(len(vip_visal_sessions)))\n",
    "\n",
    "vip_vispm_sessions = vispm_sessions[vispm_sessions['full_genotype'] == \"Vip-IRES-Cre/wt;Ai32(RCL-ChR2(H134R)_EYFP)/wt\"]\n",
    "print('Vip-IRES-CRE VISpm Sessions: ' + str(len(vip_vispm_sessions)))\n",
    "\n",
    "wt_visal_sessions = visal_sessions[visal_sessions['full_genotype'] == \"wt/wt\"]\n",
    "print('wildtype VISal Sessions: ' + str(len(vip_visal_sessions)))\n",
    "\n",
    "wt_vispm_sessions = vispm_sessions[vispm_sessions['full_genotype'] == \"wt/wt\"]\n",
    "print('wildtype VISpm Sessions: ' + str(len(wt_vispm_sessions)))"
   ]
  },
  {
   "cell_type": "markdown",
   "metadata": {},
   "source": [
    "### Handling Mouse connectivity Database"
   ]
  },
  {
   "cell_type": "code",
   "execution_count": 41,
   "metadata": {},
   "outputs": [
    {
     "name": "stdout",
     "output_type": "stream",
     "text": [
      "There are 2992 total experiments on mouse connectivity\n",
      "There are 7 total experiments on VISpm connectivity\n"
     ]
    }
   ],
   "source": [
    "# open up a list of all of the experiments\n",
    "all_experiments = mcc.get_experiments(dataframe=True)\n",
    "print(\"There are %d total experiments on mouse connectivity\" % len(all_experiments))\n",
    "\n",
    "VISal_acronym_list = ['VISal', 'VISal1', 'VISal2/3', 'VISal4', 'VISal5', 'VISal6a', 'VISal6b']\n",
    "VISal_acronym = structure_tree.get_structures_by_acronym(VISal_acronym_list)\n",
    "VISpm_acronym_list = ['VISpm', 'VISpm1', 'VISpm2/3', 'VISpm4', 'VISpm5', 'VISpm6a', 'VISpm6b']\n",
    "VISpm_acronym = structure_tree.get_structures_by_acronym(VISpm_acronym_list)\n",
    "print(\"There are %d total experiments on VISpm connectivity\" % len(VISpm_acronym))"
   ]
  },
  {
   "cell_type": "code",
   "execution_count": 42,
   "metadata": {},
   "outputs": [
    {
     "name": "stdout",
     "output_type": "stream",
     "text": [
      "316\n"
     ]
    }
   ],
   "source": [
    "summary_structures = structure_tree.get_structures_by_set_id([167587189])\n",
    "pd.DataFrame(summary_structures)\n",
    "print(len(summary_structures))"
   ]
  },
  {
   "cell_type": "code",
   "execution_count": 43,
   "metadata": {},
   "outputs": [
    {
     "name": "stdout",
     "output_type": "stream",
     "text": [
      "1209 cre cortical experiments\n"
     ]
    }
   ],
   "source": [
    "# fetch the experiments that have injections in the isocortex of cre-positive mice\n",
    "isocortex = structure_tree.get_structures_by_name(['Isocortex'])[0]\n",
    "cre_cortical_experiments = mcc.get_experiments(cre=True, injection_structure_ids=[isocortex['id']])\n",
    "print(\"%d cre cortical experiments\" % len(cre_cortical_experiments))"
   ]
  },
  {
   "cell_type": "code",
   "execution_count": 80,
   "metadata": {},
   "outputs": [
    {
     "name": "stdout",
     "output_type": "stream",
     "text": [
      "17 VISal experiments\n",
      "15045 VISal non-injection, cortical structure unionizes\n"
     ]
    },
    {
     "data": {
      "text/html": [
       "<div>\n",
       "<style scoped>\n",
       "    .dataframe tbody tr th:only-of-type {\n",
       "        vertical-align: middle;\n",
       "    }\n",
       "\n",
       "    .dataframe tbody tr th {\n",
       "        vertical-align: top;\n",
       "    }\n",
       "\n",
       "    .dataframe thead th {\n",
       "        text-align: right;\n",
       "    }\n",
       "</style>\n",
       "<table border=\"1\" class=\"dataframe\">\n",
       "  <thead>\n",
       "    <tr style=\"text-align: right;\">\n",
       "      <th></th>\n",
       "      <th>experiment_id</th>\n",
       "      <th>hemisphere_id</th>\n",
       "      <th>id</th>\n",
       "      <th>is_injection</th>\n",
       "      <th>max_voxel_density</th>\n",
       "      <th>max_voxel_x</th>\n",
       "      <th>max_voxel_y</th>\n",
       "      <th>max_voxel_z</th>\n",
       "      <th>normalized_projection_volume</th>\n",
       "      <th>projection_density</th>\n",
       "      <th>projection_energy</th>\n",
       "      <th>projection_intensity</th>\n",
       "      <th>projection_volume</th>\n",
       "      <th>structure_id</th>\n",
       "      <th>sum_pixel_intensity</th>\n",
       "      <th>sum_pixels</th>\n",
       "      <th>sum_projection_pixel_intensity</th>\n",
       "      <th>sum_projection_pixels</th>\n",
       "      <th>volume</th>\n",
       "    </tr>\n",
       "  </thead>\n",
       "  <tbody>\n",
       "    <tr>\n",
       "      <th>0</th>\n",
       "      <td>520996382</td>\n",
       "      <td>3</td>\n",
       "      <td>640783886</td>\n",
       "      <td>False</td>\n",
       "      <td>0.173927</td>\n",
       "      <td>6650</td>\n",
       "      <td>1220</td>\n",
       "      <td>3380</td>\n",
       "      <td>0.001168</td>\n",
       "      <td>0.000322</td>\n",
       "      <td>0.199142</td>\n",
       "      <td>618.587911</td>\n",
       "      <td>0.000092</td>\n",
       "      <td>182305705</td>\n",
       "      <td>7.397989e+10</td>\n",
       "      <td>2.321802e+08</td>\n",
       "      <td>4.623686e+07</td>\n",
       "      <td>7.474581e+04</td>\n",
       "      <td>0.284421</td>\n",
       "    </tr>\n",
       "    <tr>\n",
       "      <th>1</th>\n",
       "      <td>520996382</td>\n",
       "      <td>1</td>\n",
       "      <td>640782585</td>\n",
       "      <td>False</td>\n",
       "      <td>0.546264</td>\n",
       "      <td>5170</td>\n",
       "      <td>4910</td>\n",
       "      <td>2290</td>\n",
       "      <td>0.005493</td>\n",
       "      <td>0.000099</td>\n",
       "      <td>0.093984</td>\n",
       "      <td>949.327605</td>\n",
       "      <td>0.000431</td>\n",
       "      <td>95</td>\n",
       "      <td>7.746513e+11</td>\n",
       "      <td>3.552348e+09</td>\n",
       "      <td>3.338650e+08</td>\n",
       "      <td>3.516858e+05</td>\n",
       "      <td>4.351626</td>\n",
       "    </tr>\n",
       "    <tr>\n",
       "      <th>2</th>\n",
       "      <td>520996382</td>\n",
       "      <td>3</td>\n",
       "      <td>640783961</td>\n",
       "      <td>False</td>\n",
       "      <td>0.676250</td>\n",
       "      <td>3990</td>\n",
       "      <td>1490</td>\n",
       "      <td>7780</td>\n",
       "      <td>0.051467</td>\n",
       "      <td>0.000323</td>\n",
       "      <td>0.197320</td>\n",
       "      <td>611.805389</td>\n",
       "      <td>0.004036</td>\n",
       "      <td>985</td>\n",
       "      <td>2.654921e+12</td>\n",
       "      <td>1.021620e+10</td>\n",
       "      <td>2.015858e+09</td>\n",
       "      <td>3.294933e+06</td>\n",
       "      <td>12.514846</td>\n",
       "    </tr>\n",
       "    <tr>\n",
       "      <th>3</th>\n",
       "      <td>520996382</td>\n",
       "      <td>2</td>\n",
       "      <td>640777871</td>\n",
       "      <td>False</td>\n",
       "      <td>0.000000</td>\n",
       "      <td>0</td>\n",
       "      <td>0</td>\n",
       "      <td>0</td>\n",
       "      <td>0.000000</td>\n",
       "      <td>0.000000</td>\n",
       "      <td>0.000000</td>\n",
       "      <td>0.000000</td>\n",
       "      <td>0.000000</td>\n",
       "      <td>201</td>\n",
       "      <td>2.135174e+11</td>\n",
       "      <td>6.822180e+08</td>\n",
       "      <td>0.000000e+00</td>\n",
       "      <td>0.000000e+00</td>\n",
       "      <td>0.835717</td>\n",
       "    </tr>\n",
       "    <tr>\n",
       "      <th>4</th>\n",
       "      <td>520996382</td>\n",
       "      <td>3</td>\n",
       "      <td>640782721</td>\n",
       "      <td>False</td>\n",
       "      <td>0.813034</td>\n",
       "      <td>7970</td>\n",
       "      <td>1350</td>\n",
       "      <td>2040</td>\n",
       "      <td>1.245962</td>\n",
       "      <td>0.036146</td>\n",
       "      <td>33.858096</td>\n",
       "      <td>936.699871</td>\n",
       "      <td>0.097714</td>\n",
       "      <td>22</td>\n",
       "      <td>5.960447e+11</td>\n",
       "      <td>2.206769e+09</td>\n",
       "      <td>7.471698e+10</td>\n",
       "      <td>7.976619e+07</td>\n",
       "      <td>2.703291</td>\n",
       "    </tr>\n",
       "  </tbody>\n",
       "</table>\n",
       "</div>"
      ],
      "text/plain": [
       "   experiment_id  hemisphere_id         id  is_injection  max_voxel_density  \\\n",
       "0      520996382              3  640783886         False           0.173927   \n",
       "1      520996382              1  640782585         False           0.546264   \n",
       "2      520996382              3  640783961         False           0.676250   \n",
       "3      520996382              2  640777871         False           0.000000   \n",
       "4      520996382              3  640782721         False           0.813034   \n",
       "\n",
       "   max_voxel_x  max_voxel_y  max_voxel_z  normalized_projection_volume  \\\n",
       "0         6650         1220         3380                      0.001168   \n",
       "1         5170         4910         2290                      0.005493   \n",
       "2         3990         1490         7780                      0.051467   \n",
       "3            0            0            0                      0.000000   \n",
       "4         7970         1350         2040                      1.245962   \n",
       "\n",
       "   projection_density  projection_energy  projection_intensity  \\\n",
       "0            0.000322           0.199142            618.587911   \n",
       "1            0.000099           0.093984            949.327605   \n",
       "2            0.000323           0.197320            611.805389   \n",
       "3            0.000000           0.000000              0.000000   \n",
       "4            0.036146          33.858096            936.699871   \n",
       "\n",
       "   projection_volume  structure_id  sum_pixel_intensity    sum_pixels  \\\n",
       "0           0.000092     182305705         7.397989e+10  2.321802e+08   \n",
       "1           0.000431            95         7.746513e+11  3.552348e+09   \n",
       "2           0.004036           985         2.654921e+12  1.021620e+10   \n",
       "3           0.000000           201         2.135174e+11  6.822180e+08   \n",
       "4           0.097714            22         5.960447e+11  2.206769e+09   \n",
       "\n",
       "   sum_projection_pixel_intensity  sum_projection_pixels     volume  \n",
       "0                    4.623686e+07           7.474581e+04   0.284421  \n",
       "1                    3.338650e+08           3.516858e+05   4.351626  \n",
       "2                    2.015858e+09           3.294933e+06  12.514846  \n",
       "3                    0.000000e+00           0.000000e+00   0.835717  \n",
       "4                    7.471698e+10           7.976619e+07   2.703291  "
      ]
     },
     "execution_count": 80,
     "metadata": {},
     "output_type": "execute_result"
    }
   ],
   "source": [
    "#VISal_structures = structure_tree.get_structures_by_id('402')\n",
    "#print(\"There are %d total experiments on VISal connectivity\" % len(VISal_structures))\n",
    "#VISal_acronym_list = ['VISal', 'VISal1', 'VISal2/3', 'VISal4', 'VISal5', 'VISal6a', 'VISal6b']\n",
    "#VISal_acronym = structure_tree.get_structures_by_acronym(VISal_acronym_list)[1]\n",
    "#print(VISal_acronym)\n",
    "#print(\"There are %d total experiments on VISal connectivity\" % len(VISal_acronym))\n",
    "\n",
    "#find wild-type injections into AnterioLateral visual area\n",
    "visal = structure_tree.get_structures_by_acronym(VISal_acronym_list)[0]\n",
    "visal_experiments = mcc.get_experiments(cre=True, \n",
    "                                       injection_structure_ids=[visal['id']])\n",
    "\n",
    "print(\"%d VISal experiments\" % len(visal_experiments))\n",
    "\n",
    "al_structure_unionizes = mcc.get_structure_unionizes([ e['id'] for e in visal_experiments ], \n",
    "                                                  is_injection=False,\n",
    "                                                  structure_ids=[isocortex['id']],\n",
    "                                                  include_descendants=True)\n",
    "\n",
    "print(\"%d VISal non-injection, cortical structure unionizes\" % len(al_structure_unionizes))\n",
    "al_structure_unionizes.head()"
   ]
  },
  {
   "cell_type": "code",
   "execution_count": 46,
   "metadata": {},
   "outputs": [
    {
     "name": "stdout",
     "output_type": "stream",
     "text": [
      "69 large, dense, cortical, non-injection unionizes, 69 structures\n",
      "0      Primary visual area, layer 4\n",
      "1         Rostrolateral visual area\n",
      "2     Primary visual area, layer 6a\n",
      "3                     Anterior area\n",
      "4          Anteromedial visual area\n",
      "                  ...              \n",
      "64    Primary visual area, layer 6a\n",
      "65        posteromedial visual area\n",
      "66     Primary visual area, layer 1\n",
      "67                     Visual areas\n",
      "68                  Postrhinal area\n",
      "Name: name, Length: 69, dtype: object\n"
     ]
    },
    {
     "data": {
      "text/html": [
       "<div>\n",
       "<style scoped>\n",
       "    .dataframe tbody tr th:only-of-type {\n",
       "        vertical-align: middle;\n",
       "    }\n",
       "\n",
       "    .dataframe tbody tr th {\n",
       "        vertical-align: top;\n",
       "    }\n",
       "\n",
       "    .dataframe thead th {\n",
       "        text-align: right;\n",
       "    }\n",
       "</style>\n",
       "<table border=\"1\" class=\"dataframe\">\n",
       "  <thead>\n",
       "    <tr style=\"text-align: right;\">\n",
       "      <th></th>\n",
       "      <th>experiment_id</th>\n",
       "      <th>hemisphere_id</th>\n",
       "      <th>id</th>\n",
       "      <th>is_injection</th>\n",
       "      <th>max_voxel_density</th>\n",
       "      <th>max_voxel_x</th>\n",
       "      <th>max_voxel_y</th>\n",
       "      <th>max_voxel_z</th>\n",
       "      <th>normalized_projection_volume</th>\n",
       "      <th>projection_density</th>\n",
       "      <th>projection_energy</th>\n",
       "      <th>projection_intensity</th>\n",
       "      <th>projection_volume</th>\n",
       "      <th>structure_id</th>\n",
       "      <th>sum_pixel_intensity</th>\n",
       "      <th>sum_pixels</th>\n",
       "      <th>sum_projection_pixel_intensity</th>\n",
       "      <th>sum_projection_pixels</th>\n",
       "      <th>volume</th>\n",
       "    </tr>\n",
       "  </thead>\n",
       "  <tbody>\n",
       "    <tr>\n",
       "      <th>137</th>\n",
       "      <td>520996382</td>\n",
       "      <td>1</td>\n",
       "      <td>640781318</td>\n",
       "      <td>False</td>\n",
       "      <td>0.729122</td>\n",
       "      <td>8780</td>\n",
       "      <td>990</td>\n",
       "      <td>3360</td>\n",
       "      <td>0.844619</td>\n",
       "      <td>0.117386</td>\n",
       "      <td>151.556244</td>\n",
       "      <td>1291.096313</td>\n",
       "      <td>0.066239</td>\n",
       "      <td>721</td>\n",
       "      <td>2.050862e+11</td>\n",
       "      <td>4.606380e+08</td>\n",
       "      <td>6.981257e+10</td>\n",
       "      <td>5.407232e+07</td>\n",
       "      <td>0.564282</td>\n",
       "    </tr>\n",
       "    <tr>\n",
       "      <th>447</th>\n",
       "      <td>520996382</td>\n",
       "      <td>1</td>\n",
       "      <td>640781888</td>\n",
       "      <td>False</td>\n",
       "      <td>0.813034</td>\n",
       "      <td>7970</td>\n",
       "      <td>1350</td>\n",
       "      <td>2040</td>\n",
       "      <td>0.807299</td>\n",
       "      <td>0.113947</td>\n",
       "      <td>112.433046</td>\n",
       "      <td>986.715732</td>\n",
       "      <td>0.063312</td>\n",
       "      <td>417</td>\n",
       "      <td>1.633774e+11</td>\n",
       "      <td>4.535721e+08</td>\n",
       "      <td>5.099649e+10</td>\n",
       "      <td>5.168306e+07</td>\n",
       "      <td>0.555626</td>\n",
       "    </tr>\n",
       "    <tr>\n",
       "      <th>583</th>\n",
       "      <td>520996382</td>\n",
       "      <td>1</td>\n",
       "      <td>640782648</td>\n",
       "      <td>False</td>\n",
       "      <td>0.709272</td>\n",
       "      <td>8810</td>\n",
       "      <td>1480</td>\n",
       "      <td>3150</td>\n",
       "      <td>0.813943</td>\n",
       "      <td>0.108134</td>\n",
       "      <td>117.561356</td>\n",
       "      <td>1087.184326</td>\n",
       "      <td>0.063833</td>\n",
       "      <td>33</td>\n",
       "      <td>1.704421e+11</td>\n",
       "      <td>4.818888e+08</td>\n",
       "      <td>5.665150e+10</td>\n",
       "      <td>5.210846e+07</td>\n",
       "      <td>0.590314</td>\n",
       "    </tr>\n",
       "    <tr>\n",
       "      <th>2798</th>\n",
       "      <td>528509838</td>\n",
       "      <td>1</td>\n",
       "      <td>640901917</td>\n",
       "      <td>False</td>\n",
       "      <td>1.000000</td>\n",
       "      <td>7620</td>\n",
       "      <td>510</td>\n",
       "      <td>3530</td>\n",
       "      <td>2.357872</td>\n",
       "      <td>0.111205</td>\n",
       "      <td>219.006930</td>\n",
       "      <td>1969.401458</td>\n",
       "      <td>0.088223</td>\n",
       "      <td>312782546</td>\n",
       "      <td>3.795801e+11</td>\n",
       "      <td>6.476238e+08</td>\n",
       "      <td>1.418341e+11</td>\n",
       "      <td>7.201889e+07</td>\n",
       "      <td>0.793339</td>\n",
       "    </tr>\n",
       "    <tr>\n",
       "      <th>3018</th>\n",
       "      <td>528509838</td>\n",
       "      <td>3</td>\n",
       "      <td>640903696</td>\n",
       "      <td>False</td>\n",
       "      <td>1.000000</td>\n",
       "      <td>7730</td>\n",
       "      <td>530</td>\n",
       "      <td>3590</td>\n",
       "      <td>2.877652</td>\n",
       "      <td>0.123223</td>\n",
       "      <td>291.729062</td>\n",
       "      <td>2367.493549</td>\n",
       "      <td>0.107671</td>\n",
       "      <td>394</td>\n",
       "      <td>4.481023e+11</td>\n",
       "      <td>7.133022e+08</td>\n",
       "      <td>2.080910e+11</td>\n",
       "      <td>8.789506e+07</td>\n",
       "      <td>0.873795</td>\n",
       "    </tr>\n",
       "    <tr>\n",
       "      <th>...</th>\n",
       "      <td>...</td>\n",
       "      <td>...</td>\n",
       "      <td>...</td>\n",
       "      <td>...</td>\n",
       "      <td>...</td>\n",
       "      <td>...</td>\n",
       "      <td>...</td>\n",
       "      <td>...</td>\n",
       "      <td>...</td>\n",
       "      <td>...</td>\n",
       "      <td>...</td>\n",
       "      <td>...</td>\n",
       "      <td>...</td>\n",
       "      <td>...</td>\n",
       "      <td>...</td>\n",
       "      <td>...</td>\n",
       "      <td>...</td>\n",
       "      <td>...</td>\n",
       "      <td>...</td>\n",
       "    </tr>\n",
       "    <tr>\n",
       "      <th>14466</th>\n",
       "      <td>524666904</td>\n",
       "      <td>1</td>\n",
       "      <td>640851737</td>\n",
       "      <td>False</td>\n",
       "      <td>0.898405</td>\n",
       "      <td>8480</td>\n",
       "      <td>1630</td>\n",
       "      <td>2570</td>\n",
       "      <td>1.573507</td>\n",
       "      <td>0.113063</td>\n",
       "      <td>110.957413</td>\n",
       "      <td>981.377075</td>\n",
       "      <td>0.066041</td>\n",
       "      <td>33</td>\n",
       "      <td>1.470833e+11</td>\n",
       "      <td>4.768200e+08</td>\n",
       "      <td>5.290671e+10</td>\n",
       "      <td>5.391069e+07</td>\n",
       "      <td>0.584105</td>\n",
       "    </tr>\n",
       "    <tr>\n",
       "      <th>14530</th>\n",
       "      <td>524666904</td>\n",
       "      <td>1</td>\n",
       "      <td>640851340</td>\n",
       "      <td>False</td>\n",
       "      <td>1.000000</td>\n",
       "      <td>7950</td>\n",
       "      <td>570</td>\n",
       "      <td>3730</td>\n",
       "      <td>2.381890</td>\n",
       "      <td>0.172917</td>\n",
       "      <td>236.683459</td>\n",
       "      <td>1368.769523</td>\n",
       "      <td>0.099969</td>\n",
       "      <td>533</td>\n",
       "      <td>1.957105e+11</td>\n",
       "      <td>4.719438e+08</td>\n",
       "      <td>1.117013e+11</td>\n",
       "      <td>8.160709e+07</td>\n",
       "      <td>0.578131</td>\n",
       "    </tr>\n",
       "    <tr>\n",
       "      <th>14547</th>\n",
       "      <td>524666904</td>\n",
       "      <td>1</td>\n",
       "      <td>640851295</td>\n",
       "      <td>False</td>\n",
       "      <td>0.999606</td>\n",
       "      <td>8840</td>\n",
       "      <td>590</td>\n",
       "      <td>3290</td>\n",
       "      <td>2.021766</td>\n",
       "      <td>0.125489</td>\n",
       "      <td>137.556625</td>\n",
       "      <td>1096.167969</td>\n",
       "      <td>0.084854</td>\n",
       "      <td>593</td>\n",
       "      <td>1.509399e+11</td>\n",
       "      <td>5.519916e+08</td>\n",
       "      <td>7.593011e+10</td>\n",
       "      <td>6.926868e+07</td>\n",
       "      <td>0.676190</td>\n",
       "    </tr>\n",
       "    <tr>\n",
       "      <th>14583</th>\n",
       "      <td>524666904</td>\n",
       "      <td>1</td>\n",
       "      <td>640851227</td>\n",
       "      <td>False</td>\n",
       "      <td>1.000000</td>\n",
       "      <td>7950</td>\n",
       "      <td>570</td>\n",
       "      <td>3730</td>\n",
       "      <td>18.312359</td>\n",
       "      <td>0.113560</td>\n",
       "      <td>133.211155</td>\n",
       "      <td>1173.048500</td>\n",
       "      <td>0.768575</td>\n",
       "      <td>669</td>\n",
       "      <td>1.788725e+12</td>\n",
       "      <td>5.524917e+09</td>\n",
       "      <td>7.359806e+11</td>\n",
       "      <td>6.274085e+08</td>\n",
       "      <td>6.768024</td>\n",
       "    </tr>\n",
       "    <tr>\n",
       "      <th>14656</th>\n",
       "      <td>524666904</td>\n",
       "      <td>1</td>\n",
       "      <td>640850120</td>\n",
       "      <td>False</td>\n",
       "      <td>0.999871</td>\n",
       "      <td>9760</td>\n",
       "      <td>2730</td>\n",
       "      <td>1300</td>\n",
       "      <td>2.602081</td>\n",
       "      <td>0.154486</td>\n",
       "      <td>159.055633</td>\n",
       "      <td>1029.578569</td>\n",
       "      <td>0.109210</td>\n",
       "      <td>312782628</td>\n",
       "      <td>1.971878e+11</td>\n",
       "      <td>5.770818e+08</td>\n",
       "      <td>9.178811e+10</td>\n",
       "      <td>8.915115e+07</td>\n",
       "      <td>0.706925</td>\n",
       "    </tr>\n",
       "  </tbody>\n",
       "</table>\n",
       "<p>69 rows × 19 columns</p>\n",
       "</div>"
      ],
      "text/plain": [
       "       experiment_id  hemisphere_id         id  is_injection  \\\n",
       "137        520996382              1  640781318         False   \n",
       "447        520996382              1  640781888         False   \n",
       "583        520996382              1  640782648         False   \n",
       "2798       528509838              1  640901917         False   \n",
       "3018       528509838              3  640903696         False   \n",
       "...              ...            ...        ...           ...   \n",
       "14466      524666904              1  640851737         False   \n",
       "14530      524666904              1  640851340         False   \n",
       "14547      524666904              1  640851295         False   \n",
       "14583      524666904              1  640851227         False   \n",
       "14656      524666904              1  640850120         False   \n",
       "\n",
       "       max_voxel_density  max_voxel_x  max_voxel_y  max_voxel_z  \\\n",
       "137             0.729122         8780          990         3360   \n",
       "447             0.813034         7970         1350         2040   \n",
       "583             0.709272         8810         1480         3150   \n",
       "2798            1.000000         7620          510         3530   \n",
       "3018            1.000000         7730          530         3590   \n",
       "...                  ...          ...          ...          ...   \n",
       "14466           0.898405         8480         1630         2570   \n",
       "14530           1.000000         7950          570         3730   \n",
       "14547           0.999606         8840          590         3290   \n",
       "14583           1.000000         7950          570         3730   \n",
       "14656           0.999871         9760         2730         1300   \n",
       "\n",
       "       normalized_projection_volume  projection_density  projection_energy  \\\n",
       "137                        0.844619            0.117386         151.556244   \n",
       "447                        0.807299            0.113947         112.433046   \n",
       "583                        0.813943            0.108134         117.561356   \n",
       "2798                       2.357872            0.111205         219.006930   \n",
       "3018                       2.877652            0.123223         291.729062   \n",
       "...                             ...                 ...                ...   \n",
       "14466                      1.573507            0.113063         110.957413   \n",
       "14530                      2.381890            0.172917         236.683459   \n",
       "14547                      2.021766            0.125489         137.556625   \n",
       "14583                     18.312359            0.113560         133.211155   \n",
       "14656                      2.602081            0.154486         159.055633   \n",
       "\n",
       "       projection_intensity  projection_volume  structure_id  \\\n",
       "137             1291.096313           0.066239           721   \n",
       "447              986.715732           0.063312           417   \n",
       "583             1087.184326           0.063833            33   \n",
       "2798            1969.401458           0.088223     312782546   \n",
       "3018            2367.493549           0.107671           394   \n",
       "...                     ...                ...           ...   \n",
       "14466            981.377075           0.066041            33   \n",
       "14530           1368.769523           0.099969           533   \n",
       "14547           1096.167969           0.084854           593   \n",
       "14583           1173.048500           0.768575           669   \n",
       "14656           1029.578569           0.109210     312782628   \n",
       "\n",
       "       sum_pixel_intensity    sum_pixels  sum_projection_pixel_intensity  \\\n",
       "137           2.050862e+11  4.606380e+08                    6.981257e+10   \n",
       "447           1.633774e+11  4.535721e+08                    5.099649e+10   \n",
       "583           1.704421e+11  4.818888e+08                    5.665150e+10   \n",
       "2798          3.795801e+11  6.476238e+08                    1.418341e+11   \n",
       "3018          4.481023e+11  7.133022e+08                    2.080910e+11   \n",
       "...                    ...           ...                             ...   \n",
       "14466         1.470833e+11  4.768200e+08                    5.290671e+10   \n",
       "14530         1.957105e+11  4.719438e+08                    1.117013e+11   \n",
       "14547         1.509399e+11  5.519916e+08                    7.593011e+10   \n",
       "14583         1.788725e+12  5.524917e+09                    7.359806e+11   \n",
       "14656         1.971878e+11  5.770818e+08                    9.178811e+10   \n",
       "\n",
       "       sum_projection_pixels    volume  \n",
       "137             5.407232e+07  0.564282  \n",
       "447             5.168306e+07  0.555626  \n",
       "583             5.210846e+07  0.590314  \n",
       "2798            7.201889e+07  0.793339  \n",
       "3018            8.789506e+07  0.873795  \n",
       "...                      ...       ...  \n",
       "14466           5.391069e+07  0.584105  \n",
       "14530           8.160709e+07  0.578131  \n",
       "14547           6.926868e+07  0.676190  \n",
       "14583           6.274085e+08  6.768024  \n",
       "14656           8.915115e+07  0.706925  \n",
       "\n",
       "[69 rows x 19 columns]"
      ]
     },
     "execution_count": 46,
     "metadata": {},
     "output_type": "execute_result"
    }
   ],
   "source": [
    "dense_unionizes = al_structure_unionizes[ al_structure_unionizes.projection_density > .1 ]\n",
    "large_unionizes = dense_unionizes[ dense_unionizes.volume > .5 ]\n",
    "large_structures = pd.DataFrame(structure_tree.nodes(large_unionizes.structure_id))\n",
    "\n",
    "print(\"%d large, dense, cortical, non-injection unionizes, %d structures\" % ( len(large_unionizes), len(large_structures) ))\n",
    "\n",
    "print(large_structures.name)\n",
    "\n",
    "large_unionizes"
   ]
  },
  {
   "cell_type": "code",
   "execution_count": 47,
   "metadata": {},
   "outputs": [
    {
     "name": "stdout",
     "output_type": "stream",
     "text": [
      "27 VISpm experiments\n",
      "23895 VISpm non-injection, cortical structure unionizes\n"
     ]
    },
    {
     "data": {
      "text/html": [
       "<div>\n",
       "<style scoped>\n",
       "    .dataframe tbody tr th:only-of-type {\n",
       "        vertical-align: middle;\n",
       "    }\n",
       "\n",
       "    .dataframe tbody tr th {\n",
       "        vertical-align: top;\n",
       "    }\n",
       "\n",
       "    .dataframe thead th {\n",
       "        text-align: right;\n",
       "    }\n",
       "</style>\n",
       "<table border=\"1\" class=\"dataframe\">\n",
       "  <thead>\n",
       "    <tr style=\"text-align: right;\">\n",
       "      <th></th>\n",
       "      <th>experiment_id</th>\n",
       "      <th>hemisphere_id</th>\n",
       "      <th>id</th>\n",
       "      <th>is_injection</th>\n",
       "      <th>max_voxel_density</th>\n",
       "      <th>max_voxel_x</th>\n",
       "      <th>max_voxel_y</th>\n",
       "      <th>max_voxel_z</th>\n",
       "      <th>normalized_projection_volume</th>\n",
       "      <th>projection_density</th>\n",
       "      <th>projection_energy</th>\n",
       "      <th>projection_intensity</th>\n",
       "      <th>projection_volume</th>\n",
       "      <th>structure_id</th>\n",
       "      <th>sum_pixel_intensity</th>\n",
       "      <th>sum_pixels</th>\n",
       "      <th>sum_projection_pixel_intensity</th>\n",
       "      <th>sum_projection_pixels</th>\n",
       "      <th>volume</th>\n",
       "    </tr>\n",
       "  </thead>\n",
       "  <tbody>\n",
       "    <tr>\n",
       "      <th>0</th>\n",
       "      <td>523718823</td>\n",
       "      <td>3</td>\n",
       "      <td>640839159</td>\n",
       "      <td>False</td>\n",
       "      <td>0.465228</td>\n",
       "      <td>9150</td>\n",
       "      <td>2760</td>\n",
       "      <td>1240</td>\n",
       "      <td>4.484601e-02</td>\n",
       "      <td>9.782284e-03</td>\n",
       "      <td>6.643982e+00</td>\n",
       "      <td>679.185155</td>\n",
       "      <td>3.373732e-03</td>\n",
       "      <td>234</td>\n",
       "      <td>6.253321e+10</td>\n",
       "      <td>2.815362e+08</td>\n",
       "      <td>1.870521e+09</td>\n",
       "      <td>2.754067e+06</td>\n",
       "      <td>0.344882</td>\n",
       "    </tr>\n",
       "    <tr>\n",
       "      <th>1</th>\n",
       "      <td>523718823</td>\n",
       "      <td>1</td>\n",
       "      <td>640837833</td>\n",
       "      <td>False</td>\n",
       "      <td>0.000206</td>\n",
       "      <td>6590</td>\n",
       "      <td>1050</td>\n",
       "      <td>3510</td>\n",
       "      <td>6.393456e-09</td>\n",
       "      <td>1.667878e-09</td>\n",
       "      <td>6.326772e-07</td>\n",
       "      <td>379.330627</td>\n",
       "      <td>4.809750e-10</td>\n",
       "      <td>577</td>\n",
       "      <td>7.551257e+10</td>\n",
       "      <td>2.354085e+08</td>\n",
       "      <td>1.489376e+02</td>\n",
       "      <td>3.926327e-01</td>\n",
       "      <td>0.288375</td>\n",
       "    </tr>\n",
       "    <tr>\n",
       "      <th>2</th>\n",
       "      <td>523718823</td>\n",
       "      <td>1</td>\n",
       "      <td>640837916</td>\n",
       "      <td>False</td>\n",
       "      <td>0.354538</td>\n",
       "      <td>6000</td>\n",
       "      <td>650</td>\n",
       "      <td>4930</td>\n",
       "      <td>7.591707e-02</td>\n",
       "      <td>4.237331e-04</td>\n",
       "      <td>1.575204e-01</td>\n",
       "      <td>371.744303</td>\n",
       "      <td>5.711185e-03</td>\n",
       "      <td>500</td>\n",
       "      <td>2.791571e+12</td>\n",
       "      <td>1.100266e+10</td>\n",
       "      <td>1.733143e+09</td>\n",
       "      <td>4.662192e+06</td>\n",
       "      <td>13.478262</td>\n",
       "    </tr>\n",
       "    <tr>\n",
       "      <th>3</th>\n",
       "      <td>523718823</td>\n",
       "      <td>3</td>\n",
       "      <td>640839140</td>\n",
       "      <td>False</td>\n",
       "      <td>0.235882</td>\n",
       "      <td>4470</td>\n",
       "      <td>1570</td>\n",
       "      <td>5420</td>\n",
       "      <td>7.468156e-03</td>\n",
       "      <td>8.432550e-04</td>\n",
       "      <td>4.842790e-01</td>\n",
       "      <td>574.297151</td>\n",
       "      <td>5.618239e-04</td>\n",
       "      <td>211</td>\n",
       "      <td>1.418957e+11</td>\n",
       "      <td>5.438826e+08</td>\n",
       "      <td>2.633909e+08</td>\n",
       "      <td>4.586318e+05</td>\n",
       "      <td>0.666256</td>\n",
       "    </tr>\n",
       "    <tr>\n",
       "      <th>4</th>\n",
       "      <td>523718823</td>\n",
       "      <td>1</td>\n",
       "      <td>640837801</td>\n",
       "      <td>False</td>\n",
       "      <td>0.522762</td>\n",
       "      <td>8060</td>\n",
       "      <td>1930</td>\n",
       "      <td>1550</td>\n",
       "      <td>2.989156e-02</td>\n",
       "      <td>1.246139e-02</td>\n",
       "      <td>9.529721e+00</td>\n",
       "      <td>764.739929</td>\n",
       "      <td>2.248720e-03</td>\n",
       "      <td>600</td>\n",
       "      <td>2.948636e+10</td>\n",
       "      <td>1.473102e+08</td>\n",
       "      <td>1.403825e+09</td>\n",
       "      <td>1.835690e+06</td>\n",
       "      <td>0.180455</td>\n",
       "    </tr>\n",
       "  </tbody>\n",
       "</table>\n",
       "</div>"
      ],
      "text/plain": [
       "   experiment_id  hemisphere_id         id  is_injection  max_voxel_density  \\\n",
       "0      523718823              3  640839159         False           0.465228   \n",
       "1      523718823              1  640837833         False           0.000206   \n",
       "2      523718823              1  640837916         False           0.354538   \n",
       "3      523718823              3  640839140         False           0.235882   \n",
       "4      523718823              1  640837801         False           0.522762   \n",
       "\n",
       "   max_voxel_x  max_voxel_y  max_voxel_z  normalized_projection_volume  \\\n",
       "0         9150         2760         1240                  4.484601e-02   \n",
       "1         6590         1050         3510                  6.393456e-09   \n",
       "2         6000          650         4930                  7.591707e-02   \n",
       "3         4470         1570         5420                  7.468156e-03   \n",
       "4         8060         1930         1550                  2.989156e-02   \n",
       "\n",
       "   projection_density  projection_energy  projection_intensity  \\\n",
       "0        9.782284e-03       6.643982e+00            679.185155   \n",
       "1        1.667878e-09       6.326772e-07            379.330627   \n",
       "2        4.237331e-04       1.575204e-01            371.744303   \n",
       "3        8.432550e-04       4.842790e-01            574.297151   \n",
       "4        1.246139e-02       9.529721e+00            764.739929   \n",
       "\n",
       "   projection_volume  structure_id  sum_pixel_intensity    sum_pixels  \\\n",
       "0       3.373732e-03           234         6.253321e+10  2.815362e+08   \n",
       "1       4.809750e-10           577         7.551257e+10  2.354085e+08   \n",
       "2       5.711185e-03           500         2.791571e+12  1.100266e+10   \n",
       "3       5.618239e-04           211         1.418957e+11  5.438826e+08   \n",
       "4       2.248720e-03           600         2.948636e+10  1.473102e+08   \n",
       "\n",
       "   sum_projection_pixel_intensity  sum_projection_pixels     volume  \n",
       "0                    1.870521e+09           2.754067e+06   0.344882  \n",
       "1                    1.489376e+02           3.926327e-01   0.288375  \n",
       "2                    1.733143e+09           4.662192e+06  13.478262  \n",
       "3                    2.633909e+08           4.586318e+05   0.666256  \n",
       "4                    1.403825e+09           1.835690e+06   0.180455  "
      ]
     },
     "execution_count": 47,
     "metadata": {},
     "output_type": "execute_result"
    }
   ],
   "source": [
    "# find wild-type injections into PosteriorMedial visual area\n",
    "vispm = structure_tree.get_structures_by_acronym(['VISpm'])[0]\n",
    "vispm_experiments = mcc.get_experiments(cre=True, \n",
    "                                       injection_structure_ids=[vispm['id']])\n",
    "\n",
    "print(\"%d VISpm experiments\" % len(vispm_experiments))\n",
    "\n",
    "pm_structure_unionizes = mcc.get_structure_unionizes([ e['id'] for e in vispm_experiments ], \n",
    "                                                  is_injection=False,\n",
    "                                                  structure_ids=[isocortex['id']],\n",
    "                                                  include_descendants=True)\n",
    "\n",
    "print(\"%d VISpm non-injection, cortical structure unionizes\" % len(pm_structure_unionizes))\n",
    "\n",
    "pm_structure_unionizes.head()"
   ]
  },
  {
   "cell_type": "code",
   "execution_count": 48,
   "metadata": {},
   "outputs": [
    {
     "name": "stdout",
     "output_type": "stream",
     "text": [
      "141 large, dense, cortical, non-injection unionizes, 141 structures\n",
      "0                                   Anterior area\n",
      "1                   Primary visual area, layer 6a\n",
      "2                             Lateral visual area\n",
      "3                  Primary visual area, layer 2/3\n",
      "4                    Primary visual area, layer 1\n",
      "                          ...                    \n",
      "136                 Primary visual area, layer 6a\n",
      "137                  Primary visual area, layer 1\n",
      "138                      Anteromedial visual area\n",
      "139    Retrosplenial area, lateral agranular part\n",
      "140                 Primary visual area, layer 6a\n",
      "Name: name, Length: 141, dtype: object\n"
     ]
    },
    {
     "data": {
      "text/html": [
       "<div>\n",
       "<style scoped>\n",
       "    .dataframe tbody tr th:only-of-type {\n",
       "        vertical-align: middle;\n",
       "    }\n",
       "\n",
       "    .dataframe tbody tr th {\n",
       "        vertical-align: top;\n",
       "    }\n",
       "\n",
       "    .dataframe thead th {\n",
       "        text-align: right;\n",
       "    }\n",
       "</style>\n",
       "<table border=\"1\" class=\"dataframe\">\n",
       "  <thead>\n",
       "    <tr style=\"text-align: right;\">\n",
       "      <th></th>\n",
       "      <th>experiment_id</th>\n",
       "      <th>hemisphere_id</th>\n",
       "      <th>id</th>\n",
       "      <th>is_injection</th>\n",
       "      <th>max_voxel_density</th>\n",
       "      <th>max_voxel_x</th>\n",
       "      <th>max_voxel_y</th>\n",
       "      <th>max_voxel_z</th>\n",
       "      <th>normalized_projection_volume</th>\n",
       "      <th>projection_density</th>\n",
       "      <th>projection_energy</th>\n",
       "      <th>projection_intensity</th>\n",
       "      <th>projection_volume</th>\n",
       "      <th>structure_id</th>\n",
       "      <th>sum_pixel_intensity</th>\n",
       "      <th>sum_pixels</th>\n",
       "      <th>sum_projection_pixel_intensity</th>\n",
       "      <th>sum_projection_pixels</th>\n",
       "      <th>volume</th>\n",
       "    </tr>\n",
       "  </thead>\n",
       "  <tbody>\n",
       "    <tr>\n",
       "      <th>962</th>\n",
       "      <td>294481346</td>\n",
       "      <td>2</td>\n",
       "      <td>632547103</td>\n",
       "      <td>False</td>\n",
       "      <td>0.999823</td>\n",
       "      <td>7650</td>\n",
       "      <td>840</td>\n",
       "      <td>7870</td>\n",
       "      <td>0.769835</td>\n",
       "      <td>0.126034</td>\n",
       "      <td>81.467639</td>\n",
       "      <td>646.392702</td>\n",
       "      <td>0.099988</td>\n",
       "      <td>312782546</td>\n",
       "      <td>1.235053e+11</td>\n",
       "      <td>6.476238e+08</td>\n",
       "      <td>5.276038e+10</td>\n",
       "      <td>8.162280e+07</td>\n",
       "      <td>0.793339</td>\n",
       "    </tr>\n",
       "    <tr>\n",
       "      <th>1063</th>\n",
       "      <td>294481346</td>\n",
       "      <td>2</td>\n",
       "      <td>632544815</td>\n",
       "      <td>False</td>\n",
       "      <td>1.000000</td>\n",
       "      <td>8700</td>\n",
       "      <td>1130</td>\n",
       "      <td>7620</td>\n",
       "      <td>0.978650</td>\n",
       "      <td>0.217842</td>\n",
       "      <td>173.360535</td>\n",
       "      <td>795.806885</td>\n",
       "      <td>0.127109</td>\n",
       "      <td>33</td>\n",
       "      <td>1.363023e+11</td>\n",
       "      <td>4.763197e+08</td>\n",
       "      <td>8.257505e+10</td>\n",
       "      <td>1.037627e+08</td>\n",
       "      <td>0.583492</td>\n",
       "    </tr>\n",
       "    <tr>\n",
       "      <th>1160</th>\n",
       "      <td>294481346</td>\n",
       "      <td>2</td>\n",
       "      <td>632545607</td>\n",
       "      <td>False</td>\n",
       "      <td>0.998055</td>\n",
       "      <td>8740</td>\n",
       "      <td>1840</td>\n",
       "      <td>9460</td>\n",
       "      <td>0.563655</td>\n",
       "      <td>0.108357</td>\n",
       "      <td>60.055810</td>\n",
       "      <td>554.240007</td>\n",
       "      <td>0.073209</td>\n",
       "      <td>409</td>\n",
       "      <td>9.828260e+10</td>\n",
       "      <td>5.515308e+08</td>\n",
       "      <td>3.312263e+10</td>\n",
       "      <td>5.976225e+07</td>\n",
       "      <td>0.675625</td>\n",
       "    </tr>\n",
       "    <tr>\n",
       "      <th>1209</th>\n",
       "      <td>294481346</td>\n",
       "      <td>2</td>\n",
       "      <td>632546768</td>\n",
       "      <td>False</td>\n",
       "      <td>1.000000</td>\n",
       "      <td>8780</td>\n",
       "      <td>700</td>\n",
       "      <td>7660</td>\n",
       "      <td>1.237950</td>\n",
       "      <td>0.146156</td>\n",
       "      <td>172.762436</td>\n",
       "      <td>1182.038818</td>\n",
       "      <td>0.160788</td>\n",
       "      <td>821</td>\n",
       "      <td>2.565085e+11</td>\n",
       "      <td>8.980472e+08</td>\n",
       "      <td>1.551488e+11</td>\n",
       "      <td>1.312553e+08</td>\n",
       "      <td>1.100108</td>\n",
       "    </tr>\n",
       "    <tr>\n",
       "      <th>1261</th>\n",
       "      <td>294481346</td>\n",
       "      <td>2</td>\n",
       "      <td>632546003</td>\n",
       "      <td>False</td>\n",
       "      <td>1.000000</td>\n",
       "      <td>8700</td>\n",
       "      <td>430</td>\n",
       "      <td>7810</td>\n",
       "      <td>0.858260</td>\n",
       "      <td>0.160055</td>\n",
       "      <td>185.093109</td>\n",
       "      <td>1156.436035</td>\n",
       "      <td>0.111473</td>\n",
       "      <td>593</td>\n",
       "      <td>1.514309e+11</td>\n",
       "      <td>5.685435e+08</td>\n",
       "      <td>1.052335e+11</td>\n",
       "      <td>9.099810e+07</td>\n",
       "      <td>0.696466</td>\n",
       "    </tr>\n",
       "    <tr>\n",
       "      <th>...</th>\n",
       "      <td>...</td>\n",
       "      <td>...</td>\n",
       "      <td>...</td>\n",
       "      <td>...</td>\n",
       "      <td>...</td>\n",
       "      <td>...</td>\n",
       "      <td>...</td>\n",
       "      <td>...</td>\n",
       "      <td>...</td>\n",
       "      <td>...</td>\n",
       "      <td>...</td>\n",
       "      <td>...</td>\n",
       "      <td>...</td>\n",
       "      <td>...</td>\n",
       "      <td>...</td>\n",
       "      <td>...</td>\n",
       "      <td>...</td>\n",
       "      <td>...</td>\n",
       "      <td>...</td>\n",
       "    </tr>\n",
       "    <tr>\n",
       "      <th>20986</th>\n",
       "      <td>590987294</td>\n",
       "      <td>1</td>\n",
       "      <td>641365079</td>\n",
       "      <td>False</td>\n",
       "      <td>0.998225</td>\n",
       "      <td>8630</td>\n",
       "      <td>1030</td>\n",
       "      <td>4010</td>\n",
       "      <td>0.548545</td>\n",
       "      <td>0.114227</td>\n",
       "      <td>100.877289</td>\n",
       "      <td>883.128479</td>\n",
       "      <td>0.064384</td>\n",
       "      <td>33</td>\n",
       "      <td>1.542229e+11</td>\n",
       "      <td>4.601245e+08</td>\n",
       "      <td>4.641611e+10</td>\n",
       "      <td>5.255873e+07</td>\n",
       "      <td>0.563652</td>\n",
       "    </tr>\n",
       "    <tr>\n",
       "      <th>21636</th>\n",
       "      <td>485237081</td>\n",
       "      <td>1</td>\n",
       "      <td>640503011</td>\n",
       "      <td>False</td>\n",
       "      <td>0.999965</td>\n",
       "      <td>9950</td>\n",
       "      <td>860</td>\n",
       "      <td>3730</td>\n",
       "      <td>0.836540</td>\n",
       "      <td>0.113053</td>\n",
       "      <td>162.015076</td>\n",
       "      <td>1433.089600</td>\n",
       "      <td>0.074477</td>\n",
       "      <td>593</td>\n",
       "      <td>1.475572e+11</td>\n",
       "      <td>5.377815e+08</td>\n",
       "      <td>8.712871e+10</td>\n",
       "      <td>6.079781e+07</td>\n",
       "      <td>0.658782</td>\n",
       "    </tr>\n",
       "    <tr>\n",
       "      <th>21902</th>\n",
       "      <td>485237081</td>\n",
       "      <td>3</td>\n",
       "      <td>640504326</td>\n",
       "      <td>False</td>\n",
       "      <td>0.939685</td>\n",
       "      <td>7630</td>\n",
       "      <td>390</td>\n",
       "      <td>4100</td>\n",
       "      <td>1.233929</td>\n",
       "      <td>0.125849</td>\n",
       "      <td>134.986099</td>\n",
       "      <td>1072.604878</td>\n",
       "      <td>0.109857</td>\n",
       "      <td>394</td>\n",
       "      <td>2.337040e+11</td>\n",
       "      <td>7.125939e+08</td>\n",
       "      <td>9.619027e+10</td>\n",
       "      <td>8.967913e+07</td>\n",
       "      <td>0.872928</td>\n",
       "    </tr>\n",
       "    <tr>\n",
       "      <th>21951</th>\n",
       "      <td>485237081</td>\n",
       "      <td>1</td>\n",
       "      <td>640502776</td>\n",
       "      <td>False</td>\n",
       "      <td>0.999011</td>\n",
       "      <td>8710</td>\n",
       "      <td>910</td>\n",
       "      <td>4300</td>\n",
       "      <td>1.635542</td>\n",
       "      <td>0.116556</td>\n",
       "      <td>87.194175</td>\n",
       "      <td>748.089901</td>\n",
       "      <td>0.145613</td>\n",
       "      <td>894</td>\n",
       "      <td>2.517442e+11</td>\n",
       "      <td>1.019834e+09</td>\n",
       "      <td>8.892358e+10</td>\n",
       "      <td>1.188675e+08</td>\n",
       "      <td>1.249297</td>\n",
       "    </tr>\n",
       "    <tr>\n",
       "      <th>22067</th>\n",
       "      <td>485237081</td>\n",
       "      <td>1</td>\n",
       "      <td>640503828</td>\n",
       "      <td>False</td>\n",
       "      <td>1.000000</td>\n",
       "      <td>8480</td>\n",
       "      <td>1150</td>\n",
       "      <td>3810</td>\n",
       "      <td>0.857586</td>\n",
       "      <td>0.140019</td>\n",
       "      <td>152.334869</td>\n",
       "      <td>1087.958740</td>\n",
       "      <td>0.076351</td>\n",
       "      <td>33</td>\n",
       "      <td>1.514811e+11</td>\n",
       "      <td>4.451355e+08</td>\n",
       "      <td>6.780966e+10</td>\n",
       "      <td>6.232742e+07</td>\n",
       "      <td>0.545291</td>\n",
       "    </tr>\n",
       "  </tbody>\n",
       "</table>\n",
       "<p>141 rows × 19 columns</p>\n",
       "</div>"
      ],
      "text/plain": [
       "       experiment_id  hemisphere_id         id  is_injection  \\\n",
       "962        294481346              2  632547103         False   \n",
       "1063       294481346              2  632544815         False   \n",
       "1160       294481346              2  632545607         False   \n",
       "1209       294481346              2  632546768         False   \n",
       "1261       294481346              2  632546003         False   \n",
       "...              ...            ...        ...           ...   \n",
       "20986      590987294              1  641365079         False   \n",
       "21636      485237081              1  640503011         False   \n",
       "21902      485237081              3  640504326         False   \n",
       "21951      485237081              1  640502776         False   \n",
       "22067      485237081              1  640503828         False   \n",
       "\n",
       "       max_voxel_density  max_voxel_x  max_voxel_y  max_voxel_z  \\\n",
       "962             0.999823         7650          840         7870   \n",
       "1063            1.000000         8700         1130         7620   \n",
       "1160            0.998055         8740         1840         9460   \n",
       "1209            1.000000         8780          700         7660   \n",
       "1261            1.000000         8700          430         7810   \n",
       "...                  ...          ...          ...          ...   \n",
       "20986           0.998225         8630         1030         4010   \n",
       "21636           0.999965         9950          860         3730   \n",
       "21902           0.939685         7630          390         4100   \n",
       "21951           0.999011         8710          910         4300   \n",
       "22067           1.000000         8480         1150         3810   \n",
       "\n",
       "       normalized_projection_volume  projection_density  projection_energy  \\\n",
       "962                        0.769835            0.126034          81.467639   \n",
       "1063                       0.978650            0.217842         173.360535   \n",
       "1160                       0.563655            0.108357          60.055810   \n",
       "1209                       1.237950            0.146156         172.762436   \n",
       "1261                       0.858260            0.160055         185.093109   \n",
       "...                             ...                 ...                ...   \n",
       "20986                      0.548545            0.114227         100.877289   \n",
       "21636                      0.836540            0.113053         162.015076   \n",
       "21902                      1.233929            0.125849         134.986099   \n",
       "21951                      1.635542            0.116556          87.194175   \n",
       "22067                      0.857586            0.140019         152.334869   \n",
       "\n",
       "       projection_intensity  projection_volume  structure_id  \\\n",
       "962              646.392702           0.099988     312782546   \n",
       "1063             795.806885           0.127109            33   \n",
       "1160             554.240007           0.073209           409   \n",
       "1209            1182.038818           0.160788           821   \n",
       "1261            1156.436035           0.111473           593   \n",
       "...                     ...                ...           ...   \n",
       "20986            883.128479           0.064384            33   \n",
       "21636           1433.089600           0.074477           593   \n",
       "21902           1072.604878           0.109857           394   \n",
       "21951            748.089901           0.145613           894   \n",
       "22067           1087.958740           0.076351            33   \n",
       "\n",
       "       sum_pixel_intensity    sum_pixels  sum_projection_pixel_intensity  \\\n",
       "962           1.235053e+11  6.476238e+08                    5.276038e+10   \n",
       "1063          1.363023e+11  4.763197e+08                    8.257505e+10   \n",
       "1160          9.828260e+10  5.515308e+08                    3.312263e+10   \n",
       "1209          2.565085e+11  8.980472e+08                    1.551488e+11   \n",
       "1261          1.514309e+11  5.685435e+08                    1.052335e+11   \n",
       "...                    ...           ...                             ...   \n",
       "20986         1.542229e+11  4.601245e+08                    4.641611e+10   \n",
       "21636         1.475572e+11  5.377815e+08                    8.712871e+10   \n",
       "21902         2.337040e+11  7.125939e+08                    9.619027e+10   \n",
       "21951         2.517442e+11  1.019834e+09                    8.892358e+10   \n",
       "22067         1.514811e+11  4.451355e+08                    6.780966e+10   \n",
       "\n",
       "       sum_projection_pixels    volume  \n",
       "962             8.162280e+07  0.793339  \n",
       "1063            1.037627e+08  0.583492  \n",
       "1160            5.976225e+07  0.675625  \n",
       "1209            1.312553e+08  1.100108  \n",
       "1261            9.099810e+07  0.696466  \n",
       "...                      ...       ...  \n",
       "20986           5.255873e+07  0.563652  \n",
       "21636           6.079781e+07  0.658782  \n",
       "21902           8.967913e+07  0.872928  \n",
       "21951           1.188675e+08  1.249297  \n",
       "22067           6.232742e+07  0.545291  \n",
       "\n",
       "[141 rows x 19 columns]"
      ]
     },
     "execution_count": 48,
     "metadata": {},
     "output_type": "execute_result"
    }
   ],
   "source": [
    "dense_unionizes = pm_structure_unionizes[ pm_structure_unionizes.projection_density > .1 ]\n",
    "large_unionizes = dense_unionizes[ dense_unionizes.volume > .5 ]\n",
    "large_structures = pd.DataFrame(structure_tree.nodes(large_unionizes.structure_id))\n",
    "\n",
    "print(\"%d large, dense, cortical, non-injection unionizes, %d structures\" % ( len(large_unionizes), len(large_structures) ))\n",
    "\n",
    "print(large_structures.name)\n",
    "\n",
    "large_unionizes"
   ]
  },
  {
   "cell_type": "markdown",
   "metadata": {},
   "source": [
    "## Data Analysis & Results"
   ]
  },
  {
   "cell_type": "markdown",
   "metadata": {},
   "source": [
    "Include cells that describe the steps in your data analysis."
   ]
  },
  {
   "cell_type": "markdown",
   "metadata": {},
   "source": [
    "### 1.1 Plotting compartive data between the genetic fold change of VISal and VISpm"
   ]
  },
  {
   "cell_type": "code",
   "execution_count": 77,
   "metadata": {},
   "outputs": [
    {
     "name": "stdout",
     "output_type": "stream",
     "text": [
      "Num of gene plotted for VISal: 56\n",
      "Num of gene plotted for VISpm: 54\n"
     ]
    },
    {
     "data": {
      "text/plain": [
       "Text(0.5, 1.0, 'Gene Expression of VISpm area comparing to Primary Visual Cortex')"
      ]
     },
     "execution_count": 77,
     "metadata": {},
     "output_type": "execute_result"
    },
    {
     "data": {
      "image/png": "[encoded data removed]",
      "text/plain": [
       "<Figure size 1440x720 with 2 Axes>"
      ]
     },
     "metadata": {
      "needs_background": "light"
     },
     "output_type": "display_data"
    }
   ],
   "source": [
    "# plotting the gene expression data through barplot\n",
    "fig, ax = plt.subplots(ncols = 2,figsize=(20,10))\n",
    "NL_VISal_plot= NL_VISal_pd_fold[NL_VISal_pd_fold[\"fold-change\"] > 2.7].copy()\n",
    "NL_VISpm_plot = NL_VISpm_pd_fold[NL_VISpm_pd_fold[\"fold-change\"] > 2].copy()\n",
    "\n",
    "print(\"Num of gene plotted for VISal: \" + str(len(NL_VISal_plot)))\n",
    "print(\"Num of gene plotted for VISpm: \" + str(len(NL_VISpm_plot)))\n",
    "\n",
    "ax1 = sns.barplot(x = \"gene-symbol\", y = \"fold-change\", data = NL_VISal_plot, ax = ax[0], color='#013ADF')\n",
    "ax1.set_xticklabels(labels = NL_VISal_plot['gene-symbol'], rotation=90)\n",
    "ax1.set_ylim(2.7,)\n",
    "ax1.set_title('Gene Expression of VISal area comparing to Primary Visual Cortex')\n",
    "\n",
    "custom_palette = sns.color_palette(\"RdGy\", 2)\n",
    "ax2 = sns.barplot(x = \"gene-symbol\", y = \"fold-change\", data = NL_VISpm_plot, ax = ax[1], color='#FE2E2E' )\n",
    "ax2.set_xticklabels(labels = NL_VISpm_plot['gene-symbol'], rotation=90)\n",
    "ax2.set_ylim(2,)\n",
    "ax2.set_title('Gene Expression of VISpm area comparing to Primary Visual Cortex')"
   ]
  },
  {
   "cell_type": "markdown",
   "metadata": {},
   "source": [
    "**Figure 1**: The plot on the left shows the two extremes of gene expression from RNA sequence in the anterolateral area (AL) compared to the posteromedial area (PM). The plot on the left compared gene expression  posteromedial area (PM) to the anterolateral area (AL)."
   ]
  },
  {
   "cell_type": "markdown",
   "metadata": {},
   "source": [
    "### 1.2 Further catergorizing the differential functional differences between VISal and VISPm using Gene Ontology"
   ]
  },
  {
   "cell_type": "markdown",
   "metadata": {},
   "source": [
    "Isolate Entrez of all the genes identified in the ISH data"
   ]
  },
  {
   "cell_type": "code",
   "execution_count": 50,
   "metadata": {},
   "outputs": [],
   "source": [
    "entrez_alpm = pd.DataFrame(VISal_VISpm_pd[['entrez-id']])\n",
    "entrez_pmal = pd.DataFrame(VISpm_VISal_pd[['entrez-id']])\n",
    "NL_VISal_pd.sort_values(by=['fold-change'], ascending = False)\n",
    "NL_VISpm_pd.sort_values(by=['fold-change'], ascending = False)\n",
    "entrez_nlal = pd.DataFrame(NL_VISal_pd[['entrez-id']])\n",
    "entrez_nlpm = pd.DataFrame(NL_VISpm_pd[['entrez-id']])"
   ]
  },
  {
   "cell_type": "markdown",
   "metadata": {},
   "source": [
    "Export entrez ID to .csv format, for further analysis "
   ]
  },
  {
   "cell_type": "code",
   "execution_count": 51,
   "metadata": {},
   "outputs": [],
   "source": [
    "entrez_alpm.to_csv(\"./entrez_alpm.csv\", sep=',',index=False)\n",
    "entrez_pmal.to_csv(\"./entrez_pmal.csv\", sep=',',index=False)\n",
    "entrez_nlal.to_csv(\"./entrez_nlal.csv\", sep=',',index=False)\n",
    "entrez_nlpm.to_csv(\"./entrez_nlpm.csv\", sep=',',index=False)"
   ]
  },
  {
   "cell_type": "markdown",
   "metadata": {},
   "source": [
    "## Place to insert DAVID analysis"
   ]
  },
  {
   "cell_type": "markdown",
   "metadata": {},
   "source": [
    "### Cell Types Database: plotting resting potential of neurons VISal and VISpm areas"
   ]
  },
  {
   "cell_type": "code",
   "execution_count": 52,
   "metadata": {},
   "outputs": [
    {
     "data": {
      "text/plain": [
       "Text(0, 0.5, 'Resting Membrane Potential')"
      ]
     },
     "execution_count": 52,
     "metadata": {},
     "output_type": "execute_result"
    },
    {
     "data": {
      "image/png": "[encoded data removed]",
      "text/plain": [
       "<Figure size 1080x720 with 1 Axes>"
      ]
     },
     "metadata": {},
     "output_type": "display_data"
    }
   ],
   "source": [
    "fig, ax1 = plt.subplots(ncols = 1, figsize=(15,10))\n",
    "custom = [\"#013ADF\",\"#FE2E2E\"]\n",
    "\n",
    "sns.violinplot(y = 'Vrest', x = 'Brain Region', data = vrest, ax = ax1, palette = custom, orient = 'v')\n",
    "ax1.set_title('Resting Membrane Potential of VISal neurons comparing to VISpm neurons')\n",
    "ax1.set_ylabel('Resting Membrane Potential')"
   ]
  },
  {
   "cell_type": "markdown",
   "metadata": {},
   "source": [
    "**Figure 2**: There are similarities  in the range between the resting membrane potentials. The anterolateral area neurons' interquartile range ranges from -66 mV to -77 mV, while the resting membrane potential of the posteromedial area neuron's is -70 mV to -77 mV.\n"
   ]
  },
  {
   "cell_type": "markdown",
   "metadata": {},
   "source": [
    "### Looking into the electrophysiology data through PCA"
   ]
  },
  {
   "cell_type": "code",
   "execution_count": 53,
   "metadata": {},
   "outputs": [
    {
     "data": {
      "text/plain": [
       "<matplotlib.colorbar.Colorbar at 0x7fca709aaba8>"
      ]
     },
     "execution_count": 53,
     "metadata": {},
     "output_type": "execute_result"
    },
    {
     "data": {
      "image/png": "[encoded data removed]",
      "text/plain": [
       "<Figure size 432x288 with 2 Axes>"
      ]
     },
     "metadata": {},
     "output_type": "display_data"
    }
   ],
   "source": [
    "visalpm_cov = visalpm_ephys.cov()\n",
    "plt.imshow(visalpm_cov)\n",
    "plt.colorbar()"
   ]
  },
  {
   "cell_type": "code",
   "execution_count": 75,
   "metadata": {},
   "outputs": [],
   "source": [
    "pca = PCA(n_components = 5)            \n",
    "X_2D = pca.fit_transform(visalpm_ephys)   \n",
    "visalpm_ephys_name['PC1'] = X_2D[:,0]\n",
    "visalpm_ephys_name['PC2'] = X_2D[:,1]\n",
    "visalpm_ephys_name['PC3'] = X_2D[:,2]\n",
    "visalpm_ephys_name['PC4'] = X_2D[:,3]\n",
    "visalpm_ephys_name['PC5'] = X_2D[:,4]\n",
    "\n",
    "X_2D_ls = pca.fit_transform(visalpm_ephys.loc[:, ephys_list_long_square])   \n",
    "visalpm_ephys_name['ls_PC1'] = X_2D_ls[:,0]\n",
    "visalpm_ephys_name['ls_PC2'] = X_2D_ls[:,1]\n",
    "visalpm_ephys_name['ls_PC3'] = X_2D_ls[:,2]\n",
    "visalpm_ephys_name['ls_PC4'] = X_2D_ls[:,3]\n",
    "visalpm_ephys_name['ls_PC5'] = X_2D_ls[:,4]\n",
    "\n",
    "X_2D_ramp = pca.fit_transform(visalpm_ephys.loc[:, ephys_list_ramp])\n",
    "visalpm_ephys_name['r_PC1'] = X_2D_ramp[:,0]\n",
    "visalpm_ephys_name['r_PC2'] = X_2D_ramp[:,1]\n",
    "visalpm_ephys_name['r_PC3'] = X_2D_ramp[:,2]\n",
    "visalpm_ephys_name['r_PC4'] = X_2D_ramp[:,3]\n",
    "visalpm_ephys_name['r_PC5'] = X_2D_ramp[:,4]"
   ]
  },
  {
   "cell_type": "code",
   "execution_count": 78,
   "metadata": {},
   "outputs": [
    {
     "data": {
      "text/plain": [
       "<seaborn.axisgrid.FacetGrid at 0x7fca827fc668>"
      ]
     },
     "execution_count": 78,
     "metadata": {},
     "output_type": "execute_result"
    },
    {
     "data": {
      "image/png": "[encoded data removed]",
      "text/plain": [
       "<Figure size 564.7x288 with 1 Axes>"
      ]
     },
     "metadata": {
      "needs_background": "light"
     },
     "output_type": "display_data"
    },
    {
     "data": {
      "image/png": "[encoded data removed]",
      "text/plain": [
       "<Figure size 564.7x288 with 1 Axes>"
      ]
     },
     "metadata": {
      "needs_background": "light"
     },
     "output_type": "display_data"
    },
    {
     "data": {
      "image/png": "[encoded data removed]",
      "text/plain": [
       "<Figure size 564.7x288 with 1 Axes>"
      ]
     },
     "metadata": {
      "needs_background": "light"
     },
     "output_type": "display_data"
    }
   ],
   "source": [
    "sns.lmplot(\"PC1\", \"PC2\", hue ='Brain Region', palette = custom, data=visalpm_ephys_name, fit_reg=False, height = 4, aspect = 1.7)\n",
    "sns.lmplot(\"ls_PC1\", \"ls_PC2\", hue='Brain Region', palette = custom, data=visalpm_ephys_name, fit_reg=False, height = 4, aspect = 1.7)\n",
    "sns.lmplot(\"r_PC1\", \"r_PC2\", hue='Brain Region', palette = custom, data=visalpm_ephys_name, fit_reg=False, height = 4, aspect = 1.7)"
   ]
  },
  {
   "cell_type": "code",
   "execution_count": 57,
   "metadata": {},
   "outputs": [
    {
     "name": "stderr",
     "output_type": "stream",
     "text": [
      "No handles with labels found to put in legend.\n"
     ]
    },
    {
     "data": {
      "image/png": "[encoded data removed]",
      "text/plain": [
       "<Figure size 360x360 with 1 Axes>"
      ]
     },
     "metadata": {},
     "output_type": "display_data"
    }
   ],
   "source": [
    "plt.figure(figsize = (5,5))\n",
    "\n",
    "\n",
    "plt.bar(al_pm_sig['Brain Region'], al_pm_sig['Count'], color = ['#013ADF', '#FE2E2E'])\n",
    "plt.bar(al_pm_d['Brain Region'], al_pm_d['Count'], color = ['#9ab8f9', '#ffd1d1'])\n",
    "plt.xticks(rotation=90)\n",
    "plt.legend()\n",
    "plt.title(\"Proportion of direction selective cells in VISal and VISpm\")\n",
    "plt.show()"
   ]
  },
  {
   "cell_type": "markdown",
   "metadata": {},
   "source": [
    "### Plots for Direction selective cells"
   ]
  },
  {
   "cell_type": "code",
   "execution_count": null,
   "metadata": {},
   "outputs": [],
   "source": []
  },
  {
   "cell_type": "markdown",
   "metadata": {},
   "source": [
    "### Connectivity Database: Projection Matrix of VISal cells and VISpm cells"
   ]
  },
  {
   "cell_type": "code",
   "execution_count": 58,
   "metadata": {},
   "outputs": [
    {
     "data": {
      "image/png": "[encoded data removed]",
      "text/plain": [
       "<Figure size 1080x720 with 1 Axes>"
      ]
     },
     "metadata": {
      "needs_background": "light"
     },
     "output_type": "display_data"
    }
   ],
   "source": [
    "import warnings\n",
    "warnings.filterwarnings('ignore')\n",
    "%matplotlib inline\n",
    "\n",
    "visal_experiment_ids = [ e['id'] for e in visal_experiments ]\n",
    "ctx_children = structure_tree.child_ids( [isocortex['id']] )[0]\n",
    "\n",
    "pm = mcc.get_projection_matrix(experiment_ids = visal_experiment_ids, \n",
    "                               projection_structure_ids = ctx_children,\n",
    "                               hemisphere_ids= [2], # right hemisphere, ipsilateral\n",
    "                               parameter = 'projection_density')\n",
    "\n",
    "row_labels = pm['rows'] # these are just experiment ids\n",
    "column_labels = [ c['label'] for c in pm['columns'] ] \n",
    "matrix = pm['matrix']\n",
    "\n",
    "fig, ax = plt.subplots(figsize=(15,10))\n",
    "heatmap = ax.pcolor(matrix, cmap=plt.cm.afmhot)\n",
    "\n",
    "# put the major ticks at the middle of each cell\n",
    "ax.set_xticks(np.arange(matrix.shape[1])+0.5, minor=False)\n",
    "ax.set_yticks(np.arange(matrix.shape[0])+0.5, minor=False)\n",
    "\n",
    "ax.set_xlim([0, matrix.shape[1]])\n",
    "ax.set_ylim([0, matrix.shape[0]])          \n",
    "\n",
    "# want a more natural, table-like display\n",
    "ax.set_xlabel('Brain Regions Acronyms', fontsize=16)\n",
    "ax.xaxis.set_label_position('top') \n",
    "ax.set_ylabel('Experiment Number', fontsize=16)\n",
    "ax.yaxis.set_label_position('left') \n",
    "ax.invert_yaxis()\n",
    "ax.xaxis.tick_top()\n",
    "\n",
    "ax.set_xticklabels(column_labels, minor=False)\n",
    "ax.set_yticklabels(row_labels, minor=False)\n",
    "fig.suptitle('Projection Matrix of VISal area', fontsize=20)\n",
    "plt.show()"
   ]
  },
  {
   "cell_type": "code",
   "execution_count": 59,
   "metadata": {},
   "outputs": [
    {
     "data": {
      "image/png": "[encoded data removed]",
      "text/plain": [
       "<Figure size 1080x1080 with 1 Axes>"
      ]
     },
     "metadata": {
      "needs_background": "light"
     },
     "output_type": "display_data"
    }
   ],
   "source": [
    "import warnings\n",
    "warnings.filterwarnings('ignore')\n",
    "%matplotlib inline\n",
    "\n",
    "vispm_experiment_ids = [ e['id'] for e in vispm_experiments ]\n",
    "ctx_children = structure_tree.child_ids( [isocortex['id']] )[0]\n",
    "\n",
    "pm = mcc.get_projection_matrix(experiment_ids = vispm_experiment_ids, \n",
    "                               projection_structure_ids = ctx_children,\n",
    "                               hemisphere_ids= [2], # right hemisphere, ipsilateral\n",
    "                               parameter = 'projection_density')\n",
    "\n",
    "row_labels = pm['rows'] # these are just experiment ids\n",
    "column_labels = [ c['label'] for c in pm['columns'] ] \n",
    "matrix = pm['matrix']\n",
    "\n",
    "fig, ax = plt.subplots(figsize=(15,15))\n",
    "heatmap = ax.pcolor(matrix, cmap=plt.cm.afmhot)\n",
    "\n",
    "# put the major ticks at the middle of each cell\n",
    "ax.set_xticks(np.arange(matrix.shape[1])+0.5, minor=False)\n",
    "ax.set_yticks(np.arange(matrix.shape[0])+0.5, minor=False)\n",
    "\n",
    "ax.set_xlim([0, matrix.shape[1]])\n",
    "ax.set_ylim([0, matrix.shape[0]])          \n",
    "\n",
    "# want a more natural, table-like display\n",
    "ax.set_xlabel('Brain Regions Acronyms', fontsize=16)\n",
    "ax.xaxis.set_label_position('top') \n",
    "ax.set_ylabel('Experiment Number', fontsize=16)\n",
    "ax.yaxis.set_label_position('left') \n",
    "ax.invert_yaxis()\n",
    "ax.xaxis.tick_top()\n",
    "\n",
    "ax.set_xticklabels(column_labels, minor=False)\n",
    "ax.set_yticklabels(row_labels, minor=False)\n",
    "fig.suptitle('Projection Matrix of VISpm area', fontsize=20)\n",
    "\n",
    "\n",
    "plt.show()"
   ]
  },
  {
   "cell_type": "markdown",
   "metadata": {},
   "source": [
    "## **Conclusion & Discussion**\n",
    "When comparing the gene expression of VISpm to the VISal area, it is apparent that the genes Cacna 2D2, Aqp4, and AbcB6 are expressed much more in the VISpm area than in the VISal area. All three of these genes play an integral role in the transport of molecules and ions into and out of the cell. More specifically, Cacna 2D2 encodes for a subunit of the calcium channel complex that allows for calcium to flood into the cell, Aqp4 encodes for an aquaporin protein that allows for water to be selective allowed into the cell, and AbcB6 encodes an ATP transporter. We hypothesize that this abundance of transport genes in the VISpm point to the fact that these neurons are more active, as more transporters are required for neurons that transport molecules into/out of the cell. This gene expression data that has been collected may provide some insight as to why the findings of Anderman et al indicates that the VISpm is responsible for guiding behavior involving slow moving objects. This may be because when we observe slow moving stimuli, we are able to analyze the various attributes of the stimuli such as shape, color, and size and give it greater visual acuity, however we are not able to do so with fast moving stimuli. In order to analyze the various attributes of slow moving stimuli, we must have genes that will allow for the neurons that analyze slow moving stimuli to have greater activity. This is why the VISpm area contains the transporter coding genes: Cacna 2D2, Aqp4, and AbcB6 that will allow for the neurons in the VISpm area to be more active and functionally specialized in that it controls behavior in response to slow moving stimuli. On the other hand, the genes that were highly expressed in the VISal area in comparison to the VISpm area were genes that did not play a significant role in the visual system and perception, these genes were Enc1, Sbf1, and Rfx1.\n",
    "\n",
    "Moving on, when comparing the resting membrane potential of the VISal and VISpm areas, we find them to be similar. The anterolateral area neurons have a median resting membrane potential of -71mV, while the median resting membrane potential of the posteromedial area neurons are -72. Although the VISal and VISpm are functionally specialized in two different areas, they are both located within the visual cortex of the brain which is likely why the resting membrane potentials are so similar. The functional specialization of the neurons has not impacted the resting potentials of the neurons very much. \n",
    "\n",
    "Adding on to the electrophysiology of the VISal and VISpm areas, we observed that the trend between the fast trough depth vs. the upstroke-downstroke ratio of the two areas are very similar as well. The fast trough depth is the minimum value of the membrane potential in the interval lasting 5 ms after the peak, while the upstroke-downstroke ratio is the ratio between the absolute values of the action potential peak upstroke and the action potential peak downstroke. In both areas of the brain, we observed a positive correlation between these two variables. In other words, when the upstroke of the action potential is larger than the downstroke, then the neuron will be more depolarized up to 5ms after the peak. Once again, athough the VISal and VISpm are functionally specialized in two different areas, they are both located within the visual cortex of the brain which is likely why the trend of fast trough depth vs. the upstroke-downstroke ratio of the two areas are very similar.\n",
    "\n",
    "Finally, the anterolateral area and the posteromedial area of the visual cortex have a similar number of neurons that have a significant response to drifting gratings and a similar number of neurons that are direction selective. There are 7191 cells in the anterolateral area with 48.9% of them having a significant response to drifting gratings and 2.3% of them are direction selective. On the other hand, there are 7985 cells in the posterolateral visual area with 40.3% of them having a significant response to drifting gratings and 2.1% if them are direction selective.\n",
    "\n",
    "## **Limitations**\n",
    "In our experiment we only focused on mice. Although mice are good model organisms for the visual system, mice lack the cortical regions compared to humans and other primates. As a result, the result can not extrapolate visual processing for humans . For the violin plot (Figure 2), the differences in shape arises from the number of neurons; AL had less cells compared to PL . This finding will lead to the difference in shape. We only looked at electrophysical physiology properties and gene expression and did not look at connectivity to the V1. \n",
    "\n",
    "## **Future Direction**\n",
    "A future direction for this project is to look at the connectivity of these two regions.Connectivity could lead to functional specialization of a cortical region.  We need images from calcium imaging or fMRI to draw conclusions. We can look at the cre lines or a CRISPR knockout with genes highly expressed and barely expressed respectivley to see which one is linked to functional specialization of each regions. We need to data from single cells RNA sequence.\n"
   ]
  }
 ],
 "metadata": {
  "kernelspec": {
   "display_name": "Python 3",
   "language": "python",
   "name": "python3"
  },
  "language_info": {
   "codemirror_mode": {
    "name": "ipython",
    "version": 3
   },
   "file_extension": ".py",
   "mimetype": "text/x-python",
   "name": "python",
   "nbconvert_exporter": "python",
   "pygments_lexer": "ipython3",
   "version": "3.6.7"
  }
 },
 "nbformat": 4,
 "nbformat_minor": 2
}
