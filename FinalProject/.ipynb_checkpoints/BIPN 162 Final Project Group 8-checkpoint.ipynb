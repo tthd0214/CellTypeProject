{
 "cells": [
  {
   "cell_type": "markdown",
   "metadata": {},
   "source": [
    "## Abstract"
   ]
  },
  {
   "cell_type": "markdown",
   "metadata": {},
   "source": [
    "*Fill in your 3-4 sentence abstract here*"
   ]
  },
  {
   "cell_type": "markdown",
   "metadata": {},
   "source": [
    "## Research Question"
   ]
  },
  {
   "cell_type": "markdown",
   "metadata": {},
   "source": [
    "*Fill in your research question here*"
   ]
  },
  {
   "cell_type": "markdown",
   "metadata": {},
   "source": [
    "# Background and Prior Work"
   ]
  },
  {
   "cell_type": "markdown",
   "metadata": {},
   "source": [
    "*Fill in your background and prior work here (~500 words). You are welcome to use additional subheadings. You should also include a paragraph describing each dataset and how you'll be using them.* \n",
    "\n",
    "### References (include links):\n",
    "(1)\n",
    "\n",
    "(2)"
   ]
  },
  {
   "cell_type": "markdown",
   "metadata": {},
   "source": [
    "## Hypothesis\n"
   ]
  },
  {
   "cell_type": "markdown",
   "metadata": {},
   "source": [
    "*Fill in your hypotheses here*"
   ]
  },
  {
   "cell_type": "markdown",
   "metadata": {},
   "source": [
    "## Setup\n",
    "*Are there packages that need to be imported, or datasets that need to be downloaded?*"
   ]
  },
  {
   "cell_type": "code",
   "execution_count": 33,
   "metadata": {},
   "outputs": [],
   "source": [
    "import numpy as np\n",
    "import pandas as pd\n",
    "import xml.etree.ElementTree as ET\n",
    "import matplotlib as mpl\n",
    "import matplotlib.pyplot as plt\n",
    "import seaborn as sns\n",
    "sns.set(style=\"whitegrid\")\n",
    "\n",
    "from scipy.spatial.distance import pdist, squareform\n",
    "\n",
    "# Download mouse data in Allen Cell types database\n",
    "\n",
    "from allensdk.core.cell_types_cache import CellTypesCache\n",
    "from allensdk.api.queries.cell_types_api import CellTypesApi\n",
    "import allensdk.brain_observatory.stimulus_info as stim_info\n",
    "from allensdk.api.queries.rma_api import RmaApi\n",
    "\n",
    "ctc = CellTypesCache(manifest_file='cell_types/manifest.json')\n",
    "\n",
    "# Download all the data from mice specificially\n",
    "mouse_df = pd.DataFrame(ctc.get_cells(species=[CellTypesApi.MOUSE]))\n",
    "\n",
    "# Download visual response data from Allen Brain Observatory\n",
    "\n",
    "from allensdk.core.brain_observatory_cache import BrainObservatoryCache\n",
    "import pprint\n",
    "\n",
    "boc = BrainObservatoryCache(manifest_file='/datasets/allen-brain-observatory/visual-coding-2p/manifest.json')\n",
    "\n",
    "# Download a list of all targeted areas\n",
    "targeted_structures = boc.get_all_targeted_structures()\n",
    "\n",
    "# Import CSV including ISH gene expression data from the two structures\n",
    "\n",
    "## Approach:\n",
    "\n",
    "# 1. Did query search on Allen ISH data\n",
    "# 2. Download as .xml format, then convert it into .csv format through online platform\n",
    "# 3. Uploaded into the folder as \"VISal_VISpm_Converted_No_Threshold.csv\" and \"VISpm_VISal_Converted_No_Threshold.csv\"\n",
    "\n",
    "# Visual AnteriorLateral Area : Structure.id = 533\n",
    "# Visual PosteriorMedial Area : Structure.id = 402\n",
    "\n",
    "# The query search is provided below:\n",
    "# http://api.brain-map.org/api/v2/data/\n",
    "# query.xml?criteria=%20service::mouse_differential[set$eq%27mouse_coronal%27][structures1$eq402][structures2$eq533]\n",
    "\n",
    "\n",
    "\n",
    "\n",
    "VISal_VISpm_pd = pd.read_csv(\"VISal_VISpm_Converted_No_Threshold.csv\")\n",
    "VISpm_VISal_pd = pd.read_csv(\"VISpm_VISal_Converted_No_Threshold.csv\")\n"
   ]
  },
  {
   "cell_type": "markdown",
   "metadata": {},
   "source": [
    "## Data Wrangling"
   ]
  },
  {
   "cell_type": "markdown",
   "metadata": {},
   "source": [
    "Describe your data wrangling steps here."
   ]
  },
  {
   "cell_type": "code",
   "execution_count": 2,
   "metadata": {},
   "outputs": [
    {
     "data": {
      "text/html": [
       "<div>\n",
       "<style scoped>\n",
       "    .dataframe tbody tr th:only-of-type {\n",
       "        vertical-align: middle;\n",
       "    }\n",
       "\n",
       "    .dataframe tbody tr th {\n",
       "        vertical-align: top;\n",
       "    }\n",
       "\n",
       "    .dataframe thead th {\n",
       "        text-align: right;\n",
       "    }\n",
       "</style>\n",
       "<table border=\"1\" class=\"dataframe\">\n",
       "  <thead>\n",
       "    <tr style=\"text-align: right;\">\n",
       "      <th></th>\n",
       "      <th>gene-symbol</th>\n",
       "      <th>VISal gene fold change</th>\n",
       "      <th>VISpm gene fold change</th>\n",
       "    </tr>\n",
       "  </thead>\n",
       "  <tbody>\n",
       "    <tr>\n",
       "      <th>3</th>\n",
       "      <td>Rfx1</td>\n",
       "      <td>5.882</td>\n",
       "      <td>0.832</td>\n",
       "    </tr>\n",
       "    <tr>\n",
       "      <th>4</th>\n",
       "      <td>Rfx1</td>\n",
       "      <td>1.202</td>\n",
       "      <td>0.832</td>\n",
       "    </tr>\n",
       "    <tr>\n",
       "      <th>32</th>\n",
       "      <td>Vldlr</td>\n",
       "      <td>3.003</td>\n",
       "      <td>0.717</td>\n",
       "    </tr>\n",
       "    <tr>\n",
       "      <th>33</th>\n",
       "      <td>Vldlr</td>\n",
       "      <td>1.395</td>\n",
       "      <td>0.717</td>\n",
       "    </tr>\n",
       "    <tr>\n",
       "      <th>39</th>\n",
       "      <td>Slc8a1</td>\n",
       "      <td>2.896</td>\n",
       "      <td>0.747</td>\n",
       "    </tr>\n",
       "    <tr>\n",
       "      <th>...</th>\n",
       "      <td>...</td>\n",
       "      <td>...</td>\n",
       "      <td>...</td>\n",
       "    </tr>\n",
       "    <tr>\n",
       "      <th>2156</th>\n",
       "      <td>Rpf2</td>\n",
       "      <td>0.933</td>\n",
       "      <td>1.072</td>\n",
       "    </tr>\n",
       "    <tr>\n",
       "      <th>2157</th>\n",
       "      <td>Anxa5</td>\n",
       "      <td>0.932</td>\n",
       "      <td>1.073</td>\n",
       "    </tr>\n",
       "    <tr>\n",
       "      <th>2158</th>\n",
       "      <td>Crhr1</td>\n",
       "      <td>0.931</td>\n",
       "      <td>1.074</td>\n",
       "    </tr>\n",
       "    <tr>\n",
       "      <th>2159</th>\n",
       "      <td>Apbb1</td>\n",
       "      <td>0.931</td>\n",
       "      <td>1.074</td>\n",
       "    </tr>\n",
       "    <tr>\n",
       "      <th>2160</th>\n",
       "      <td>Dbr1</td>\n",
       "      <td>0.930</td>\n",
       "      <td>1.075</td>\n",
       "    </tr>\n",
       "  </tbody>\n",
       "</table>\n",
       "<p>1916 rows × 3 columns</p>\n",
       "</div>"
      ],
      "text/plain": [
       "     gene-symbol  VISal gene fold change  VISpm gene fold change\n",
       "3           Rfx1                   5.882                   0.832\n",
       "4           Rfx1                   1.202                   0.832\n",
       "32         Vldlr                   3.003                   0.717\n",
       "33         Vldlr                   1.395                   0.717\n",
       "39        Slc8a1                   2.896                   0.747\n",
       "...          ...                     ...                     ...\n",
       "2156        Rpf2                   0.933                   1.072\n",
       "2157       Anxa5                   0.932                   1.073\n",
       "2158       Crhr1                   0.931                   1.074\n",
       "2159       Apbb1                   0.931                   1.074\n",
       "2160        Dbr1                   0.930                   1.075\n",
       "\n",
       "[1916 rows x 3 columns]"
      ]
     },
     "execution_count": 2,
     "metadata": {},
     "output_type": "execute_result"
    }
   ],
   "source": [
    "# Extract the fold change data and merge the expression data from the two regions\n",
    "\n",
    "VISal_VISpm_pd_fold = VISal_VISpm_pd[['gene-symbol', 'fold-change']]\n",
    "\n",
    "VISpm_VISal_pd_fold = VISpm_VISal_pd[['gene-symbol', 'fold-change']]\n",
    "\n",
    "expression_data = pd.merge(VISal_VISpm_pd_fold, VISpm_VISal_pd_fold, how = 'outer', on = 'gene-symbol')\n",
    "expression_data.columns = ['gene-symbol', 'VISal gene fold change', 'VISpm gene fold change']\n",
    "expression_data = expression_data.dropna()\n",
    "expression_data"
   ]
  },
  {
   "cell_type": "code",
   "execution_count": 3,
   "metadata": {},
   "outputs": [],
   "source": [
    "mouse_df = mouse_df.set_index('id')\n",
    "ephys_features = pd.DataFrame(ctc.get_ephys_features()).set_index('specimen_id')\n",
    "mouse_ephys_df = mouse_df.join(ephys_features, how ='inner')\n",
    "ephys_columns = list(ephys_features.columns)"
   ]
  },
  {
   "cell_type": "code",
   "execution_count": 19,
   "metadata": {},
   "outputs": [
    {
     "name": "stderr",
     "output_type": "stream",
     "text": [
      "/opt/conda/lib/python3.6/site-packages/ipykernel_launcher.py:5: SettingWithCopyWarning: \n",
      "A value is trying to be set on a copy of a slice from a DataFrame.\n",
      "Try using .loc[row_indexer,col_indexer] = value instead\n",
      "\n",
      "See the caveats in the documentation: http://pandas.pydata.org/pandas-docs/stable/user_guide/indexing.html#returning-a-view-versus-a-copy\n",
      "  \"\"\"\n",
      "/opt/conda/lib/python3.6/site-packages/ipykernel_launcher.py:12: SettingWithCopyWarning: \n",
      "A value is trying to be set on a copy of a slice from a DataFrame.\n",
      "Try using .loc[row_indexer,col_indexer] = value instead\n",
      "\n",
      "See the caveats in the documentation: http://pandas.pydata.org/pandas-docs/stable/user_guide/indexing.html#returning-a-view-versus-a-copy\n",
      "  if sys.path[0] == '':\n"
     ]
    },
    {
     "data": {
      "text/html": [
       "<div>\n",
       "<style scoped>\n",
       "    .dataframe tbody tr th:only-of-type {\n",
       "        vertical-align: middle;\n",
       "    }\n",
       "\n",
       "    .dataframe tbody tr th {\n",
       "        vertical-align: top;\n",
       "    }\n",
       "\n",
       "    .dataframe thead th {\n",
       "        text-align: right;\n",
       "    }\n",
       "</style>\n",
       "<table border=\"1\" class=\"dataframe\">\n",
       "  <thead>\n",
       "    <tr style=\"text-align: right;\">\n",
       "      <th></th>\n",
       "      <th>Vrest</th>\n",
       "      <th>Brain Region</th>\n",
       "    </tr>\n",
       "  </thead>\n",
       "  <tbody>\n",
       "    <tr>\n",
       "      <th>484744672</th>\n",
       "      <td>-72.188530</td>\n",
       "      <td>VISal</td>\n",
       "    </tr>\n",
       "    <tr>\n",
       "      <th>562432852</th>\n",
       "      <td>-77.090721</td>\n",
       "      <td>VISal</td>\n",
       "    </tr>\n",
       "    <tr>\n",
       "      <th>585841870</th>\n",
       "      <td>-76.741241</td>\n",
       "      <td>VISal</td>\n",
       "    </tr>\n",
       "    <tr>\n",
       "      <th>596619013</th>\n",
       "      <td>-71.855003</td>\n",
       "      <td>VISal</td>\n",
       "    </tr>\n",
       "    <tr>\n",
       "      <th>547330489</th>\n",
       "      <td>-72.544563</td>\n",
       "      <td>VISal</td>\n",
       "    </tr>\n",
       "    <tr>\n",
       "      <th>...</th>\n",
       "      <td>...</td>\n",
       "      <td>...</td>\n",
       "    </tr>\n",
       "    <tr>\n",
       "      <th>570098371</th>\n",
       "      <td>-70.649605</td>\n",
       "      <td>VISpm</td>\n",
       "    </tr>\n",
       "    <tr>\n",
       "      <th>570081024</th>\n",
       "      <td>-65.818382</td>\n",
       "      <td>VISpm</td>\n",
       "    </tr>\n",
       "    <tr>\n",
       "      <th>592868444</th>\n",
       "      <td>-76.646423</td>\n",
       "      <td>VISpm</td>\n",
       "    </tr>\n",
       "    <tr>\n",
       "      <th>501847408</th>\n",
       "      <td>-78.724121</td>\n",
       "      <td>VISpm</td>\n",
       "    </tr>\n",
       "    <tr>\n",
       "      <th>479770916</th>\n",
       "      <td>-67.626282</td>\n",
       "      <td>VISpm</td>\n",
       "    </tr>\n",
       "  </tbody>\n",
       "</table>\n",
       "<p>106 rows × 2 columns</p>\n",
       "</div>"
      ],
      "text/plain": [
       "               Vrest Brain Region\n",
       "484744672 -72.188530        VISal\n",
       "562432852 -77.090721        VISal\n",
       "585841870 -76.741241        VISal\n",
       "596619013 -71.855003        VISal\n",
       "547330489 -72.544563        VISal\n",
       "...              ...          ...\n",
       "570098371 -70.649605        VISpm\n",
       "570081024 -65.818382        VISpm\n",
       "592868444 -76.646423        VISpm\n",
       "501847408 -78.724121        VISpm\n",
       "479770916 -67.626282        VISpm\n",
       "\n",
       "[106 rows x 2 columns]"
      ]
     },
     "execution_count": 19,
     "metadata": {},
     "output_type": "execute_result"
    }
   ],
   "source": [
    "visal_ephys_data = mouse_ephys_df[mouse_ephys_df[\"structure_area_abbrev\"] == \"VISal\"]\n",
    "visal_ephys_vrest = visal_ephys_data[['vrest']]\n",
    "visal_ephys_vrest.columns = ['Vrest']\n",
    "visal_column = np.repeat(\"VISal\", visal_ephys_vrest.shape[0])\n",
    "visal_ephys_vrest['Brain Region'] = visal_column\n",
    "\n",
    "\n",
    "vispm_ephys_data = mouse_ephys_df[mouse_df[\"structure_area_abbrev\"] == \"VISpm\"]\n",
    "vispm_ephys_vrest = vispm_ephys_data[['vrest']]\n",
    "vispm_ephys_vrest.columns = ['Vrest']\n",
    "vispm_column = np.repeat(\"VISpm\", vispm_ephys_vrest.shape[0])\n",
    "vispm_ephys_vrest['Brain Region'] = vispm_column\n",
    "\n",
    "vrest = pd.concat([visal_ephys_vrest, vispm_ephys_vrest])\n",
    "vrest"
   ]
  },
  {
   "cell_type": "code",
   "execution_count": 6,
   "metadata": {},
   "outputs": [
    {
     "name": "stdout",
     "output_type": "stream",
     "text": [
      "all targeted structures: ['VISal', 'VISam', 'VISl', 'VISp', 'VISpm', 'VISrl']\n",
      "Num of experiments done in VISal: 41\n",
      "Num of experiments done in VISpm: 87\n",
      "Different Scenes:\n",
      "['drifting_gratings', 'locally_sparse_noise', 'locally_sparse_noise_4deg', 'locally_sparse_noise_8deg', 'natural_movie_one', 'natural_movie_three', 'natural_movie_two', 'natural_scenes', 'spontaneous', 'static_gratings']\n"
     ]
    }
   ],
   "source": [
    "# Collecting related visual area data from Allen Brain Observatory\n",
    "\n",
    "print(\"all targeted structures: \" + str(targeted_structures))\n",
    "\n",
    "visal_data = boc.get_experiment_containers(targeted_structures=['VISal'])\n",
    "visal_id = visal_data[0]['id']\n",
    "\n",
    "print(\"Num of experiments done in VISal: \" + str(len(visal_data)))\n",
    "\n",
    "vispm_data = boc.get_experiment_containers(targeted_structures=['VISpm'])\n",
    "vispm_id = vispm_data[0]['id']\n",
    "\n",
    "print(\"Num of experiments done in VISpm: \" + str(len(vispm_data)))\n",
    "\n",
    "stim = boc.get_all_stimuli()\n",
    "print(\"Different Scenes:\")\n",
    "print(stim)"
   ]
  },
  {
   "cell_type": "code",
   "execution_count": 7,
   "metadata": {},
   "outputs": [
    {
     "name": "stdout",
     "output_type": "stream",
     "text": [
      "Total cells: 63251\n",
      "------------------------\n",
      "VISal cells: 7191\n",
      "Cells in anteriorlateral visual area with sig. response to drifting gratings: 3517\n",
      "Anteriorlateral visual area direction-selective cells: 169\n",
      "------------------------\n",
      "VISpm cells: 7985\n",
      "Cells in posteriorlateral visual area with sig. response to drifting gratings: 3220\n",
      "Posteriorlateral visual area direction-selective cells: 171\n"
     ]
    }
   ],
   "source": [
    "# Download cells for a set of experiments and convert to DataFrame\n",
    "cells = boc.get_cell_specimens()\n",
    "cells = pd.DataFrame.from_records(cells)\n",
    "print(\"Total cells: %d\" % len(cells))\n",
    "\n",
    "print(\"------------------------\")\n",
    "\n",
    "# find direction selective cells in VISal\n",
    "visal_ec_ids = [ ec['id'] for ec in visal_data ]\n",
    "visal_cells = cells[cells['experiment_container_id'].isin(visal_ec_ids)]\n",
    "print(\"VISal cells: %d\" % len(visal_cells))\n",
    "\n",
    "# Response to drifting gratings stimulus\n",
    "sig_al_cells = visal_cells[visal_cells['p_dg'] < 0.05]\n",
    "print(\"Cells in anteriorlateral visual area with sig. response to drifting gratings: %d\" % len(sig_al_cells))\n",
    "\n",
    "# Direction selective cells\n",
    "dsi_al_cells = sig_al_cells[(sig_al_cells['g_dsi_dg'] > 0.9)]\n",
    "print(\"Anteriorlateral visual area direction-selective cells: %d\" % len(dsi_al_cells))\n",
    "\n",
    "print(\"------------------------\")\n",
    "\n",
    "\n",
    "# find direction selective cells in VISpm\n",
    "vispm_ec_ids = [ ec['id'] for ec in vispm_data ]\n",
    "vispm_cells = cells[cells['experiment_container_id'].isin(vispm_ec_ids)]\n",
    "print(\"VISpm cells: %d\" % len(vispm_cells))\n",
    "\n",
    "# Response to drifting gratings stimulus\n",
    "sig_pm_cells = vispm_cells[vispm_cells['p_dg'] < 0.05]\n",
    "print(\"Cells in posteriorlateral visual area with sig. response to drifting gratings: %d\" % len(sig_pm_cells))\n",
    "\n",
    "# Direction selective cells\n",
    "dsi_pm_cells = sig_pm_cells[(sig_pm_cells['g_dsi_dg'] > 0.9)]\n",
    "print(\"Posteriorlateral visual area direction-selective cells: %d\" % len(dsi_pm_cells))"
   ]
  },
  {
   "cell_type": "code",
   "execution_count": 8,
   "metadata": {},
   "outputs": [
    {
     "name": "stdout",
     "output_type": "stream",
     "text": [
      "total al dsi experiment containers: 30\n",
      "VISal drifting gratings ophys experiments: 30\n"
     ]
    }
   ],
   "source": [
    "# find experiment containers for those cells\n",
    "dsi_al_ids = dsi_al_cells['experiment_container_id'].unique()\n",
    "print(\"total al dsi experiment containers: %d\" % len(dsi_al_ids))\n",
    "\n",
    "# Download the ophys experiments containing the drifting gratings stimulus for VISp experiment containers\n",
    "dsi_al_exps = boc.get_ophys_experiments(experiment_container_ids=dsi_al_ids, stimuli=[stim_info.DRIFTING_GRATINGS])\n",
    "print(\"VISal drifting gratings ophys experiments: %d\" % len(dsi_al_exps))"
   ]
  },
  {
   "cell_type": "code",
   "execution_count": 9,
   "metadata": {},
   "outputs": [
    {
     "name": "stdout",
     "output_type": "stream",
     "text": [
      "       p_run_mod_sg    tlr1_id  image_sel_ns           tlr1_name  g_dsi_dg  \\\n",
      "2757       0.025266  265943423      0.265051  Ai93(TITL-GCaMP6f)  1.000000   \n",
      "2762       0.199328  265943423      0.646390  Ai93(TITL-GCaMP6f)  0.966215   \n",
      "3089            NaN  265943423           NaN  Ai93(TITL-GCaMP6f)  0.925937   \n",
      "3189            NaN  265943423      0.637186  Ai93(TITL-GCaMP6f)  1.000000   \n",
      "5222       0.597262  265943423      0.103864  Ai93(TITL-GCaMP6f)  0.924634   \n",
      "...             ...        ...           ...                 ...       ...   \n",
      "40744           NaN  265943423      0.200593  Ai93(TITL-GCaMP6f)  0.930165   \n",
      "40777      0.001081  265943423      0.651373  Ai93(TITL-GCaMP6f)  0.923764   \n",
      "40842           NaN  265943423      0.617797  Ai93(TITL-GCaMP6f)  1.000000   \n",
      "40953           NaN  265943423      0.428373  Ai93(TITL-GCaMP6f)  0.998617   \n",
      "41426           NaN  265943423      0.350881  Ai93(TITL-GCaMP6f)  0.946329   \n",
      "\n",
      "                p_ns  specimen_id          p_dg  time_to_peak_sg  pref_dir_dg  \\\n",
      "2757    2.732536e-16    501751610  4.271567e-02          0.29853          0.0   \n",
      "2762    8.721233e-35    501751610  2.866324e-02              NaN        225.0   \n",
      "3089             NaN    497258332  4.412713e-04              NaN         45.0   \n",
      "3189    1.105538e-35    497258332  2.115124e-04          0.16580         90.0   \n",
      "5222    1.409426e-07    497258296  4.154179e-06          0.33260        180.0   \n",
      "...              ...          ...           ...              ...          ...   \n",
      "40744   1.038446e-19    606790666  6.856292e-10          0.32290          0.0   \n",
      "40777  2.692797e-108    606790666  1.214247e-78          0.25832         45.0   \n",
      "40842   9.466660e-43    606790666  8.799811e-05          0.16145        180.0   \n",
      "40953   1.526344e-42    606790666  5.247273e-57          0.16145         45.0   \n",
      "41426   1.947411e-03    605685358  3.501307e-06              NaN          0.0   \n",
      "\n",
      "       ...  peak_dff_ns                                donor_full_genotype  \\\n",
      "2757   ...     7.341065  Rorb-IRES2-Cre/wt;Camk2a-tTA/wt;Ai93(TITL-GCaM...   \n",
      "2762   ...     8.057883  Rorb-IRES2-Cre/wt;Camk2a-tTA/wt;Ai93(TITL-GCaM...   \n",
      "3089   ...          NaN  Cux2-CreERT2/Cux2-CreERT2;Camk2a-tTA/wt;Ai93(T...   \n",
      "3189   ...    20.293383  Cux2-CreERT2/Cux2-CreERT2;Camk2a-tTA/wt;Ai93(T...   \n",
      "5222   ...     1.353401  Cux2-CreERT2/Cux2-CreERT2;Camk2a-tTA/wt;Ai93(T...   \n",
      "...    ...          ...                                                ...   \n",
      "40744  ...     3.777324  Cux2-CreERT2/wt;Camk2a-tTA/wt;Ai93(TITL-GCaMP6...   \n",
      "40777  ...    19.972762  Cux2-CreERT2/wt;Camk2a-tTA/wt;Ai93(TITL-GCaMP6...   \n",
      "40842  ...    11.585077  Cux2-CreERT2/wt;Camk2a-tTA/wt;Ai93(TITL-GCaMP6...   \n",
      "40953  ...     4.305683  Cux2-CreERT2/wt;Camk2a-tTA/wt;Ai93(TITL-GCaMP6...   \n",
      "41426  ...     4.424956  Slc17a7-IRES2-Cre/wt;Camk2a-tTA/wt;Ai93(TITL-G...   \n",
      "\n",
      "       all_stim run_mod_sg  pref_sf_sg   sfdi_sg  g_osi_sg  g_osi_dg  \\\n",
      "2757       True   0.653150        0.02  0.250161  0.781869  1.000000   \n",
      "2762      False   0.888131         NaN  0.196924  0.224853  0.879316   \n",
      "3089      False        NaN         NaN       NaN       NaN  0.716237   \n",
      "3189       True        NaN        0.32  0.261384  0.183033  1.000000   \n",
      "5222       True   0.458546        0.02  0.288718  0.322208  0.710467   \n",
      "...         ...        ...         ...       ...       ...       ...   \n",
      "40744      True        NaN        0.02  0.268424  0.363024  0.810395   \n",
      "40777     False   0.872642        0.08  0.384773  0.945233  0.966406   \n",
      "40842      True        NaN        0.02  0.292889  0.661293  1.000000   \n",
      "40953      True        NaN        0.02  0.264982  0.364903  0.999987   \n",
      "41426      True        NaN         NaN  0.185516  0.477903  0.853522   \n",
      "\n",
      "       reliability_nm3  reliability_nm2  \n",
      "2757          0.059560         0.213240  \n",
      "2762          0.003505              NaN  \n",
      "3089          0.032613         0.178401  \n",
      "3189          0.004077         0.052651  \n",
      "5222          0.207499         0.043176  \n",
      "...                ...              ...  \n",
      "40744         0.261684         0.181252  \n",
      "40777         0.069288              NaN  \n",
      "40842         0.068195         0.039649  \n",
      "40953         0.041105         0.147266  \n",
      "41426         0.014397         0.033416  \n",
      "\n",
      "[169 rows x 60 columns]\n"
     ]
    }
   ],
   "source": [
    "print(dsi_al_cells)"
   ]
  },
  {
   "cell_type": "code",
   "execution_count": 10,
   "metadata": {},
   "outputs": [
    {
     "name": "stdout",
     "output_type": "stream",
     "text": [
      "Metadata from NWB file:\n",
      "{'age_days': 88,\n",
      " 'cre_line': 'Rorb-IRES2-Cre/wt',\n",
      " 'device': 'Nikon A1R-MP multiphoton microscope',\n",
      " 'device_name': 'CAM2P.1',\n",
      " 'excitation_lambda': '910 nanometers',\n",
      " 'experiment_container_id': 511510794,\n",
      " 'fov': '400x400 microns (512 x 512 pixels)',\n",
      " 'genotype': 'Rorb-IRES2-Cre/wt;Camk2a-tTA/wt;Ai93(TITL-GCaMP6f)/wt',\n",
      " 'imaging_depth_um': 275,\n",
      " 'indicator': 'GCaMP6f',\n",
      " 'ophys_experiment_id': 509904120,\n",
      " 'pipeline_version': '3.0',\n",
      " 'session_start_time': datetime.datetime(2016, 3, 23, 13, 5, 23),\n",
      " 'session_type': 'three_session_A',\n",
      " 'sex': 'male',\n",
      " 'specimen_name': 'Rorb-IRES2-Cre;Camk2a-tTA;Ai93-231120',\n",
      " 'targeted_structure': 'VISal'}\n",
      "stimuli available in this file:\n",
      "['drifting_gratings', 'natural_movie_one', 'natural_movie_three', 'spontaneous']\n",
      "Metadata from NWB file:\n",
      "{'age_days': 89,\n",
      " 'cre_line': 'Rorb-IRES2-Cre/wt',\n",
      " 'device': 'Nikon A1R-MP multiphoton microscope',\n",
      " 'device_name': 'CAM2P.1',\n",
      " 'excitation_lambda': '910 nanometers',\n",
      " 'experiment_container_id': 511510794,\n",
      " 'fov': '400x400 microns (512 x 512 pixels)',\n",
      " 'genotype': 'Rorb-IRES2-Cre/wt;Camk2a-tTA/wt;Ai93(TITL-GCaMP6f)/wt',\n",
      " 'imaging_depth_um': 275,\n",
      " 'indicator': 'GCaMP6f',\n",
      " 'ophys_experiment_id': 510166410,\n",
      " 'pipeline_version': '3.0',\n",
      " 'session_start_time': datetime.datetime(2016, 3, 24, 13, 21, 16),\n",
      " 'session_type': 'three_session_B',\n",
      " 'sex': 'male',\n",
      " 'specimen_name': 'Rorb-IRES2-Cre;Camk2a-tTA;Ai93-231120',\n",
      " 'targeted_structure': 'VISal'}\n",
      "stimuli available in this file:\n",
      "['natural_movie_one', 'natural_scenes', 'spontaneous', 'static_gratings']\n"
     ]
    }
   ],
   "source": [
    "# pick a direction-selective cell and find its NWB file\n",
    "dsi_al_cell = dsi_al_cells.iloc[0]\n",
    "\n",
    "\n",
    "# figure out which ophys experiment has the drifting gratings stimulus for that cell\n",
    "cell_exp_1 = boc.get_ophys_experiments(cell_specimen_ids=[dsi_al_cell['cell_specimen_id']],\n",
    "                                     stimuli=[stim_info.DRIFTING_GRATINGS])[0]\n",
    "\n",
    "data_set_1 = boc.get_ophys_experiment_data(cell_exp_1['id'])\n",
    "\n",
    "print(\"Metadata from NWB file:\")\n",
    "pprint.pprint(data_set_1.get_metadata())\n",
    "\n",
    "print(\"stimuli available in this file:\")\n",
    "print(data_set_1.list_stimuli())\n",
    "\n",
    "dsi_al_cell = dsi_al_cells.iloc[0]\n",
    "\n",
    "# figure out which ophys experiment has the drifting gratings stimulus for that cell\n",
    "cell_exp_2 = boc.get_ophys_experiments(cell_specimen_ids=[dsi_al_cell['cell_specimen_id']],\n",
    "                                     stimuli=[stim_info.STATIC_GRATINGS])[0]\n",
    "\n",
    "data_set_2 = boc.get_ophys_experiment_data(cell_exp_2['id'])\n",
    "\n",
    "print(\"Metadata from NWB file:\")\n",
    "pprint.pprint(data_set_2.get_metadata())\n",
    "\n",
    "print(\"stimuli available in this file:\")\n",
    "print(data_set_2.list_stimuli())"
   ]
  },
  {
   "cell_type": "markdown",
   "metadata": {},
   "source": [
    "## Data Analysis & Results"
   ]
  },
  {
   "cell_type": "markdown",
   "metadata": {},
   "source": [
    "Include cells that describe the steps in your data analysis."
   ]
  },
  {
   "cell_type": "raw",
   "metadata": {},
   "source": [
    "# Plot 1: Plotting heat map for Visal\n",
    "# Reference: https://plot.ly/python/v3/ipython-notebooks/bioinformatics/#obtaining-the-data\n",
    "\n",
    "cols = [col for col in df.columns if col not in ['breadth', 'uniprot_id', 'avg']]\n",
    "short_cols = [col[0:20] for col in cols]\n",
    "short_cols = [short_cols[i] + str(i) for i in range(1,len(short_cols),1)]\n",
    "data_dist = pdist(df[cols].as_matrix().transpose())\n",
    "\n",
    "data = Data([\n",
    "    Heatmap(\n",
    "        z=squareform(data_dist), colorscale='YIGnBu',\n",
    "        x=short_cols,\n",
    "        y=short_cols,     # y-axis labels\n",
    "    )\n",
    "])\n",
    "\n",
    "layout = Layout(\n",
    "    title='Transcription profiling of human brain samples',\n",
    "    autosize=False,\n",
    "    margin=Margin(\n",
    "        l=200,\n",
    "        b=200,\n",
    "        pad=4\n",
    "    ),\n",
    "    xaxis=XAxis(\n",
    "        showgrid=False, # remove grid\n",
    "        autotick=False, # custom ticks\n",
    "        dtick=1,        # show 1 tick per day\n",
    "    ),\n",
    "    yaxis=YAxis(\n",
    "        showgrid=False,   # remove grid\n",
    "        autotick=False,   # custom ticks\n",
    "        dtick=1           # show 1 tick per day\n",
    "    ),\n",
    ")\n",
    "fig = Figure(data=data, layout=layout)\n",
    "py.iplot(fig, width=900, height=900)\n"
   ]
  },
  {
   "cell_type": "code",
   "execution_count": 11,
   "metadata": {},
   "outputs": [
    {
     "name": "stdout",
     "output_type": "stream",
     "text": [
      "Num of gene plotted for VISal: 32\n",
      "Num of gene plotted for VISpm: 29\n"
     ]
    },
    {
     "data": {
      "text/plain": [
       "Text(0.5, 1.0, 'Gene Expression of VISpm area comparing to VISal area')"
      ]
     },
     "execution_count": 11,
     "metadata": {},
     "output_type": "execute_result"
    },
    {
     "data": {
      "image/png": "[encoded data removed]",
      "text/plain": [
       "<Figure size 1440x720 with 2 Axes>"
      ]
     },
     "metadata": {
      "needs_background": "light"
     },
     "output_type": "display_data"
    }
   ],
   "source": [
    "# plotting the gene expression data through barplot\n",
    "fig, ax = plt.subplots(ncols = 2,figsize=(20,10))\n",
    "VISal_VISpm_plot= VISal_VISpm_pd_fold[VISal_VISpm_pd_fold[\"fold-change\"] > 3]\n",
    "VISpm_VISal_plot = VISpm_VISal_pd_fold[VISpm_VISal_pd_fold[\"fold-change\"] > 1.7]\n",
    "\n",
    "print(\"Num of gene plotted for VISal: \" + str(len(VISal_VISpm_plot)))\n",
    "print(\"Num of gene plotted for VISpm: \" + str(len(VISpm_VISal_plot)))\n",
    "\n",
    "ax1 = sns.barplot(x = \"gene-symbol\", y = \"fold-change\", data = VISal_VISpm_plot, ax = ax[0], palette=\"GnBu_d\")\n",
    "ax1.set_xticklabels(labels = VISal_VISpm_plot['gene-symbol'], rotation=90)\n",
    "ax1.set_ylim(3,)\n",
    "ax1.set_title('Gene Expression of VISal area comparing to VISpm area')\n",
    "\n",
    "custom_palette = sns.color_palette(\"RdGy\", 2)\n",
    "ax2 = sns.barplot(x = \"gene-symbol\", y = \"fold-change\", data = VISpm_VISal_plot, ax = ax[1], palette=custom_palette )\n",
    "ax2.set_xticklabels(labels = VISpm_VISal_plot['gene-symbol'], rotation=90)\n",
    "ax2.set_ylim(1.7,)\n",
    "ax2.set_title('Gene Expression of VISpm area comparing to VISal area')"
   ]
  },
  {
   "cell_type": "code",
   "execution_count": 35,
   "metadata": {},
   "outputs": [
    {
     "data": {
      "text/plain": [
       "Text(0, 0.5, 'Membrane Potential')"
      ]
     },
     "execution_count": 35,
     "metadata": {},
     "output_type": "execute_result"
    },
    {
     "data": {
      "image/png": "[encoded data removed]",
      "text/plain": [
       "<Figure size 1440x720 with 1 Axes>"
      ]
     },
     "metadata": {},
     "output_type": "display_data"
    }
   ],
   "source": [
    "# Plotting electrophysiological data for the two areas with box plot/ Violin plot:\n",
    "# Resting potential\n",
    "fig, ax1 = plt.subplots(ncols = 1, figsize=(20,10))\n",
    "sns.violinplot(y = 'Vrest', x = 'Brain Region', data = vrest, ax = ax1, palette = 'husl', color = 'bright', orient = 'v')\n",
    "ax1.set_title('Resting Membrane Potential of VISal neurons comparing to VISpm neurons')\n",
    "ax1.set_ylabel('Membrane Potential')"
   ]
  },
  {
   "cell_type": "code",
   "execution_count": 13,
   "metadata": {},
   "outputs": [
    {
     "data": {
      "text/plain": [
       "array(['VISal', 'VISal', 'VISal', 'VISal', 'VISal'], dtype='<U5')"
      ]
     },
     "execution_count": 13,
     "metadata": {},
     "output_type": "execute_result"
    }
   ],
   "source": [
    "new = np.repeat(\"VISal\", 5)\n",
    "new"
   ]
  },
  {
   "cell_type": "markdown",
   "metadata": {},
   "source": [
    "## Conclusion & Discussion"
   ]
  },
  {
   "cell_type": "markdown",
   "metadata": {},
   "source": [
    "*Fill in your discussion information here*"
   ]
  }
 ],
 "metadata": {
  "kernelspec": {
   "display_name": "Python 3",
   "language": "python",
   "name": "python3"
  },
  "language_info": {
   "codemirror_mode": {
    "name": "ipython",
    "version": 3
   },
   "file_extension": ".py",
   "mimetype": "text/x-python",
   "name": "python",
   "nbconvert_exporter": "python",
   "pygments_lexer": "ipython3",
   "version": "3.6.7"
  }
 },
 "nbformat": 4,
 "nbformat_minor": 2
}
