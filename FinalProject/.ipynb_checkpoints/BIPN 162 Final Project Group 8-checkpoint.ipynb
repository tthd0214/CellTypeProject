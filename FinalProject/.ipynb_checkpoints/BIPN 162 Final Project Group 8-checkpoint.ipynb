{
 "cells": [
  {
   "cell_type": "markdown",
   "metadata": {},
   "source": [
    "# Contributions"
   ]
  },
  {
   "cell_type": "markdown",
   "metadata": {},
   "source": [
    "Dexter (Tat Hei) Tsin:\n",
    "\n",
    "Spencer Young:\n",
    "\n",
    "Yosef:"
   ]
  },
  {
   "cell_type": "markdown",
   "metadata": {},
   "source": [
    "# Abstract"
   ]
  },
  {
   "cell_type": "markdown",
   "metadata": {},
   "source": [
    "We mined gene expression and electrophysiology data for the anterolateral area (AL) and the posteromedial (PM) area of the mice visual cortex from the Allen Brain Observatory and the Allen Cell Types Database and proceeded to plot this data. We found that the PM area expressed genes that play an integral role in the transport of molecules and ions into and out of the cell while the AL area expressed no such genes. We also found that the resting membrane potential of the two regions are very similar with the median resting potential of the AL area being -71 mV and the median resting potential of the PM area being -72 mV, and we observed a similar trend in the positive correlation between the fast trough depth vs. the upstroke-downstroke ratio of the two areas. Finally, we found that both areas of the visual cortex have very similar number of direction selective cells with the AL having 169 and the PM having 171 and both areas of the visual cortex have similar number of cells with a signal response to drifting gratings with the AL having 3517 and the PM having 3220. "
   ]
  },
  {
   "cell_type": "markdown",
   "metadata": {},
   "source": [
    "# Research Question"
   ]
  },
  {
   "cell_type": "markdown",
   "metadata": {},
   "source": [
    "How do differences in gene expression, upstroke downstroke ratio, resting membrane potential, and directional selectivity lead to the genetic differentiation and functional specialization between the anterolateral area (AL) and the posteromedial area (PM) in higher visual areas of the mice?"
   ]
  },
  {
   "cell_type": "markdown",
   "metadata": {},
   "source": [
    "# Background and Prior Work"
   ]
  },
  {
   "cell_type": "markdown",
   "metadata": {},
   "source": [
    "Uncovering the mechanisms behind the flow and processing of visual information is a difficult problem, yet one that is fundamental to understanding the sensory systems as a whole. A necessary step toward the detailed study of the visual hierarchy is a thorough characterization of boundaries and visual field representations.[1] Mouse brains are made up of many millions of cells called neurons that are interconnected to form neuronal circuits.[2] Neurons that express similar genes tend to look and have electrophysiological alike, whereas neurons that express different genes tend to be dissimilar. [2] We want to determine which genes and the resulting functional specialization are expressed in groups of neurons that represent the many cell types found in many parts of the brain, including the visual cortex.[1]\n",
    "\n",
    "Specialized neural circuits process visual information in parallel hierarchical streams, leading to complex visual perception and behavior.[3] Distinct channels of visual information begin in the retina of the eye and synapse through the lateral geniculate nucleus to the primary visual cortex (V1), forming the building blocks for visual perception.[3] In this proposal, we are comparing the differences of the anterolateral area (AL) and the posteromedial (PM) area in higher visual areas of mice's visual cortex. Anderman et al. found that the anterolateral area (AL) of the visual cortex responsible for guiding behavior involving fast-moving stimuli and the posteromedial(PM) area helps guide behavior involving slow-moving objects. [3] These behaviors are critical in understanding higher-order cognition, a complex area of thinking which refers to the mental processes of reasoning, decision making, and creativity, etc. Zariwala, Hatim A., et al. looked at the genetic differences in the visual cortex with cre-transgenic mice.[4] \n",
    "\n",
    "The data sets that we are working with Allen Brain Observatory and Allen Cell Type data. The Allen Brain Observatory is data for how visual stimuli are represented by neural activity in the mouse visual cortex in both single cells and populations. A calcium imaging for different mouse cre lines with calcium reporter was analyzed during exposure to five classical visual stimuli: Drifting Gratings, Static Gratings, Natural Scenes, Natural Movies, Locally Sparse Noise. There are 30 experiments with the drifting gradient for both visual cortex regions that have data for directional selective, differential response to the direction of a visual stimulus. The Allen Brain Observatory provides a dataset to survey information encoding in the visual cortex. The Allen Cell Type data is data from a single neuron from mice and humans from electrophysiological, morphological, and transcriptomic data. For electrophysiology data, the researchers did a whole-cell patch-clamp recording to find upstroke and downstroke for over 2,000 neurons. The transcriptomic data is collected using an RNA sequence of single cells. The gene transcripts are isolated from whole cells or nuclei, amplified, and sequenced, and then aligned to a reference genome. There is data for gene expression for 2,000 genes in both the anterolateral area (AL) and the posteromedial area (PM). \n",
    "\n",
    "\n",
    "## References (include links):\n",
    "(1) Wang, Q., & Burkhalter, A. (2007). Area map of mouse visual cortex. The Journal of Comparative Neurology, 502(3), 339–357. doi:10.1002/cne.21286 https://www.ncbi.nlm.nih.gov/pubmed/17366604\n",
    "\n",
    "(2) de Vries, S.E.J., Lecoq, J.A., Buice, M.A. et al. A large-scale standardized physiological survey reveals functional organization of the mouse visual cortex. Nat Neurosci 23, 138–151 (2020). https://doi.org/10.1038/s41593-019-0550-9\n",
    "\n",
    "(3) Andermann, Mark L et al. “Functional specialization of mouse higher visual cortical areas.” Neuron vol. 72,6 (2011): 1025-39. doi:10.1016/j.neuron.2011.11.013 https://www.ncbi.nlm.nih.gov/pubmed/22196337\n",
    "\n",
    "(4) Zariwala, Hatim A., et al. \"Visual tuning properties of genetically identified layer 2/3 neuronal types in the primary visual cortex of cre-transgenic mice.\" Frontiers in systems neuroscience 4 (2011): 162.https://www.ncbi.nlm.nih.gov/pubmed/21283555\n",
    "\n"
   ]
  },
  {
   "cell_type": "markdown",
   "metadata": {},
   "source": [
    "# Hypothesis\n"
   ]
  },
  {
   "cell_type": "markdown",
   "metadata": {},
   "source": [
    "We hypothesize that the anterolateral area and the posteromedial area will be dissimilar in gene expression because the anterolateral area of the visual cortex should have a gene expression pattern that will allow for it to guide behavior involving fast moving stimuli while the posteromedial area should have a gene expression pattern that will allow for it to guide behavior involving slow moving objects. We also expect the electrophysiological features of the two brain areas to be dissimilar. The resting membrane potential and upstroke-downstroke ratio vs. fast trough depth trend is expected to be different between the two areas because neurons that express different genes tend to have electrophysiological characteristics that are dissimilar. "
   ]
  },
  {
   "cell_type": "markdown",
   "metadata": {},
   "source": [
    "# Code\n",
    "## Set-up\n",
    "*The packages and datasets required in this project is provided below*"
   ]
  },
  {
   "cell_type": "code",
   "execution_count": 1,
   "metadata": {},
   "outputs": [],
   "source": [
    "# Importing required packages for the project\n",
    "import io\n",
    "import json\n",
    "import requests\n",
    "import pprint\n",
    "import numpy as np\n",
    "import pandas as pd\n",
    "import seaborn as sns\n",
    "import matplotlib as mpl\n",
    "import matplotlib.pyplot as plt\n",
    "import allensdk.brain_observatory.stimulus_info as stim_info\n",
    "\n",
    "from sklearn.decomposition import PCA  \n",
    "from pandas.io.json import json_normalize\n",
    "from scipy.spatial.distance import pdist, squareform\n",
    "from allensdk.core.cell_types_cache import CellTypesCache\n",
    "from allensdk.api.queries.cell_types_api import CellTypesApi\n",
    "from allensdk.core.brain_observatory_cache import BrainObservatoryCache\n",
    "from allensdk.brain_observatory.ecephys.ecephys_project_cache import EcephysProjectCache\n",
    "from allensdk.core.mouse_connectivity_cache import MouseConnectivityCache\n",
    "from allensdk.api.queries.rma_api import RmaApi\n",
    "\n",
    "# Set up style and palette for seaborn plot\n",
    "sns.set(style=\"darkgrid\")\n",
    "sns.set_palette(\"bright\")"
   ]
  },
  {
   "cell_type": "markdown",
   "metadata": {},
   "source": [
    "Download required mouse data from Allen Cell Types Database"
   ]
  },
  {
   "cell_type": "code",
   "execution_count": null,
   "metadata": {},
   "outputs": [],
   "source": [
    "ctc = CellTypesCache(manifest_file='cell_types/manifest.json')\n",
    "mouse_df = pd.DataFrame(ctc.get_cells(species=[CellTypesApi.MOUSE]))"
   ]
  },
  {
   "cell_type": "markdown",
   "metadata": {},
   "source": [
    "### Import CSV including ISH gene expression data from the two structures\n",
    "\n",
    "#### Approach:\n",
    "\n",
    "1. Did query search on Allen ISH data\n",
    "2. Download as .xml format, then convert it into .csv format through online platform\n",
    "3. Uploaded into the folder as \"VISal_VISpm_Converted_No_Threshold.csv\" and \"VISpm_VISal_Converted_No_Threshold.csv\"\n",
    "\n",
    "\n",
    "The query search is provided below:\n",
    "http://api.brain-map.org/api/v2/data/query.xml?criteria=service::mouse_differential[set$eq'mouse'][structures1$eq402][structures2$eq533]\n",
    "\n",
    "http://api.brain-map.org/api/v2/data/query.xml?criteria=service::mouse_differential[set$eq'mouse'][structures1$eq533][structures2$eq402]\n",
    "\n",
    "Visual AnteriorLateral Area : Structure.id = 533\n",
    "\n",
    "Visual PosteriorMedial Area : Structure.id = 402\n",
    "\n",
    "Primary Visual Cortex: Structure.id = 385\n",
    "\n",
    "Visual Areas: Structure.id = 669\n",
    "\n",
    "Basic Cell groups: Structure.id = 8\n"
   ]
  },
  {
   "cell_type": "markdown",
   "metadata": {},
   "source": [
    "#### Package all the api requests that will implement differential search of structures in Allen database."
   ]
  },
  {
   "cell_type": "code",
   "execution_count": null,
   "metadata": {},
   "outputs": [],
   "source": [
    "PM_AL_API = \"http://api.brain-map.org/api/v2/data/query.json?criteria=service::mouse_differential[set$eq'mouse'][structures1$eq402][structures2$eq533]\"\n",
    "AL_PM_API = \"http://api.brain-map.org/api/v2/data/query.json?criteria=service::mouse_differential[set$eq'mouse'][structures1$eq533][structures2$eq402]\"\n",
    "NL_AL_API = \"http://api.brain-map.org/api/v2/data/query.json?criteria=service::mouse_differential[set$eq'mouse'][structures1$eq533][structures2$eq385]\"\n",
    "NL_PM_API = \"http://api.brain-map.org/api/v2/data/query.json?criteria=service::mouse_differential[set$eq'mouse'][structures1$eq402][structures2$eq385]\""
   ]
  },
  {
   "cell_type": "markdown",
   "metadata": {},
   "source": [
    "#### Request the genetic data from Allen API service, then converting all the json data into pandas dataframe"
   ]
  },
  {
   "cell_type": "code",
   "execution_count": null,
   "metadata": {},
   "outputs": [],
   "source": [
    "PM_AL = requests.get(PM_AL_API)\n",
    "PM_AL_json = PM_AL.json()\n",
    "PM_AL_json_processed = PM_AL_json['msg']\n",
    "new_columns = list(PM_AL_json_processed[0].keys())\n",
    "VISpm_VISal_pd = pd.DataFrame(columns = new_columns)\n",
    "\n",
    "for dictionaries in PM_AL_json_processed:\n",
    "    gene_list = pd.DataFrame(list(dictionaries.items())).transpose()\n",
    "    gene_list.columns = gene_list.loc[0]\n",
    "    gene_list = pd.DataFrame(gene_list.drop(0))\n",
    "    VISpm_VISal_pd = pd.concat([VISpm_VISal_pd, gene_list])\n",
    "    \n",
    "AL_PM = requests.get(AL_PM_API)\n",
    "AL_PM_json = AL_PM.json()\n",
    "AL_PM_json_processed = AL_PM_json['msg']\n",
    "new_columns = list(AL_PM_json_processed[0].keys())\n",
    "VISal_VISpm_pd = pd.DataFrame(columns = new_columns)\n",
    "\n",
    "for dictionaries in AL_PM_json_processed:\n",
    "    gene_list = pd.DataFrame(list(dictionaries.items())).transpose()\n",
    "    gene_list.columns = gene_list.loc[0]\n",
    "    gene_list = pd.DataFrame(gene_list.drop(0))\n",
    "    VISal_VISpm_pd = pd.concat([VISal_VISpm_pd, gene_list])\n",
    "    \n",
    "NL_AL = requests.get(NL_AL_API)\n",
    "NL_AL_json = NL_AL.json()\n",
    "NL_AL_json_processed = NL_AL_json['msg']\n",
    "new_columns = list(NL_AL_json_processed[0].keys())\n",
    "NL_VISal_pd = pd.DataFrame(columns = new_columns)\n",
    "\n",
    "for dictionaries in NL_AL_json_processed:\n",
    "    gene_list = pd.DataFrame(list(dictionaries.items())).transpose()\n",
    "    gene_list.columns = gene_list.loc[0]\n",
    "    gene_list = pd.DataFrame(gene_list.drop(0))\n",
    "    NL_VISal_pd = pd.concat([NL_VISal_pd, gene_list])\n",
    "    \n",
    "NL_PM = requests.get(NL_PM_API)\n",
    "NL_PM_json = NL_PM.json()\n",
    "NL_PM_json_processed = NL_PM_json['msg']\n",
    "new_columns = list(NL_PM_json_processed[0].keys())\n",
    "NL_VISpm_pd = pd.DataFrame(columns = new_columns)\n",
    "\n",
    "for dictionaries in NL_PM_json_processed:\n",
    "    gene_list = pd.DataFrame(list(dictionaries.items())).transpose()\n",
    "    gene_list.columns = gene_list.loc[0]\n",
    "    gene_list = pd.DataFrame(gene_list.drop(0))\n",
    "    NL_VISpm_pd = pd.concat([NL_VISpm_pd, gene_list])"
   ]
  },
  {
   "cell_type": "markdown",
   "metadata": {},
   "source": [
    "### Accessing Brain Observatory data\n",
    "Download a list of all targeted areas"
   ]
  },
  {
   "cell_type": "code",
   "execution_count": null,
   "metadata": {},
   "outputs": [],
   "source": [
    "boc = BrainObservatoryCache(manifest_file='/datasets/allen-brain-observatory/visual-coding-2p/manifest.json')\n",
    "targeted_structures = boc.get_all_targeted_structures()"
   ]
  },
  {
   "cell_type": "markdown",
   "metadata": {},
   "source": [
    "### Accessing Neuropixels Data"
   ]
  },
  {
   "cell_type": "code",
   "execution_count": null,
   "metadata": {},
   "outputs": [],
   "source": [
    "# We have all of this data on the datahub! This is where it lives.\n",
    "manifest_path = '/datasets/allen-brain-observatory/visual-coding-neuropixels/ecephys-cache/manifest.json' \n",
    "\n",
    "# Create the EcephysProjectCache object\n",
    "cache = EcephysProjectCache.fixed(manifest=manifest_path)\n",
    "\n",
    "# Get the sessions available in this dataset\n",
    "sessions = cache.get_session_table()\n",
    "#print(sessions.head)\n",
    "print('Total number of sessions: ' + str(len(sessions)))"
   ]
  },
  {
   "cell_type": "markdown",
   "metadata": {},
   "source": [
    "### Accessing Mouse Connectivity Data"
   ]
  },
  {
   "cell_type": "code",
   "execution_count": null,
   "metadata": {},
   "outputs": [],
   "source": [
    "mcc = MouseConnectivityCache()\n",
    "structure_tree = mcc.get_structure_tree()\n",
    "id_acronym = structure_tree.get_id_acronym_map()"
   ]
  },
  {
   "cell_type": "markdown",
   "metadata": {},
   "source": [
    "## Data Wrangling"
   ]
  },
  {
   "cell_type": "markdown",
   "metadata": {},
   "source": [
    "### Handling Genetic Data\n",
    "\n",
    "For the genetic data, since each file has 2000 genes in total, we decide to choose top and bottom 10% of the entire genes for a better visualization."
   ]
  },
  {
   "cell_type": "code",
   "execution_count": null,
   "metadata": {},
   "outputs": [],
   "source": [
    "# Extract the fold change data and merge the expression data from the two regions\n",
    "VISal_VISpm_pd_fold = VISal_VISpm_pd[['gene-symbol', 'fold-change']]\n",
    "VISal_VISpm_length = VISal_VISpm_pd_fold.shape[0]\n",
    "\n",
    "VISpm_VISal_pd_fold = VISpm_VISal_pd[['gene-symbol', 'fold-change']]\n",
    "VISpm_VISal_pd_length = VISpm_VISal_pd_fold.shape[0]\n",
    "\n",
    "NL_VISal_pd_fold = NL_VISal_pd[['gene-symbol', 'fold-change']]\n",
    "NL_VISal_length = NL_VISal_pd_fold.shape[0]\n",
    "\n",
    "NL_VISpm_pd_fold = NL_VISpm_pd[['gene-symbol', 'fold-change']]\n",
    "NL_VISpm_length = NL_VISpm_pd_fold.shape[0]"
   ]
  },
  {
   "cell_type": "markdown",
   "metadata": {},
   "source": [
    "Change all the fold change data into numeric data for later analysis"
   ]
  },
  {
   "cell_type": "code",
   "execution_count": null,
   "metadata": {},
   "outputs": [],
   "source": [
    "NL_VISal_pd_fold.loc[:,('fold-change')] = pd.to_numeric(NL_VISal_pd_fold['fold-change'])\n",
    "NL_VISpm_pd_fold.loc[:,('fold-change')] = pd.to_numeric(NL_VISpm_pd_fold['fold-change'])\n",
    "VISpm_VISal_pd_fold.loc[:,('fold-change')] = pd.to_numeric(VISpm_VISal_pd_fold['fold-change'])\n",
    "VISal_VISpm_pd_fold.loc[:,('fold-change')] = pd.to_numeric(VISal_VISpm_pd_fold['fold-change'])"
   ]
  },
  {
   "cell_type": "code",
   "execution_count": null,
   "metadata": {},
   "outputs": [],
   "source": [
    "mouse_df = mouse_df.set_index('id')\n",
    "ephys_features = pd.DataFrame(ctc.get_ephys_features()).set_index('specimen_id')\n",
    "mouse_ephys_df = mouse_df.join(ephys_features, how ='inner')\n",
    "ephys_columns = list(ephys_features.columns)"
   ]
  },
  {
   "cell_type": "markdown",
   "metadata": {},
   "source": [
    "### Further selecting data for dimensionality reduction through PCA"
   ]
  },
  {
   "cell_type": "markdown",
   "metadata": {},
   "source": [
    "### Selecting Data for analysing Resting Potential data from cell types database"
   ]
  },
  {
   "cell_type": "code",
   "execution_count": null,
   "metadata": {},
   "outputs": [],
   "source": [
    "visal_ephys_data = mouse_ephys_df.loc[mouse_ephys_df[\"structure_area_abbrev\"] == \"VISal\"].copy()\n",
    "print(visal_ephys_data.shape[0])\n",
    "visal_ephys_vrest = pd.DataFrame(visal_ephys_data.loc[:, 'vrest'].copy())\n",
    "visal_ephys_vrest.columns = ['Vrest']\n",
    "visal_column = np.repeat(\"VISal\", visal_ephys_vrest.shape[0])\n",
    "visal_ephys_vrest['Brain Region'] = visal_column\n",
    "visal_ephys_data['Brain Region'] = visal_column\n",
    "\n",
    "vispm_ephys_data = mouse_ephys_df.loc[mouse_ephys_df[\"structure_area_abbrev\"] == \"VISpm\"].copy()\n",
    "print(vispm_ephys_data.shape[0])\n",
    "vispm_ephys_vrest = pd.DataFrame(vispm_ephys_data.loc[:, 'vrest'].copy())\n",
    "vispm_ephys_vrest.columns = ['Vrest']\n",
    "vispm_column = np.repeat(\"VISpm\", vispm_ephys_vrest.shape[0])\n",
    "vispm_ephys_vrest['Brain Region'] = vispm_column\n",
    "vispm_ephys_data['Brain Region'] = vispm_column\n",
    "\n",
    "\n",
    "vrest = pd.concat([visal_ephys_vrest, vispm_ephys_vrest])\n",
    "vis_alpm_data = pd.concat([visal_ephys_data, vispm_ephys_data])"
   ]
  },
  {
   "cell_type": "code",
   "execution_count": null,
   "metadata": {},
   "outputs": [],
   "source": [
    "print(mouse_ephys_df.shape)\n",
    "\n",
    "\n",
    "cell_list = ['reporter_status', 'cell_soma_location', 'species', 'name',\n",
    "       'structure_layer_name', 'structure_area_id', 'structure_area_abbrev',\n",
    "       'transgenic_line', 'dendrite_type', 'apical', 'reconstruction_type',\n",
    "       'disease_state', 'donor_id', 'structure_hemisphere',\n",
    "       'normalized_depth']\n",
    "visal_ephys_data = visal_ephys_data.drop(cell_list, axis = 1)\n",
    "vispm_ephys_data = vispm_ephys_data.drop(cell_list, axis = 1)\n",
    "\n",
    "ephys_list =['adaptation', 'avg_isi', 'electrode_0_pa', 'f_i_curve_slope',\n",
    "       'fast_trough_t_long_square', 'fast_trough_t_ramp',\n",
    "       'fast_trough_t_short_square', 'fast_trough_v_long_square',\n",
    "       'fast_trough_v_ramp', 'fast_trough_v_short_square',\n",
    "       'input_resistance_mohm', 'latency',\n",
    "       'peak_t_long_square', 'peak_t_ramp', 'peak_t_short_square',\n",
    "       'peak_v_long_square', 'peak_v_ramp', 'peak_v_short_square',\n",
    "       'rheobase_sweep_id', 'rheobase_sweep_number', 'ri', 'sag', 'seal_gohm',\n",
    "       'threshold_i_long_square', 'threshold_i_ramp',\n",
    "       'threshold_i_short_square', 'threshold_t_long_square',\n",
    "       'threshold_t_ramp', 'threshold_t_short_square',\n",
    "       'threshold_v_long_square', 'threshold_v_ramp',\n",
    "       'threshold_v_short_square', 'thumbnail_sweep_id',\n",
    "       'trough_t_long_square', 'trough_t_ramp', 'trough_t_short_square',\n",
    "       'trough_v_long_square', 'trough_v_ramp', 'trough_v_short_square',\n",
    "       'upstroke_downstroke_ratio_long_square',\n",
    "       'upstroke_downstroke_ratio_ramp',\n",
    "       'upstroke_downstroke_ratio_short_square', 'vm_for_sag', 'vrest']\n",
    "\n",
    "\n",
    "visal_ephys_data = visal_ephys_data.loc[:, ephys_list]\n",
    "vispm_ephys_data = vispm_ephys_data.loc[:, ephys_list]\n",
    "\n",
    "\n",
    "numerics = ['int16', 'int32', 'int64', 'float16', 'float32', 'float64']\n",
    "newdf = mouse_ephys_df.select_dtypes(include=numerics)\n",
    "newdf = newdf.drop(['structure_area_id', 'donor_id', 'normalized_depth', 'electrode_0_pa'], 1)\n",
    "newdf = newdf.dropna(axis=0).dropna(axis=1)\n",
    "\n",
    "visal_ephys_data = visal_ephys_data.dropna(axis=0).dropna(axis=1)\n",
    "visal_ephys_num = visal_ephys_data.select_dtypes(include=numerics)\n",
    "visal_ephys_name = visal_ephys_num.copy()\n",
    "visal_column = np.repeat(\"VISal\", visal_ephys_name.shape[0])\n",
    "visal_ephys_name['Brain Region'] = visal_column\n",
    "\n",
    "\n",
    "vispm_ephys_data = vispm_ephys_data.dropna(axis=0).dropna(axis=1)\n",
    "vispm_ephys_num = vispm_ephys_data.select_dtypes(include=numerics)\n",
    "vispm_ephys_name = vispm_ephys_num.copy()\n",
    "\n",
    "vispm_column = np.repeat(\"VISpm\", vispm_ephys_name.shape[0])\n",
    "vispm_ephys_name['Brain Region'] = vispm_column\n",
    "\n",
    "\n",
    "visalpm_ephys = pd.concat([visal_ephys_num,vispm_ephys_num])\n",
    "visalpm_ephys_name = pd.concat([visal_ephys_name, vispm_ephys_name])\n",
    "visalpm_ephys = (visalpm_ephys - visalpm_ephys.mean())/visalpm_ephys.std()\n",
    "\n",
    "print(visalpm_ephys_name.columns)"
   ]
  },
  {
   "cell_type": "code",
   "execution_count": null,
   "metadata": {},
   "outputs": [],
   "source": [
    "ephys_list_long_square = ['adaptation', 'avg_isi', 'f_i_curve_slope',\n",
    "       'fast_trough_t_long_square',\n",
    "       'input_resistance_mohm', 'latency',\n",
    "       'peak_t_long_square',\n",
    "       'threshold_i_long_square', \n",
    "       'threshold_t_long_square',\n",
    "       'threshold_v_long_square',\n",
    "       'trough_t_long_square',\n",
    "       'trough_v_long_square', \n",
    "       'upstroke_downstroke_ratio_long_square',\n",
    "       'vrest']"
   ]
  },
  {
   "cell_type": "code",
   "execution_count": null,
   "metadata": {},
   "outputs": [],
   "source": [
    "# Collecting related visual area data from Allen Brain Observatory\n",
    "\n",
    "print(\"all targeted structures: \" + str(targeted_structures))\n",
    "\n",
    "visal_data = boc.get_experiment_containers(targeted_structures=['VISal'])\n",
    "visal_id = visal_data[0]['id']\n",
    "\n",
    "print(\"Num of experiments done in VISal: \" + str(len(visal_data)))\n",
    "\n",
    "vispm_data = boc.get_experiment_containers(targeted_structures=['VISpm'])\n",
    "vispm_id = vispm_data[0]['id']\n",
    "\n",
    "print(\"Num of experiments done in VISpm: \" + str(len(vispm_data)))\n",
    "\n",
    "stim = boc.get_all_stimuli()\n",
    "print(\"Different Scenes:\")\n",
    "print(stim)"
   ]
  },
  {
   "cell_type": "code",
   "execution_count": null,
   "metadata": {},
   "outputs": [],
   "source": [
    "# Download cells for a set of experiments and convert to DataFrame\n",
    "cells = boc.get_cell_specimens()\n",
    "cells = pd.DataFrame.from_records(cells)\n",
    "print(\"Total cells: %d\" % len(cells))\n",
    "\n",
    "print(\"------------------------\")\n",
    "# find direction selective cells in VISal\n",
    "visal_ec_ids = [ ec['id'] for ec in visal_data ]\n",
    "visal_cells = cells[cells['experiment_container_id'].isin(visal_ec_ids)]\n",
    "print(\"VISal cells: %d\" % len(visal_cells))\n",
    "\n",
    "# Response to drifting gratings stimulus\n",
    "sig_al_cells = visal_cells[visal_cells['p_dg'] < 0.05]\n",
    "print(\"Cells in anteriorlateral visual area with sig. response to drifting gratings: %d\" % len(sig_al_cells))\n",
    "\n",
    "# Direction selective cells\n",
    "dsi_al_cells = sig_al_cells[(sig_al_cells['g_dsi_dg'] > 0.9)]\n",
    "print(\"Anteriorlateral visual area direction-selective cells: %d\" % len(dsi_al_cells))\n",
    "\n",
    "print(\"------------------------\")\n",
    "\n",
    "\n",
    "# find direction selective cells in VISpm\n",
    "vispm_ec_ids = [ ec['id'] for ec in vispm_data ]\n",
    "vispm_cells = cells[cells['experiment_container_id'].isin(vispm_ec_ids)]\n",
    "print(\"VISpm cells: %d\" % len(vispm_cells))\n",
    "\n",
    "# Response to drifting gratings stimulus\n",
    "sig_pm_cells = vispm_cells[vispm_cells['p_dg'] < 0.05]\n",
    "print(\"Cells in posteriorlateral visual area with sig. response to drifting gratings: %d\" % len(sig_pm_cells))\n",
    "\n",
    "# Direction selective cells\n",
    "dsi_pm_cells = sig_pm_cells[(sig_pm_cells['g_dsi_dg'] > 0.9)]\n",
    "print(\"Posteriorlateral visual area direction-selective cells: %d\" % len(dsi_pm_cells))\n",
    "\n",
    "dsi_data = {'Properties': ['Direction Selective', 'Total responding', 'Direction Selective', 'Total responding'],\n",
    "            'Count': [len(dsi_al_cells), len(sig_al_cells) , len(dsi_pm_cells), len(sig_pm_cells)],\n",
    "            'Brain Region': ['VISal', 'VISal', 'VISpm', 'VISpm']}\n",
    "al_pm_dsi = pd.DataFrame(dsi_data)\n",
    "al_pm_sig = al_pm_dsi[al_pm_dsi['Properties'] == 'Total responding']\n",
    "al_pm_d = al_pm_dsi[al_pm_dsi['Properties'] == 'Direction Selective']"
   ]
  },
  {
   "cell_type": "code",
   "execution_count": null,
   "metadata": {},
   "outputs": [],
   "source": [
    "# find experiment containers for those cells\n",
    "dsi_al_ids = dsi_al_cells['experiment_container_id'].unique()\n",
    "print(\"total al dsi experiment containers: %d\" % len(dsi_al_ids))\n",
    "\n",
    "# Download the ophys experiments containing the drifting gratings stimulus for VISal experiment containers\n",
    "dsi_al_exps = boc.get_ophys_experiments(experiment_container_ids=dsi_al_ids, stimuli=[stim_info.DRIFTING_GRATINGS])\n",
    "print(\"VISal drifting gratings ophys experiments: %d\" % len(dsi_al_exps))"
   ]
  },
  {
   "cell_type": "code",
   "execution_count": null,
   "metadata": {},
   "outputs": [],
   "source": [
    "from allensdk.brain_observatory.drifting_gratings import DriftingGratings\n",
    "\n",
    "# example loading drifing grating data\n",
    "#data_set = boc.get_ophys_experiment_data(512326618)\n",
    "#dg = DriftingGratings(data_set)\n",
    "#dg_peak = dg.peak\n",
    "#print(\"done analyzing drifting gratings\")"
   ]
  },
  {
   "cell_type": "code",
   "execution_count": null,
   "metadata": {},
   "outputs": [],
   "source": [
    "# pick a direction-selective cell and find its NWB file\n",
    "dsi_al_cell = dsi_al_cells.iloc[0]\n",
    "\n",
    "\n",
    "# figure out which ophys experiment has the drifting gratings stimulus for that cell\n",
    "cell_exp_1 = boc.get_ophys_experiments(cell_specimen_ids=[dsi_al_cell['cell_specimen_id']],\n",
    "                                     stimuli=[stim_info.DRIFTING_GRATINGS])[0]\n",
    "\n",
    "data_set_1 = boc.get_ophys_experiment_data(cell_exp_1['id'])\n",
    "\n",
    "print(\"Metadata from NWB file:\")\n",
    "pprint.pprint(data_set_1.get_metadata())\n",
    "\n",
    "print(\"stimuli available in this file:\")\n",
    "print(data_set_1.list_stimuli())\n",
    "\n",
    "dsi_al_cell = dsi_al_cells.iloc[0]"
   ]
  },
  {
   "cell_type": "markdown",
   "metadata": {},
   "source": [
    "### Handling Neuropixels data"
   ]
  },
  {
   "cell_type": "code",
   "execution_count": null,
   "metadata": {},
   "outputs": [],
   "source": [
    "visal_sessions = pd.DataFrame()\n",
    "\n",
    "for index, row in sessions.iterrows():\n",
    "    regions_list = row['ecephys_structure_acronyms']\n",
    "    for region in regions_list:\n",
    "        #print(region)\n",
    "        if region == 'VISal':\n",
    "            visal_sessions = visal_sessions.append(row)\n",
    "        \n",
    "print('VISal Sessions: ' + str(len(visal_sessions)))\n",
    "\n",
    "vispm_sessions = pd.DataFrame()\n",
    "\n",
    "for index, row in sessions.iterrows():\n",
    "    regions_list = row['ecephys_structure_acronyms']\n",
    "    for region in regions_list:\n",
    "        #print(region)\n",
    "        if region == 'VISpm':\n",
    "            vispm_sessions = vispm_sessions.append(row)\n",
    "            \n",
    "print('VISpm Sessions: ' + str(len(vispm_sessions)))"
   ]
  },
  {
   "cell_type": "markdown",
   "metadata": {},
   "source": [
    "### Determining Cre lines in the existing dataset for VISal and VISpm"
   ]
  },
  {
   "cell_type": "code",
   "execution_count": null,
   "metadata": {},
   "outputs": [],
   "source": [
    "Cre_lines_list = []\n",
    "for index, row in visal_sessions.iterrows():\n",
    "    if row['full_genotype'] not in Cre_lines_list:\n",
    "        Cre_lines_list.append(row['full_genotype'])\n",
    "\n",
    "print(Cre_lines_list)"
   ]
  },
  {
   "cell_type": "markdown",
   "metadata": {},
   "source": [
    "### Choosing a specific CRE line for the study: Vip-IRES-Cre/wt;Ai32(RCL-ChR2(H134R)_EYFP)/wt\n",
    "\n",
    "Vip-IRES-Cre mice have Cre recombinase expression directed to Vip-expressing cells by the endogenous promoter/enhancer elements of the vasoactive intestinal polypeptide locus. Cre activity is detected in the neocortex, hippocampus, olfactory bulb, suprachiasmatic nuclei, and other discrete midbrain and brainstem regions. These mice may be useful to study neural GABAergic circuits throughout the mammalian brain. \n",
    "\n",
    "Source: https://www.jax.org/strain/010908"
   ]
  },
  {
   "cell_type": "code",
   "execution_count": null,
   "metadata": {},
   "outputs": [],
   "source": [
    "vip_visal_sessions = visal_sessions[visal_sessions['full_genotype'] == \"Vip-IRES-Cre/wt;Ai32(RCL-ChR2(H134R)_EYFP)/wt\"]\n",
    "print('Vip-IRES-CRE VISal Sessions: ' + str(len(vip_visal_sessions)))\n",
    "\n",
    "vip_vispm_sessions = vispm_sessions[vispm_sessions['full_genotype'] == \"Vip-IRES-Cre/wt;Ai32(RCL-ChR2(H134R)_EYFP)/wt\"]\n",
    "print('Vip-IRES-CRE VISpm Sessions: ' + str(len(vip_vispm_sessions)))\n",
    "\n",
    "wt_visal_sessions = visal_sessions[visal_sessions['full_genotype'] == \"wt/wt\"]\n",
    "print('wildtype VISal Sessions: ' + str(len(vip_visal_sessions)))\n",
    "\n",
    "wt_vispm_sessions = vispm_sessions[vispm_sessions['full_genotype'] == \"wt/wt\"]\n",
    "print('wildtype VISpm Sessions: ' + str(len(wt_vispm_sessions)))"
   ]
  },
  {
   "cell_type": "markdown",
   "metadata": {},
   "source": [
    "### Handling Mouse connectivity Database"
   ]
  },
  {
   "cell_type": "code",
   "execution_count": null,
   "metadata": {},
   "outputs": [],
   "source": [
    "# open up a list of all of the experiments\n",
    "all_experiments = mcc.get_experiments(dataframe=True)\n",
    "print(\"There are %d total experiments on mouse connectivity\" % len(all_experiments))\n",
    "\n",
    "\n",
    "#VISpm_structures = structure_tree.get_structures_by_id('533')\n",
    "VISpm_acronym_list = ['VISpm', 'VISpm1', 'VISpm2/3', 'VISpm4', 'VISpm5', 'VISpm6a', 'VISpm6b']\n",
    "VISpm_acronym = structure_tree.get_structures_by_acronym(VISpm_acronym_list)\n",
    "print(\"There are %d total experiments on VISpm connectivity\" % len(VISpm_acronym))"
   ]
  },
  {
   "cell_type": "code",
   "execution_count": null,
   "metadata": {},
   "outputs": [],
   "source": [
    "summary_structures = structure_tree.get_structures_by_set_id([167587189])\n",
    "pd.DataFrame(summary_structures)\n",
    "print(len(summary_structures))"
   ]
  },
  {
   "cell_type": "code",
   "execution_count": null,
   "metadata": {},
   "outputs": [],
   "source": [
    "# fetch the experiments that have injections in the isocortex of cre-positive mice\n",
    "isocortex = structure_tree.get_structures_by_name(['Isocortex'])[0]\n",
    "cre_cortical_experiments = mcc.get_experiments(cre=True, \n",
    "                                                injection_structure_ids=[isocortex['id']])\n",
    "\n",
    "print(\"%d cre cortical experiments\" % len(cre_cortical_experiments))"
   ]
  },
  {
   "cell_type": "code",
   "execution_count": null,
   "metadata": {},
   "outputs": [],
   "source": [
    "VISal_acronym_list = ['VISal', 'VISal1', 'VISal2/3', 'VISal4', 'VISal5', 'VISal6a', 'VISal6b']\n",
    "VISal_acronym = structure_tree.get_structures_by_acronym(VISal_acronym_list)\n",
    "print\n",
    "print(len(VISal_acronym))\n",
    "#for visal_item in VISal_acronym_list:\n",
    "#    count = structure_tree.get_structures_by_acronym([visal_item])[0]\n",
    "#    visal_experiments = mcc.get_experiments(cre=True, \n",
    "#                                       injection_structure_ids=[count['id']])\n",
    "#    print(\"%d VISal experiments\" % len(visal_experiments))\n",
    "\n",
    "#visp = structure_tree.get_structures_by_acronym(['VISp'])[0]\n",
    "#visp_experiments = mcc.get_experiments(cre=False, \n",
    "#                                       injection_structure_ids=[visp['id']])\n",
    "\n",
    "#print(\"%d VISp experiments\" % len(visp_experiments))"
   ]
  },
  {
   "cell_type": "code",
   "execution_count": null,
   "metadata": {},
   "outputs": [],
   "source": [
    "#VISal_structures = structure_tree.get_structures_by_id('402')\n",
    "#print(\"There are %d total experiments on VISal connectivity\" % len(VISal_structures))\n",
    "#VISal_acronym_list = ['VISal', 'VISal1', 'VISal2/3', 'VISal4', 'VISal5', 'VISal6a', 'VISal6b']\n",
    "#VISal_acronym = structure_tree.get_structures_by_acronym(VISal_acronym_list)[1]\n",
    "#print(VISal_acronym)\n",
    "#print(\"There are %d total experiments on VISal connectivity\" % len(VISal_acronym))\n",
    "\n",
    "#find wild-type injections into AnterioLateral visual area\n",
    "visal = structure_tree.get_structures_by_acronym(['VISal'])[0]\n",
    "visal_experiments = mcc.get_experiments(cre=True, \n",
    "                                       injection_structure_ids=[visal['id']])\n",
    "\n",
    "print(\"%d VISal experiments\" % len(visal_experiments))\n",
    "\n",
    "al_structure_unionizes = mcc.get_structure_unionizes([ e['id'] for e in visal_experiments ], \n",
    "                                                  is_injection=False,\n",
    "                                                  structure_ids=[isocortex['id']],\n",
    "                                                  include_descendants=True)\n",
    "\n",
    "print(\"%d VISal non-injection, cortical structure unionizes\" % len(al_structure_unionizes))\n",
    "\n",
    "al_structure_unionizes.head()"
   ]
  },
  {
   "cell_type": "code",
   "execution_count": null,
   "metadata": {},
   "outputs": [],
   "source": [
    "dense_unionizes = al_structure_unionizes[ al_structure_unionizes.projection_density > .1 ]\n",
    "large_unionizes = dense_unionizes[ dense_unionizes.volume > .5 ]\n",
    "large_structures = pd.DataFrame(structure_tree.nodes(large_unionizes.structure_id))\n",
    "\n",
    "print(\"%d large, dense, cortical, non-injection unionizes, %d structures\" % ( len(large_unionizes), len(large_structures) ))\n",
    "\n",
    "print(large_structures.name)\n",
    "\n",
    "large_unionizes"
   ]
  },
  {
   "cell_type": "code",
   "execution_count": null,
   "metadata": {},
   "outputs": [],
   "source": [
    "# find wild-type injections into PosteriorMedial visual area\n",
    "vispm = structure_tree.get_structures_by_acronym(['VISpm'])[0]\n",
    "vispm_experiments = mcc.get_experiments(cre=True, \n",
    "                                       injection_structure_ids=[vispm['id']])\n",
    "\n",
    "print(\"%d VISpm experiments\" % len(vispm_experiments))\n",
    "\n",
    "pm_structure_unionizes = mcc.get_structure_unionizes([ e['id'] for e in vispm_experiments ], \n",
    "                                                  is_injection=False,\n",
    "                                                  structure_ids=[isocortex['id']],\n",
    "                                                  include_descendants=True)\n",
    "\n",
    "print(\"%d VISpm non-injection, cortical structure unionizes\" % len(pm_structure_unionizes))\n",
    "\n",
    "pm_structure_unionizes.head()"
   ]
  },
  {
   "cell_type": "code",
   "execution_count": null,
   "metadata": {},
   "outputs": [],
   "source": [
    "dense_unionizes = pm_structure_unionizes[ pm_structure_unionizes.projection_density > .1 ]\n",
    "large_unionizes = dense_unionizes[ dense_unionizes.volume > .5 ]\n",
    "large_structures = pd.DataFrame(structure_tree.nodes(large_unionizes.structure_id))\n",
    "\n",
    "print(\"%d large, dense, cortical, non-injection unionizes, %d structures\" % ( len(large_unionizes), len(large_structures) ))\n",
    "\n",
    "print(large_structures.name)\n",
    "\n",
    "large_unionizes"
   ]
  },
  {
   "cell_type": "markdown",
   "metadata": {},
   "source": [
    "## Data Analysis & Results"
   ]
  },
  {
   "cell_type": "markdown",
   "metadata": {},
   "source": [
    "Include cells that describe the steps in your data analysis."
   ]
  },
  {
   "cell_type": "markdown",
   "metadata": {},
   "source": [
    "### 1.1 Plotting compartive data between the genetic fold change of VISal and VISpm"
   ]
  },
  {
   "cell_type": "code",
   "execution_count": null,
   "metadata": {},
   "outputs": [],
   "source": [
    "# plotting the gene expression data through barplot\n",
    "fig, ax = plt.subplots(ncols = 2,figsize=(20,10))\n",
    "NL_VISal_plot= NL_VISal_pd_fold[NL_VISal_pd_fold[\"fold-change\"] > 2.7]\n",
    "NL_VISpm_plot = NL_VISpm_pd_fold[NL_VISpm_pd_fold[\"fold-change\"] > 2]\n",
    "\n",
    "\n",
    "print(\"Num of gene plotted for VISal: \" + str(len(NL_VISal_plot)))\n",
    "print(\"Num of gene plotted for VISpm: \" + str(len(NL_VISpm_plot)))\n",
    "\n",
    "ax1 = sns.barplot(x = \"gene-symbol\", y = \"fold-change\", data = NL_VISal_plot, ax = ax[0], color='#013ADF')\n",
    "ax1.set_xticklabels(labels = NL_VISal_plot['gene-symbol'], rotation=90)\n",
    "ax1.set_ylim(2.7,)\n",
    "ax1.set_title('Gene Expression of VISal area comparing to Primary Visual Cortex')\n",
    "\n",
    "custom_palette = sns.color_palette(\"RdGy\", 2)\n",
    "ax2 = sns.barplot(x = \"gene-symbol\", y = \"fold-change\", data = NL_VISpm_plot, ax = ax[1], color='#FE2E2E' )\n",
    "ax2.set_xticklabels(labels = NL_VISpm_plot['gene-symbol'], rotation=90)\n",
    "ax2.set_ylim(2,)\n",
    "ax2.set_title('Gene Expression of VISpm area comparing to Primary Visual Cortex')"
   ]
  },
  {
   "cell_type": "markdown",
   "metadata": {},
   "source": [
    "**Figure 1**: The plot on the left shows the two extremes of gene expression from RNA sequence in the anterolateral area (AL) compared to the posteromedial area (PM). The plot on the left compared gene expression  posteromedial area (PM) to the anterolateral area (AL)."
   ]
  },
  {
   "cell_type": "markdown",
   "metadata": {},
   "source": [
    "### 1.2 Further catergorizing the differential functional differences between VISal and VISPm using Gene Ontology"
   ]
  },
  {
   "cell_type": "markdown",
   "metadata": {},
   "source": [
    "Isolate Entrez of all the genes identified in the ISH data"
   ]
  },
  {
   "cell_type": "code",
   "execution_count": null,
   "metadata": {},
   "outputs": [],
   "source": [
    "entrez_alpm = pd.DataFrame(VISal_VISpm_pd[['entrez-id']])\n",
    "entrez_pmal = pd.DataFrame(VISpm_VISal_pd[['entrez-id']])\n",
    "NL_VISal_pd.sort_values(by=['fold-change'], ascending = False)\n",
    "NL_VISpm_pd.sort_values(by=['fold-change'], ascending = False)\n",
    "entrez_nlal = pd.DataFrame(NL_VISal_pd[['entrez-id']])\n",
    "entrez_nlpm = pd.DataFrame(NL_VISpm_pd[['entrez-id']])"
   ]
  },
  {
   "cell_type": "markdown",
   "metadata": {},
   "source": [
    "Export entrez ID to .csv format, for further analysis "
   ]
  },
  {
   "cell_type": "code",
   "execution_count": null,
   "metadata": {},
   "outputs": [],
   "source": [
    "entrez_alpm.to_csv(\"./entrez_alpm.csv\", sep=',',index=False)\n",
    "entrez_pmal.to_csv(\"./entrez_pmal.csv\", sep=',',index=False)\n",
    "entrez_nlal.to_csv(\"./entrez_nlal.csv\", sep=',',index=False)\n",
    "entrez_nlpm.to_csv(\"./entrez_nlpm.csv\", sep=',',index=False)"
   ]
  },
  {
   "cell_type": "code",
   "execution_count": null,
   "metadata": {},
   "outputs": [],
   "source": [
    "# Plotting electrophysiological data for the two areas with box plot/ Violin plot:\n",
    "# Resting potential\n",
    "fig, ax1 = plt.subplots(ncols = 1, figsize=(15,10))\n",
    "custom = [\"#013ADF\",\"#FE2E2E\"]\n",
    "\n",
    "sns.violinplot(y = 'Vrest', x = 'Brain Region', data = vrest, ax = ax1, palette = custom, orient = 'v')\n",
    "ax1.set_title('Resting Membrane Potential of VISal neurons comparing to VISpm neurons')\n",
    "ax1.set_ylabel('Resting Membrane Potential')"
   ]
  },
  {
   "cell_type": "markdown",
   "metadata": {},
   "source": [
    "**Figure 2**: There are similarities  in the range between the resting membrane potentials. The anterolateral area neurons' interquartile range ranges from -66 mV to -77 mV, while the resting membrane potential of the posteromedial area neuron's is -70 mV to -77 mV.\n"
   ]
  },
  {
   "cell_type": "markdown",
   "metadata": {},
   "source": [
    "### Looking into the electrophysiology data through PCA"
   ]
  },
  {
   "cell_type": "code",
   "execution_count": null,
   "metadata": {},
   "outputs": [],
   "source": [
    "visalpm_cov = visalpm_ephys.cov()\n",
    "plt.imshow(visalpm_cov)\n",
    "plt.colorbar()"
   ]
  },
  {
   "cell_type": "code",
   "execution_count": null,
   "metadata": {},
   "outputs": [],
   "source": [
    "#sns.pairplot(visalpm_ephys.loc[:, ephys_list_long_square], height=1.5)\n",
    "#plt.show()"
   ]
  },
  {
   "cell_type": "code",
   "execution_count": null,
   "metadata": {},
   "outputs": [],
   "source": [
    "pca = PCA(n_components = 5)            \n",
    "X_2D = pca.fit_transform(visalpm_ephys)   \n",
    "visalpm_ephys_name['PC1'] = X_2D[:,0]\n",
    "visalpm_ephys_name['PC2'] = X_2D[:,1]\n",
    "visalpm_ephys_name['PC3'] = X_2D[:,2]\n",
    "visalpm_ephys_name['PC4'] = X_2D[:,3]\n",
    "visalpm_ephys_name['PC5'] = X_2D[:,4]\n",
    "\n",
    "X_2D_ls = pca.fit_transform(visalpm_ephys.loc[:, ephys_list_long_square])   \n",
    "visalpm_ephys_name['ls_PC1'] = X_2D_ls[:,0]\n",
    "visalpm_ephys_name['ls_PC2'] = X_2D_ls[:,1]\n",
    "visalpm_ephys_name['ls_PC3'] = X_2D_ls[:,2]\n",
    "visalpm_ephys_name['ls_PC4'] = X_2D_ls[:,3]\n",
    "visalpm_ephys_name['ls_PC5'] = X_2D_ls[:,4]"
   ]
  },
  {
   "cell_type": "code",
   "execution_count": null,
   "metadata": {},
   "outputs": [],
   "source": [
    "sns.lmplot(\"PC1\", \"PC2\", hue ='Brain Region',col='Brain Region', data=visalpm_ephys_name, fit_reg=False)\n",
    "sns.lmplot(\"ls_PC1\", \"ls_PC2\", hue='Brain Region',col='Brain Region' , data=visalpm_ephys_name, fit_reg=False)"
   ]
  },
  {
   "cell_type": "code",
   "execution_count": null,
   "metadata": {},
   "outputs": [],
   "source": [
    "plt.figure(figsize = (5,5))\n",
    "\n",
    "\n",
    "plt.bar(al_pm_sig['Brain Region'], al_pm_sig['Count'], color = ['#013ADF', '#FE2E2E'])\n",
    "plt.bar(al_pm_d['Brain Region'], al_pm_d['Count'], color = ['#9ab8f9', '#ffd1d1'])\n",
    "plt.xticks(rotation=90)\n",
    "plt.legend()\n",
    "plt.title(\"Proportion of direction selective cells in VISal and VISpm\")\n",
    "plt.show()"
   ]
  },
  {
   "cell_type": "markdown",
   "metadata": {},
   "source": [
    "### Plots for Direction selective cells"
   ]
  },
  {
   "cell_type": "code",
   "execution_count": null,
   "metadata": {},
   "outputs": [],
   "source": []
  },
  {
   "cell_type": "markdown",
   "metadata": {},
   "source": [
    "### Projection Matrix of VISal cells and VISpm cells"
   ]
  },
  {
   "cell_type": "code",
   "execution_count": null,
   "metadata": {},
   "outputs": [],
   "source": [
    "import warnings\n",
    "warnings.filterwarnings('ignore')\n",
    "%matplotlib inline\n",
    "\n",
    "visal_experiment_ids = [ e['id'] for e in visal_experiments ]\n",
    "ctx_children = structure_tree.child_ids( [isocortex['id']] )[0]\n",
    "\n",
    "pm = mcc.get_projection_matrix(experiment_ids = visal_experiment_ids, \n",
    "                               projection_structure_ids = ctx_children,\n",
    "                               hemisphere_ids= [2], # right hemisphere, ipsilateral\n",
    "                               parameter = 'projection_density')\n",
    "\n",
    "row_labels = pm['rows'] # these are just experiment ids\n",
    "column_labels = [ c['label'] for c in pm['columns'] ] \n",
    "matrix = pm['matrix']\n",
    "\n",
    "fig, ax = plt.subplots(figsize=(15,10))\n",
    "heatmap = ax.pcolor(matrix, cmap=plt.cm.afmhot)\n",
    "\n",
    "# put the major ticks at the middle of each cell\n",
    "ax.set_xticks(np.arange(matrix.shape[1])+0.5, minor=False)\n",
    "ax.set_yticks(np.arange(matrix.shape[0])+0.5, minor=False)\n",
    "\n",
    "ax.set_xlim([0, matrix.shape[1]])\n",
    "ax.set_ylim([0, matrix.shape[0]])          \n",
    "\n",
    "# want a more natural, table-like display\n",
    "ax.set_xlabel('Brain Regions Acronyms', fontsize=16)\n",
    "ax.xaxis.set_label_position('top') \n",
    "ax.set_ylabel('Experiment Number', fontsize=16)\n",
    "ax.yaxis.set_label_position('left') \n",
    "ax.invert_yaxis()\n",
    "ax.xaxis.tick_top()\n",
    "\n",
    "ax.set_xticklabels(column_labels, minor=False)\n",
    "ax.set_yticklabels(row_labels, minor=False)\n",
    "fig.suptitle('Projection Matrix of VISal area', fontsize=20)\n",
    "plt.show()"
   ]
  },
  {
   "cell_type": "code",
   "execution_count": null,
   "metadata": {},
   "outputs": [],
   "source": [
    "import warnings\n",
    "warnings.filterwarnings('ignore')\n",
    "%matplotlib inline\n",
    "\n",
    "vispm_experiment_ids = [ e['id'] for e in vispm_experiments ]\n",
    "ctx_children = structure_tree.child_ids( [isocortex['id']] )[0]\n",
    "\n",
    "pm = mcc.get_projection_matrix(experiment_ids = vispm_experiment_ids, \n",
    "                               projection_structure_ids = ctx_children,\n",
    "                               hemisphere_ids= [2], # right hemisphere, ipsilateral\n",
    "                               parameter = 'projection_density')\n",
    "\n",
    "row_labels = pm['rows'] # these are just experiment ids\n",
    "column_labels = [ c['label'] for c in pm['columns'] ] \n",
    "matrix = pm['matrix']\n",
    "\n",
    "fig, ax = plt.subplots(figsize=(15,15))\n",
    "heatmap = ax.pcolor(matrix, cmap=plt.cm.afmhot)\n",
    "\n",
    "# put the major ticks at the middle of each cell\n",
    "ax.set_xticks(np.arange(matrix.shape[1])+0.5, minor=False)\n",
    "ax.set_yticks(np.arange(matrix.shape[0])+0.5, minor=False)\n",
    "\n",
    "ax.set_xlim([0, matrix.shape[1]])\n",
    "ax.set_ylim([0, matrix.shape[0]])          \n",
    "\n",
    "# want a more natural, table-like display\n",
    "ax.set_xlabel('Brain Regions Acronyms', fontsize=16)\n",
    "ax.xaxis.set_label_position('top') \n",
    "ax.set_ylabel('Experiment Number', fontsize=16)\n",
    "ax.yaxis.set_label_position('left') \n",
    "ax.invert_yaxis()\n",
    "ax.xaxis.tick_top()\n",
    "\n",
    "ax.set_xticklabels(column_labels, minor=False)\n",
    "ax.set_yticklabels(row_labels, minor=False)\n",
    "fig.suptitle('Projection Matrix of VISpm area', fontsize=20)\n",
    "\n",
    "\n",
    "plt.show()"
   ]
  },
  {
   "cell_type": "markdown",
   "metadata": {},
   "source": [
    "## **Conclusion & Discussion**\n",
    "When comparing the gene expression of VISpm to the VISal area, it is apparent that the genes Cacna 2D2, Aqp4, and AbcB6 are expressed much more in the VISpm area than in the VISal area. All three of these genes play an integral role in the transport of molecules and ions into and out of the cell. More specifically, Cacna 2D2 encodes for a subunit of the calcium channel complex that allows for calcium to flood into the cell, Aqp4 encodes for an aquaporin protein that allows for water to be selective allowed into the cell, and AbcB6 encodes an ATP transporter. We hypothesize that this abundance of transport genes in the VISpm point to the fact that these neurons are more active, as more transporters are required for neurons that transport molecules into/out of the cell. This gene expression data that has been collected may provide some insight as to why the findings of Anderman et al indicates that the VISpm is responsible for guiding behavior involving slow moving objects. This may be because when we observe slow moving stimuli, we are able to analyze the various attributes of the stimuli such as shape, color, and size and give it greater visual acuity, however we are not able to do so with fast moving stimuli. In order to analyze the various attributes of slow moving stimuli, we must have genes that will allow for the neurons that analyze slow moving stimuli to have greater activity. This is why the VISpm area contains the transporter coding genes: Cacna 2D2, Aqp4, and AbcB6 that will allow for the neurons in the VISpm area to be more active and functionally specialized in that it controls behavior in response to slow moving stimuli. On the other hand, the genes that were highly expressed in the VISal area in comparison to the VISpm area were genes that did not play a significant role in the visual system and perception, these genes were Enc1, Sbf1, and Rfx1.\n",
    "\n",
    "Moving on, when comparing the resting membrane potential of the VISal and VISpm areas, we find them to be similar. The anterolateral area neurons have a median resting membrane potential of -71mV, while the median resting membrane potential of the posteromedial area neurons are -72. Although the VISal and VISpm are functionally specialized in two different areas, they are both located within the visual cortex of the brain which is likely why the resting membrane potentials are so similar. The functional specialization of the neurons has not impacted the resting potentials of the neurons very much. \n",
    "\n",
    "Adding on to the electrophysiology of the VISal and VISpm areas, we observed that the trend between the fast trough depth vs. the upstroke-downstroke ratio of the two areas are very similar as well. The fast trough depth is the minimum value of the membrane potential in the interval lasting 5 ms after the peak, while the upstroke-downstroke ratio is the ratio between the absolute values of the action potential peak upstroke and the action potential peak downstroke. In both areas of the brain, we observed a positive correlation between these two variables. In other words, when the upstroke of the action potential is larger than the downstroke, then the neuron will be more depolarized up to 5ms after the peak. Once again, athough the VISal and VISpm are functionally specialized in two different areas, they are both located within the visual cortex of the brain which is likely why the trend of fast trough depth vs. the upstroke-downstroke ratio of the two areas are very similar.\n",
    "\n",
    "Finally, the anterolateral area and the posteromedial area of the visual cortex have a similar number of neurons that have a significant response to drifting gratings and a similar number of neurons that are direction selective. There are 7191 cells in the anterolateral area with 48.9% of them having a significant response to drifting gratings and 2.3% of them are direction selective. On the other hand, there are 7985 cells in the posterolateral visual area with 40.3% of them having a significant response to drifting gratings and 2.1% if them are direction selective.\n",
    "\n",
    "## **Limitations**\n",
    "In our experiment we only focused on mice. Although mice are good model organisms for the visual system, mice lack the cortical regions compared to humans and other primates. As a result, the result can not extrapolate visual processing for humans . For the violin plot (Figure 2), the differences in shape arises from the number of neurons; AL had less cells compared to PL . This finding will lead to the difference in shape. We only looked at electrophysical physiology properties and gene expression and did not look at connectivity to the V1. \n",
    "\n",
    "## **Future Direction**\n",
    "A future direction for this project is to look at the connectivity of these two regions.Connectivity could lead to functional specialization of a cortical region.  We need images from calcium imaging or fMRI to draw conclusions. We can look at the cre lines or a CRISPR knockout with genes highly expressed and barely expressed respectivley to see which one is linked to functional specialization of each regions. We need to data from single cells RNA sequence.\n"
   ]
  }
 ],
 "metadata": {
  "kernelspec": {
   "display_name": "Python 3",
   "language": "python",
   "name": "python3"
  },
  "language_info": {
   "codemirror_mode": {
    "name": "ipython",
    "version": 3
   },
   "file_extension": ".py",
   "mimetype": "text/x-python",
   "name": "python",
   "nbconvert_exporter": "python",
   "pygments_lexer": "ipython3",
   "version": "3.6.7"
  }
 },
 "nbformat": 4,
 "nbformat_minor": 2
}
